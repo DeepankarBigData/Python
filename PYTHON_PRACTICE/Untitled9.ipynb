{
 "cells": [
  {
   "cell_type": "markdown",
   "id": "0ec0586b",
   "metadata": {},
   "source": [
    "#### fibbonacci number"
   ]
  },
  {
   "cell_type": "code",
   "execution_count": 4,
   "id": "307f46a6",
   "metadata": {},
   "outputs": [
    {
     "name": "stdout",
     "output_type": "stream",
     "text": [
      "0\n",
      "1\n",
      "1\n",
      "2\n",
      "3\n",
      "5\n",
      "8\n",
      "13\n",
      "21\n",
      "34\n",
      "55\n",
      "89\n"
     ]
    }
   ],
   "source": [
    "a = 0\n",
    "b = 1\n",
    "\n",
    "print(a)\n",
    "print(b)\n",
    "c = 0\n",
    "while True:\n",
    "    c=a+b\n",
    "    if c >=100:\n",
    "        break\n",
    "    print(c)\n",
    "    a=b\n",
    "    b=c\n",
    "    "
   ]
  },
  {
   "cell_type": "markdown",
   "id": "d2f36c2f",
   "metadata": {},
   "source": [
    "#### range of prime number"
   ]
  },
  {
   "cell_type": "code",
   "execution_count": 16,
   "id": "ef1050f2",
   "metadata": {},
   "outputs": [
    {
     "name": "stdout",
     "output_type": "stream",
     "text": [
      "Enter a number 12\n",
      "2\n",
      "3\n",
      "5\n",
      "7\n",
      "11\n"
     ]
    }
   ],
   "source": [
    "inp = int(input(\"Enter a number \"))\n",
    "for i in range(2,inp):\n",
    "    count = 0\n",
    "    for j in range(1,i+1):\n",
    "        if i%j==0:\n",
    "            count+=1\n",
    "        \n",
    "    if count==2:\n",
    "        print(i)\n",
    "        "
   ]
  },
  {
   "cell_type": "code",
   "execution_count": null,
   "id": "545c7644",
   "metadata": {},
   "outputs": [],
   "source": []
  }
 ],
 "metadata": {
  "kernelspec": {
   "display_name": "Python 3 (ipykernel)",
   "language": "python",
   "name": "python3"
  },
  "language_info": {
   "codemirror_mode": {
    "name": "ipython",
    "version": 3
   },
   "file_extension": ".py",
   "mimetype": "text/x-python",
   "name": "python",
   "nbconvert_exporter": "python",
   "pygments_lexer": "ipython3",
   "version": "3.9.13"
  }
 },
 "nbformat": 4,
 "nbformat_minor": 5
}
