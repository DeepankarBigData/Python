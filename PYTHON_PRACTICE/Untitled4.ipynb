{
 "cells": [
  {
   "cell_type": "code",
   "execution_count": 10,
   "id": "a9249bec",
   "metadata": {},
   "outputs": [
    {
     "name": "stdout",
     "output_type": "stream",
     "text": [
      "The reversed string is -> nosrep suoiruc a si raknapeed\n"
     ]
    }
   ],
   "source": [
    "# how to reverse a string\n",
    "a = \"deepankar is a curious person\"\n",
    "output = a[::-1]\n",
    "print(\"The reversed string is ->\",output)\n",
    "\n"
   ]
  },
  {
   "cell_type": "code",
   "execution_count": 13,
   "id": "4765e883",
   "metadata": {},
   "outputs": [
    {
     "name": "stdout",
     "output_type": "stream",
     "text": [
      "nosrep suoegaruoc a si raknapeed"
     ]
    }
   ],
   "source": [
    "# another way\n",
    "\n",
    "a = \"deepankar is a courageous person\"\n",
    "b = reversed(a)\n",
    "for i in b:\n",
    "    print(i, end = \"\")"
   ]
  },
  {
   "cell_type": "code",
   "execution_count": 16,
   "id": "2c171cbb",
   "metadata": {},
   "outputs": [
    {
     "name": "stdout",
     "output_type": "stream",
     "text": [
      "nosrep suoegaruoc a si raknapeed\n"
     ]
    }
   ],
   "source": [
    "# another way\n",
    "a = \"deepankar is a courageous person\"\n",
    "b = reversed(a)\n",
    "c = \"\".join(b)\n",
    "print(c)"
   ]
  },
  {
   "cell_type": "code",
   "execution_count": 22,
   "id": "0def5371",
   "metadata": {},
   "outputs": [
    {
     "name": "stdout",
     "output_type": "stream",
     "text": [
      "a si raknapeed"
     ]
    }
   ],
   "source": [
    "# Dont use slicing and reversed function\n",
    "a = \"deepankar is a\"\n",
    "for i in range(len(a)-1,-1,-1):\n",
    "    print(a[i], end = \"\")"
   ]
  },
  {
   "cell_type": "code",
   "execution_count": 24,
   "id": "dd93e8a8",
   "metadata": {},
   "outputs": [
    {
     "name": "stdout",
     "output_type": "stream",
     "text": [
      "na si raknapeed\n"
     ]
    }
   ],
   "source": [
    "# Dont use Slicing and reversed function and use while loop\n",
    "\n",
    "a = \"deepankar is an\"\n",
    "out = \"\"\n",
    "i = len(a)-1\n",
    "while i>=0:\n",
    "    out = out+a[i]\n",
    "    i=i-1\n",
    "\n",
    "print(out)\n",
    "    "
   ]
  },
  {
   "cell_type": "code",
   "execution_count": null,
   "id": "34af176f",
   "metadata": {},
   "outputs": [],
   "source": []
  },
  {
   "cell_type": "code",
   "execution_count": 27,
   "id": "5b33eefa",
   "metadata": {},
   "outputs": [
    {
     "name": "stdout",
     "output_type": "stream",
     "text": [
      "Deepankar is a curious person\n",
      "person curious a is Deepankar "
     ]
    }
   ],
   "source": [
    "# write a program to reverse order of words ?\n",
    "a = \"Deepankar is a curious person\"\n",
    "print(a)\n",
    "b = a.split()\n",
    "z = list(reversed(b))\n",
    "for i in z:\n",
    "    print(i,end=\" \")"
   ]
  },
  {
   "cell_type": "code",
   "execution_count": 32,
   "id": "b23c8a42",
   "metadata": {},
   "outputs": [
    {
     "name": "stdout",
     "output_type": "stream",
     "text": [
      "raknapeed rawap enup "
     ]
    }
   ],
   "source": [
    "# write a program to reverse internal content of each word\n",
    "\n",
    "a = \"deepankar pawar pune\"\n",
    "z = a.split()\n",
    "for i in z:\n",
    "    print(i[::-1],end = \" \")\n",
    "   \n"
   ]
  },
  {
   "cell_type": "code",
   "execution_count": 47,
   "id": "aca650d6",
   "metadata": {},
   "outputs": [
    {
     "data": {
      "text/plain": [
       "'raknapeed rawap enup'"
      ]
     },
     "execution_count": 47,
     "metadata": {},
     "output_type": "execute_result"
    }
   ],
   "source": [
    "a = \"deepankar pawar pune\"\n",
    "b = a.split()\n",
    "c = []\n",
    "\n",
    "for i in b:\n",
    "    c.append(i[::-1])\n",
    "\n",
    "z = \" \".join(c)\n",
    "    \n",
    "z"
   ]
  },
  {
   "cell_type": "code",
   "execution_count": 71,
   "id": "59406613",
   "metadata": {},
   "outputs": [
    {
     "data": {
      "text/plain": [
       "'one owt three ruof'"
      ]
     },
     "execution_count": 71,
     "metadata": {},
     "output_type": "execute_result"
    }
   ],
   "source": [
    "# write a program to reverse internal content of every second word present in the given string\n",
    "\n",
    "a = \"one two three four\"\n",
    "h = []\n",
    "z = a.split()\n",
    "for i in range(0,len(z)):\n",
    "    if i%2==0:\n",
    "        h.append(z[i])\n",
    "    else:\n",
    "        h.append(z[i][::-1])\n",
    "        \n",
    "x = \" \".join(h)\n",
    "x"
   ]
  },
  {
   "cell_type": "code",
   "execution_count": 68,
   "id": "2eae09ff",
   "metadata": {},
   "outputs": [],
   "source": [
    "# write a program to print the characters present at even index and odd index separately for the given string\n",
    "a = \"deepankar pawar\"\n",
    "for i in range(0,len(a)):\n",
    "    if i%2==0:\n",
    "        print()"
   ]
  },
  {
   "cell_type": "code",
   "execution_count": null,
   "id": "c67a9c1d",
   "metadata": {},
   "outputs": [],
   "source": []
  }
 ],
 "metadata": {
  "kernelspec": {
   "display_name": "Python 3 (ipykernel)",
   "language": "python",
   "name": "python3"
  },
  "language_info": {
   "codemirror_mode": {
    "name": "ipython",
    "version": 3
   },
   "file_extension": ".py",
   "mimetype": "text/x-python",
   "name": "python",
   "nbconvert_exporter": "python",
   "pygments_lexer": "ipython3",
   "version": "3.9.13"
  }
 },
 "nbformat": 4,
 "nbformat_minor": 5
}
