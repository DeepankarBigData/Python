{
 "cells": [
  {
   "cell_type": "code",
   "execution_count": 6,
   "id": "2cc13496",
   "metadata": {},
   "outputs": [
    {
     "name": "stdout",
     "output_type": "stream",
     "text": [
      "0\n",
      "Deep   24\n",
      "1\n"
     ]
    }
   ],
   "source": [
    "class Person:\n",
    "    count = 0\n",
    "    def __init__(self,name,age):\n",
    "        self.name=name\n",
    "        self.age=age\n",
    "        \n",
    "    def getter(self):\n",
    "        print(self.name,\" \",self.age)\n",
    "        Person.count += 1\n",
    "        \n",
    "p = Person(\"Deep\",24)\n",
    "print(Person.count)\n",
    "p.getter()\n",
    "print(Person.count)    "
   ]
  },
  {
   "cell_type": "code",
   "execution_count": 7,
   "id": "badb6708",
   "metadata": {},
   "outputs": [],
   "source": [
    "# Inheritance"
   ]
  },
  {
   "cell_type": "code",
   "execution_count": 15,
   "id": "97f080eb",
   "metadata": {},
   "outputs": [],
   "source": [
    "class Animal:\n",
    "    def __init__(self,name):\n",
    "        self.name=name\n",
    "    \n",
    "    def dj(self):\n",
    "        print(f\"{self.name}\")\n",
    "     \n",
    "\n",
    "class Dog(Animal):\n",
    "    def dj(self):\n",
    "        print(f\"overidden method printed,{self.name}\")\n",
    "        \n",
    "    "
   ]
  },
  {
   "cell_type": "code",
   "execution_count": 16,
   "id": "b0169ea6",
   "metadata": {},
   "outputs": [
    {
     "name": "stdout",
     "output_type": "stream",
     "text": [
      "overidden method printed,deep\n"
     ]
    }
   ],
   "source": [
    "d = Dog(\"deep\")\n",
    "d.dj()"
   ]
  },
  {
   "cell_type": "code",
   "execution_count": null,
   "id": "768c8461",
   "metadata": {},
   "outputs": [],
   "source": [
    "\n",
    "\n",
    "\n",
    "\n",
    "\n",
    "\n"
   ]
  },
  {
   "cell_type": "code",
   "execution_count": 1,
   "id": "48108811",
   "metadata": {},
   "outputs": [
    {
     "name": "stdout",
     "output_type": "stream",
     "text": [
      "overriden method called\n"
     ]
    }
   ],
   "source": [
    "class A:\n",
    "    def __init__(self,name,age):\n",
    "        self.name = name\n",
    "        self.age = age\n",
    "    def gett(self):\n",
    "        print(f\"the name is {self.name} anf age is {slef.age}\")\n",
    "        \n",
    "class B(A):\n",
    "    def gett(self):\n",
    "        print(\"overriden method called\")\n",
    "        \n",
    "        \n",
    "obj = B('deep',24)\n",
    "obj.gett()\n",
    "\n",
    "\n",
    "        "
   ]
  },
  {
   "cell_type": "code",
   "execution_count": 11,
   "id": "75878cb3",
   "metadata": {},
   "outputs": [
    {
     "data": {
      "text/plain": [
       "'dj'"
      ]
     },
     "execution_count": 11,
     "metadata": {},
     "output_type": "execute_result"
    }
   ],
   "source": [
    "# encapuslation\n",
    "\n",
    "class abc:\n",
    "    def __init__(self,name,age):\n",
    "        self._name=name\n",
    "        self.age=age\n",
    "    \n",
    "    def getter(self):\n",
    "        print(f\"the name is {self.name} and age is {self.age}\")\n",
    "    \n",
    "\n",
    "class B(abc):\n",
    "    pass\n",
    "\n",
    "obj = abc('dj',24)\n",
    "obj1 = B('dj',24)\n",
    "# obj.getter()\n",
    "obj._name"
   ]
  },
  {
   "cell_type": "code",
   "execution_count": null,
   "id": "81c741c3",
   "metadata": {},
   "outputs": [],
   "source": []
  },
  {
   "cell_type": "code",
   "execution_count": 12,
   "id": "90c87f93",
   "metadata": {},
   "outputs": [
    {
     "name": "stdout",
     "output_type": "stream",
     "text": [
      "Max\n"
     ]
    }
   ],
   "source": [
    "class Animal:\n",
    "    def __init__(self, name, age):\n",
    "        self._name = name\n",
    "        self._age = age\n",
    "\n",
    "    def make_sound(self):\n",
    "        pass  # This is an abstract method that will be implemented in the subclasses\n",
    "\n",
    "\n",
    "class Dog(Animal):\n",
    "    def __init__(self, name, age):\n",
    "        super().__init__(name, age)\n",
    "\n",
    "    def make_sound(self):\n",
    "        print(\"Woof!\")\n",
    "\n",
    "    def set_name(self, name):\n",
    "        self._name = name  # Accessing the protected member variable '_name' in the base class\n",
    "\n",
    "\n",
    "my_dog = Dog(\"Buddy\", 3)\n",
    "my_dog.set_name(\"Max\")  # This is allowed because 'set_name' is a member function of the subclass 'Dog', which has access to the protected member '_name'\n",
    "print(my_dog._name)  # This is not recommended, but allowed because 'name' is a protected member of the base class 'Animal'\n"
   ]
  },
  {
   "cell_type": "markdown",
   "id": "3220f29a",
   "metadata": {},
   "source": [
    "Protected members of a class are accessible from within the class and are also available to \n",
    "its sub-classes. No other environment is permitted access to it.\n",
    "This enables specific resources of the parent class to be inherited by the child class.\n",
    "\n",
    "In this example, the Animal class has two protected member variables _name and _age. \n",
    "These variables can be accessed within the Animal\n",
    "class as well as any subclasses of Animal, such as Dog. \n",
    "However, these variables can also be accessed from outside the \n",
    "class hierarchy if the code explicitly refers to them.\n",
    "\n",
    "Note that the use of protected members is based on convention in Python, and it's up to \n",
    "the programmer to respect the convention and not access protected members \n",
    "from outside the class hierarchy.\n",
    "\n",
    "\n",
    "if you want to do so like **print(my_dog._name)** then make it public"
   ]
  },
  {
   "cell_type": "code",
   "execution_count": 13,
   "id": "e50f23ab",
   "metadata": {},
   "outputs": [
    {
     "name": "stdout",
     "output_type": "stream",
     "text": [
      "The name is sudanshu\n",
      "sudanshu\n"
     ]
    }
   ],
   "source": [
    "class A:\n",
    "    def __init__(self,name,age):\n",
    "        self._name = name\n",
    "        self.age  = age\n",
    "        \n",
    "    def fun(self):\n",
    "        print(f\"The name is {self._name}\")\n",
    "\n",
    "class B(A):\n",
    "    def fun(self):\n",
    "        self._name= \"sudanshu\"\n",
    "        print(f\"The name is {self._name}\")\n",
    "              \n",
    "# a = A(\"deep\",24)\n",
    "# a.fun()\n",
    "b = B(\"deep\",24)\n",
    "b.fun()\n",
    "\n",
    "print(b._name)  \n",
    "# this is not recommended\n",
    " \n",
    "#  only the child class can override and not any other"
   ]
  },
  {
   "cell_type": "code",
   "execution_count": 14,
   "id": "7ac4c4fc",
   "metadata": {},
   "outputs": [
    {
     "data": {
      "text/plain": [
       "['__class__',\n",
       " '__delattr__',\n",
       " '__dict__',\n",
       " '__dir__',\n",
       " '__doc__',\n",
       " '__eq__',\n",
       " '__format__',\n",
       " '__ge__',\n",
       " '__getattribute__',\n",
       " '__gt__',\n",
       " '__hash__',\n",
       " '__init__',\n",
       " '__init_subclass__',\n",
       " '__le__',\n",
       " '__lt__',\n",
       " '__module__',\n",
       " '__ne__',\n",
       " '__new__',\n",
       " '__reduce__',\n",
       " '__reduce_ex__',\n",
       " '__repr__',\n",
       " '__setattr__',\n",
       " '__sizeof__',\n",
       " '__str__',\n",
       " '__subclasshook__',\n",
       " '__weakref__',\n",
       " '_name',\n",
       " 'age',\n",
       " 'fun']"
      ]
     },
     "execution_count": 14,
     "metadata": {},
     "output_type": "execute_result"
    }
   ],
   "source": [
    "dir(b)"
   ]
  },
  {
   "cell_type": "code",
   "execution_count": 20,
   "id": "47a19046",
   "metadata": {},
   "outputs": [
    {
     "ename": "AttributeError",
     "evalue": "'B' object has no attribute '_B__name'",
     "output_type": "error",
     "traceback": [
      "\u001b[1;31m---------------------------------------------------------------------------\u001b[0m",
      "\u001b[1;31mAttributeError\u001b[0m                            Traceback (most recent call last)",
      "\u001b[1;32m~\\AppData\\Local\\Temp\\ipykernel_11056\\2163951956.py\u001b[0m in \u001b[0;36m<module>\u001b[1;34m\u001b[0m\n\u001b[0;32m     14\u001b[0m \u001b[1;33m\u001b[0m\u001b[0m\n\u001b[0;32m     15\u001b[0m \u001b[0mb\u001b[0m \u001b[1;33m=\u001b[0m \u001b[0mB\u001b[0m\u001b[1;33m(\u001b[0m\u001b[1;34m\"deep\"\u001b[0m\u001b[1;33m,\u001b[0m\u001b[1;36m24\u001b[0m\u001b[1;33m)\u001b[0m\u001b[1;33m\u001b[0m\u001b[1;33m\u001b[0m\u001b[0m\n\u001b[1;32m---> 16\u001b[1;33m \u001b[0mb\u001b[0m\u001b[1;33m.\u001b[0m\u001b[0mfun\u001b[0m\u001b[1;33m(\u001b[0m\u001b[1;33m)\u001b[0m\u001b[1;33m\u001b[0m\u001b[1;33m\u001b[0m\u001b[0m\n\u001b[0m\u001b[0;32m     17\u001b[0m \u001b[1;33m\u001b[0m\u001b[0m\n\u001b[0;32m     18\u001b[0m \u001b[1;31m# b.__name\u001b[0m\u001b[1;33m\u001b[0m\u001b[1;33m\u001b[0m\u001b[0m\n",
      "\u001b[1;32m~\\AppData\\Local\\Temp\\ipykernel_11056\\2163951956.py\u001b[0m in \u001b[0;36mfun\u001b[1;34m(self)\u001b[0m\n\u001b[0;32m     10\u001b[0m     \u001b[1;32mdef\u001b[0m \u001b[0mfun\u001b[0m\u001b[1;33m(\u001b[0m\u001b[0mself\u001b[0m\u001b[1;33m)\u001b[0m\u001b[1;33m:\u001b[0m\u001b[1;33m\u001b[0m\u001b[1;33m\u001b[0m\u001b[0m\n\u001b[0;32m     11\u001b[0m \u001b[1;31m#         name= \"sudanshu\"\u001b[0m\u001b[1;33m\u001b[0m\u001b[1;33m\u001b[0m\u001b[0m\n\u001b[1;32m---> 12\u001b[1;33m         \u001b[0mprint\u001b[0m\u001b[1;33m(\u001b[0m\u001b[1;34mf\"The name is {self.__name}\"\u001b[0m\u001b[1;33m)\u001b[0m\u001b[1;33m\u001b[0m\u001b[1;33m\u001b[0m\u001b[0m\n\u001b[0m\u001b[0;32m     13\u001b[0m \u001b[1;33m\u001b[0m\u001b[0m\n\u001b[0;32m     14\u001b[0m \u001b[1;33m\u001b[0m\u001b[0m\n",
      "\u001b[1;31mAttributeError\u001b[0m: 'B' object has no attribute '_B__name'"
     ]
    }
   ],
   "source": [
    "class A:\n",
    "    def __init__(self,name,age):\n",
    "        self.__name = name\n",
    "        self.age  = age\n",
    "        \n",
    "    def fun(self):\n",
    "        print(f\"The name is {self.__name}\")\n",
    "\n",
    "class B(A):\n",
    "    def fun(self):\n",
    "#         name= \"sudanshu\"\n",
    "        print(f\"The name is {self.__name}\")\n",
    "              \n",
    "\n",
    "b = B(\"deep\",24)\n",
    "b.fun()\n",
    "\n",
    "# b.__name  \n"
   ]
  },
  {
   "cell_type": "markdown",
   "id": "8def7488",
   "metadata": {},
   "source": [
    "### Operator Overloading\n"
   ]
  },
  {
   "cell_type": "code",
   "execution_count": 29,
   "id": "fef16747",
   "metadata": {},
   "outputs": [
    {
     "ename": "TypeError",
     "evalue": "unsupported operand type(s) for +: 'A' and 'A'",
     "output_type": "error",
     "traceback": [
      "\u001b[1;31m---------------------------------------------------------------------------\u001b[0m",
      "\u001b[1;31mTypeError\u001b[0m                                 Traceback (most recent call last)",
      "\u001b[1;32m~\\AppData\\Local\\Temp\\ipykernel_11056\\2198280727.py\u001b[0m in \u001b[0;36m<module>\u001b[1;34m\u001b[0m\n\u001b[0;32m     10\u001b[0m \u001b[0mo\u001b[0m \u001b[1;33m=\u001b[0m \u001b[0mA\u001b[0m\u001b[1;33m(\u001b[0m\u001b[1;34m\"data\"\u001b[0m\u001b[1;33m)\u001b[0m\u001b[1;33m\u001b[0m\u001b[1;33m\u001b[0m\u001b[0m\n\u001b[0;32m     11\u001b[0m \u001b[0mb\u001b[0m \u001b[1;33m=\u001b[0m \u001b[0mA\u001b[0m\u001b[1;33m(\u001b[0m\u001b[1;34m'Analyst'\u001b[0m\u001b[1;33m)\u001b[0m\u001b[1;33m\u001b[0m\u001b[1;33m\u001b[0m\u001b[0m\n\u001b[1;32m---> 12\u001b[1;33m \u001b[0mprint\u001b[0m\u001b[1;33m(\u001b[0m\u001b[0mo\u001b[0m\u001b[1;33m+\u001b[0m\u001b[0mb\u001b[0m\u001b[1;33m)\u001b[0m\u001b[1;33m\u001b[0m\u001b[1;33m\u001b[0m\u001b[0m\n\u001b[0m",
      "\u001b[1;31mTypeError\u001b[0m: unsupported operand type(s) for +: 'A' and 'A'"
     ]
    }
   ],
   "source": [
    "class A:\n",
    "    def __init__(self,a):\n",
    "        self.a = a\n",
    "        \n",
    "        \n",
    "#     def __add__(self,other):\n",
    "#         print(self.a + other.a)\n",
    "    \n",
    "\n",
    "o = A(\"data\")\n",
    "b = A('Analyst')\n",
    "print(o+b)"
   ]
  },
  {
   "cell_type": "code",
   "execution_count": 36,
   "id": "0945b8e4",
   "metadata": {},
   "outputs": [
    {
     "name": "stdout",
     "output_type": "stream",
     "text": [
      "Data\n",
      "Analyst\n"
     ]
    }
   ],
   "source": [
    "class A:\n",
    "    def __init__(self,pages):\n",
    "        self.pages = pages\n",
    "        \n",
    "# overidding the __add__ method in our class        \n",
    "    def __add__(self,other):\n",
    "        return self.pages + other.pages\n",
    "    \n",
    "\n",
    "o = A(\"Data\")\n",
    "b = A(\"Analyst\")\n",
    "# print(o+b)\n",
    "# internally __add__(o,b) is getting invoked by PVM.\n",
    "\n",
    "print(o.pages)\n",
    "print(b.pages)\n",
    "# o -> self.pages = \"Data\"\n",
    "# b -> self.pages = \"Analyst\""
   ]
  },
  {
   "cell_type": "code",
   "execution_count": 54,
   "id": "1b819c23",
   "metadata": {},
   "outputs": [
    {
     "name": "stdout",
     "output_type": "stream",
     "text": [
      "The name is Deepankar and deposit is 50000000 and his age is 24\n",
      "the adhar number is 9812346748\n"
     ]
    }
   ],
   "source": [
    "from abc import ABC,abstractmethod\n",
    "\n",
    "class RBI(ABC):\n",
    "    @abstractmethod\n",
    "    def deposit(self,name,age):\n",
    "        pass\n",
    " \n",
    "class SBI(RBI):\n",
    "    def __init__(self):\n",
    "        self.age = 24\n",
    "    def deposit(self,name,amt):\n",
    "        return f\"The name is {name} and deposit is {amt} and his age is {self.age}\"\n",
    "    def adharupdate(self,adhno):\n",
    "        return f\"the adhar number is {adhno}\"\n",
    "    \n",
    "\n",
    "obj = SBI()  \n",
    "print(obj.deposit('Deepankar',50000000))\n",
    "print(obj.adharupdate(9812346748))\n",
    "\n",
    "\n",
    "\n",
    "# why self is needed in deposit ?\n",
    "\n",
    "# -> because it is an instance method "
   ]
  },
  {
   "cell_type": "markdown",
   "id": "4a197dd2",
   "metadata": {},
   "source": [
    "In Python, a module is a file containing Python definitions and statements. \n",
    "It can define functions, classes, variables, and other objects that can be used in \n",
    "other Python scripts or modules. A module is typically used to organize related pieces \n",
    "of functionality into a single, reusable unit. To use a module in your Python code, you\n",
    "typically import it using the import statement."
   ]
  },
  {
   "cell_type": "markdown",
   "id": "0b15a459",
   "metadata": {},
   "source": [
    "When you call the deposit method on an instance of the SBI class, Python automatically\n",
    "passes the instance itself as the self parameter. This allows the method to access other\n",
    "instance variables or methods of the object, if needed."
   ]
  },
  {
   "cell_type": "code",
   "execution_count": 59,
   "id": "d0c5caa1",
   "metadata": {},
   "outputs": [
    {
     "name": "stdout",
     "output_type": "stream",
     "text": [
      "1\n"
     ]
    }
   ],
   "source": [
    "gen = (i for i in range(1,10))\n",
    "print(next(gen))"
   ]
  },
  {
   "cell_type": "code",
   "execution_count": 60,
   "id": "486d0906",
   "metadata": {},
   "outputs": [
    {
     "name": "stdout",
     "output_type": "stream",
     "text": [
      "2\n"
     ]
    }
   ],
   "source": [
    "print(next(gen))"
   ]
  },
  {
   "cell_type": "code",
   "execution_count": 61,
   "id": "c09ff86f",
   "metadata": {},
   "outputs": [],
   "source": [
    "def mygen():\n",
    "    yield 1\n",
    "g = mygen()\n",
    "print(next(g))"
   ]
  },
  {
   "cell_type": "code",
   "execution_count": 62,
   "id": "a16ada68",
   "metadata": {},
   "outputs": [],
   "source": [
    "\n"
   ]
  },
  {
   "cell_type": "code",
   "execution_count": 63,
   "id": "00b4148b",
   "metadata": {},
   "outputs": [
    {
     "name": "stdout",
     "output_type": "stream",
     "text": [
      "1\n"
     ]
    }
   ],
   "source": []
  },
  {
   "cell_type": "code",
   "execution_count": 64,
   "id": "5e756818",
   "metadata": {},
   "outputs": [
    {
     "ename": "StopIteration",
     "evalue": "",
     "output_type": "error",
     "traceback": [
      "\u001b[1;31m---------------------------------------------------------------------------\u001b[0m",
      "\u001b[1;31mStopIteration\u001b[0m                             Traceback (most recent call last)",
      "\u001b[1;32m~\\AppData\\Local\\Temp\\ipykernel_11056\\4253931490.py\u001b[0m in \u001b[0;36m<module>\u001b[1;34m\u001b[0m\n\u001b[1;32m----> 1\u001b[1;33m \u001b[0mnext\u001b[0m\u001b[1;33m(\u001b[0m\u001b[0mg\u001b[0m\u001b[1;33m)\u001b[0m\u001b[1;33m\u001b[0m\u001b[1;33m\u001b[0m\u001b[0m\n\u001b[0m",
      "\u001b[1;31mStopIteration\u001b[0m: "
     ]
    }
   ],
   "source": [
    "next(g)"
   ]
  },
  {
   "cell_type": "code",
   "execution_count": 2,
   "id": "953cc8c0",
   "metadata": {},
   "outputs": [
    {
     "ename": "TypeError",
     "evalue": "'int' object is not an iterator",
     "output_type": "error",
     "traceback": [
      "\u001b[1;31m---------------------------------------------------------------------------\u001b[0m",
      "\u001b[1;31mTypeError\u001b[0m                                 Traceback (most recent call last)",
      "\u001b[1;32m~\\AppData\\Local\\Temp\\ipykernel_16648\\1027026433.py\u001b[0m in \u001b[0;36m<module>\u001b[1;34m\u001b[0m\n\u001b[0;32m      1\u001b[0m \u001b[1;32mfor\u001b[0m \u001b[0mi\u001b[0m \u001b[1;32min\u001b[0m \u001b[0mrange\u001b[0m\u001b[1;33m(\u001b[0m\u001b[1;36m0\u001b[0m\u001b[1;33m,\u001b[0m\u001b[1;36m10000000000000000000000000000000000000000000000000000000000000\u001b[0m\u001b[1;33m)\u001b[0m\u001b[1;33m:\u001b[0m\u001b[1;33m\u001b[0m\u001b[1;33m\u001b[0m\u001b[0m\n\u001b[1;32m----> 2\u001b[1;33m     \u001b[0mprint\u001b[0m\u001b[1;33m(\u001b[0m\u001b[0mnext\u001b[0m\u001b[1;33m(\u001b[0m\u001b[0mi\u001b[0m\u001b[1;33m)\u001b[0m\u001b[1;33m)\u001b[0m\u001b[1;33m\u001b[0m\u001b[1;33m\u001b[0m\u001b[0m\n\u001b[0m",
      "\u001b[1;31mTypeError\u001b[0m: 'int' object is not an iterator"
     ]
    }
   ],
   "source": [
    "for i in range(0,1000000):\n",
    "    print(next(i))"
   ]
  },
  {
   "cell_type": "code",
   "execution_count": 3,
   "id": "2eaf8ea4",
   "metadata": {},
   "outputs": [
    {
     "name": "stdout",
     "output_type": "stream",
     "text": [
      "1\n"
     ]
    }
   ],
   "source": [
    "def mygen():\n",
    "    for i in range(1,10):\n",
    "        yield i\n",
    "        \n",
    "        \n",
    "d = mygen()\n",
    "print(next(d))"
   ]
  },
  {
   "cell_type": "code",
   "execution_count": null,
   "id": "ef0352ff",
   "metadata": {},
   "outputs": [],
   "source": []
  }
 ],
 "metadata": {
  "kernelspec": {
   "display_name": "Python 3 (ipykernel)",
   "language": "python",
   "name": "python3"
  },
  "language_info": {
   "codemirror_mode": {
    "name": "ipython",
    "version": 3
   },
   "file_extension": ".py",
   "mimetype": "text/x-python",
   "name": "python",
   "nbconvert_exporter": "python",
   "pygments_lexer": "ipython3",
   "version": "3.9.13"
  }
 },
 "nbformat": 4,
 "nbformat_minor": 5
}
