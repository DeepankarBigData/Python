{
 "cells": [
  {
   "cell_type": "markdown",
   "id": "4d79cd0a",
   "metadata": {},
   "source": [
    "### static variable"
   ]
  },
  {
   "cell_type": "code",
   "execution_count": 31,
   "id": "9d6fa01c",
   "metadata": {},
   "outputs": [
    {
     "name": "stdout",
     "output_type": "stream",
     "text": [
      "234\n",
      "{'__module__': '__main__', 'a': 234, '__init__': <function Test.__init__ at 0x0000021EECB5F4C0>, 'getter': <function Test.getter at 0x0000021EECB5F5E0>, '__dict__': <attribute '__dict__' of 'Test' objects>, '__weakref__': <attribute '__weakref__' of 'Test' objects>, '__doc__': None}\n"
     ]
    }
   ],
   "source": [
    "class Test:\n",
    "    a = 10\n",
    "    def __init__(self):\n",
    "        pass\n",
    "        \n",
    "    def getter(self):\n",
    "        pass\n",
    "    \n",
    "d = Test()\n",
    "f = Test()\n",
    "Test.a=234\n",
    "print(f.a)\n",
    "\n",
    "print(Test.__dict__)"
   ]
  },
  {
   "cell_type": "code",
   "execution_count": 34,
   "id": "2cc13496",
   "metadata": {},
   "outputs": [
    {
     "name": "stdout",
     "output_type": "stream",
     "text": [
      "0\n",
      "Deep   24\n",
      "1\n"
     ]
    }
   ],
   "source": [
    "class Person:\n",
    "    count = 0\n",
    "    def __init__(self,name,age):\n",
    "        self.name=name\n",
    "        self.age=age\n",
    "        \n",
    "    def getter(self):\n",
    "        print(self.name,\" \",self.age)\n",
    "        Person.count += 1\n",
    "        \n",
    "p = Person(\"Deep\",24)\n",
    "q = Person(\"D\",240)\n",
    "print(Person.count)\n",
    "p.getter()\n",
    "print(Person.count)    "
   ]
  },
  {
   "cell_type": "code",
   "execution_count": 4,
   "id": "71719f2d",
   "metadata": {},
   "outputs": [
    {
     "name": "stdout",
     "output_type": "stream",
     "text": [
      "D   24\n"
     ]
    }
   ],
   "source": [
    "q.getter()"
   ]
  },
  {
   "cell_type": "code",
   "execution_count": 7,
   "id": "badb6708",
   "metadata": {},
   "outputs": [],
   "source": [
    "# Inheritance"
   ]
  },
  {
   "cell_type": "code",
   "execution_count": 15,
   "id": "97f080eb",
   "metadata": {},
   "outputs": [],
   "source": [
    "class Animal:\n",
    "    def __init__(self,name):\n",
    "        self.name=name\n",
    "    \n",
    "    def dj(self):\n",
    "        print(f\"{self.name}\")\n",
    "     \n",
    "\n",
    "class Dog(Animal):\n",
    "    def dj(self):\n",
    "        print(f\"overidden method printed,{self.name}\")\n",
    "        \n",
    "    "
   ]
  },
  {
   "cell_type": "code",
   "execution_count": 16,
   "id": "b0169ea6",
   "metadata": {},
   "outputs": [
    {
     "name": "stdout",
     "output_type": "stream",
     "text": [
      "overidden method printed,deep\n"
     ]
    }
   ],
   "source": [
    "d = Dog(\"deep\")\n",
    "d.dj()"
   ]
  },
  {
   "cell_type": "code",
   "execution_count": 41,
   "id": "768c8461",
   "metadata": {},
   "outputs": [
    {
     "name": "stdout",
     "output_type": "stream",
     "text": [
      "78 veep\n"
     ]
    }
   ],
   "source": [
    "class Animal:\n",
    "    def __init__(self,a,age):\n",
    "        self.a=a\n",
    "        self.age=age\n",
    "        \n",
    "    def get(self):\n",
    "        print(self.age,self.a)\n",
    "        \n",
    "        \n",
    "class dog(Animal):\n",
    "    def get(self,):\n",
    "        print(self.age,self.a)\n",
    "        \n",
    "    \n",
    "A = Animal('veep',78)\n",
    "d = dog(\"deep\",45)\n",
    "A.get()\n",
    "    "
   ]
  },
  {
   "cell_type": "code",
   "execution_count": null,
   "id": "d4d09309",
   "metadata": {},
   "outputs": [],
   "source": []
  }
 ],
 "metadata": {
  "kernelspec": {
   "display_name": "Python 3 (ipykernel)",
   "language": "python",
   "name": "python3"
  },
  "language_info": {
   "codemirror_mode": {
    "name": "ipython",
    "version": 3
   },
   "file_extension": ".py",
   "mimetype": "text/x-python",
   "name": "python",
   "nbconvert_exporter": "python",
   "pygments_lexer": "ipython3",
   "version": "3.9.13"
  }
 },
 "nbformat": 4,
 "nbformat_minor": 5
}
