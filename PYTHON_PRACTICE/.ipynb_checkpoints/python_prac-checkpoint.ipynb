{
 "cells": [
  {
   "cell_type": "markdown",
   "id": "543378c3",
   "metadata": {},
   "source": [
    "## PYTHON\n"
   ]
  },
  {
   "cell_type": "markdown",
   "id": "3c325470",
   "metadata": {},
   "source": [
    "# Identifiers"
   ]
  },
  {
   "cell_type": "code",
   "execution_count": 2,
   "id": "c4f3601f",
   "metadata": {},
   "outputs": [
    {
     "data": {
      "text/plain": [
       "30"
      ]
     },
     "execution_count": 2,
     "metadata": {},
     "output_type": "execute_result"
    }
   ],
   "source": [
    "cash  =  30\n",
    "cash"
   ]
  },
  {
   "cell_type": "code",
   "execution_count": 4,
   "id": "6bd9f6c4",
   "metadata": {},
   "outputs": [
    {
     "data": {
      "text/plain": [
       "30"
      ]
     },
     "execution_count": 4,
     "metadata": {},
     "output_type": "execute_result"
    }
   ],
   "source": [
    "cas_h = 30\n",
    "cas_h"
   ]
  },
  {
   "cell_type": "code",
   "execution_count": 7,
   "id": "d3a3ffa3",
   "metadata": {},
   "outputs": [
    {
     "ename": "SyntaxError",
     "evalue": "invalid syntax (2305960525.py, line 1)",
     "output_type": "error",
     "traceback": [
      "\u001b[1;36m  File \u001b[1;32m\"C:\\Users\\pawar\\AppData\\Local\\Temp\\ipykernel_17584\\2305960525.py\"\u001b[1;36m, line \u001b[1;32m1\u001b[0m\n\u001b[1;33m    12cas = 35\u001b[0m\n\u001b[1;37m      ^\u001b[0m\n\u001b[1;31mSyntaxError\u001b[0m\u001b[1;31m:\u001b[0m invalid syntax\n"
     ]
    }
   ],
   "source": [
    "12cas = 35\n",
    "12cas\n",
    "#identifiers never starts with numbers"
   ]
  },
  {
   "cell_type": "code",
   "execution_count": 6,
   "id": "f27e0174",
   "metadata": {},
   "outputs": [
    {
     "data": {
      "text/plain": [
       "23"
      ]
     },
     "execution_count": 6,
     "metadata": {},
     "output_type": "execute_result"
    }
   ],
   "source": [
    "cas12 = 23\n",
    "cas12"
   ]
  },
  {
   "cell_type": "code",
   "execution_count": 11,
   "id": "78cc3178",
   "metadata": {},
   "outputs": [
    {
     "ename": "NameError",
     "evalue": "name 'to' is not defined",
     "output_type": "error",
     "traceback": [
      "\u001b[1;31m---------------------------------------------------------------------------\u001b[0m",
      "\u001b[1;31mNameError\u001b[0m                                 Traceback (most recent call last)",
      "\u001b[1;32m~\\AppData\\Local\\Temp\\ipykernel_17584\\2828110567.py\u001b[0m in \u001b[0;36m<module>\u001b[1;34m\u001b[0m\n\u001b[0;32m      1\u001b[0m \u001b[0mTo\u001b[0m \u001b[1;33m=\u001b[0m \u001b[1;36m36\u001b[0m\u001b[1;33m\u001b[0m\u001b[1;33m\u001b[0m\u001b[0m\n\u001b[1;32m----> 2\u001b[1;33m \u001b[0mto\u001b[0m\u001b[1;33m\u001b[0m\u001b[1;33m\u001b[0m\u001b[0m\n\u001b[0m\u001b[0;32m      3\u001b[0m \u001b[1;31m# Python is case sensitive\u001b[0m\u001b[1;33m\u001b[0m\u001b[1;33m\u001b[0m\u001b[0m\n",
      "\u001b[1;31mNameError\u001b[0m: name 'to' is not defined"
     ]
    }
   ],
   "source": [
    "To = 36\n",
    "to\n",
    "# Python is case sensitive(use To)"
   ]
  },
  {
   "cell_type": "code",
   "execution_count": 12,
   "id": "35c68f6a",
   "metadata": {},
   "outputs": [
    {
     "data": {
      "text/plain": [
       "True"
      ]
     },
     "execution_count": 12,
     "metadata": {},
     "output_type": "execute_result"
    }
   ],
   "source": [
    "# Bool data types\n",
    "a = 23\n",
    "b = 30\n",
    "c = a<b\n",
    "c"
   ]
  },
  {
   "cell_type": "code",
   "execution_count": 13,
   "id": "6c6041fd",
   "metadata": {},
   "outputs": [
    {
     "data": {
      "text/plain": [
       "bool"
      ]
     },
     "execution_count": 13,
     "metadata": {},
     "output_type": "execute_result"
    }
   ],
   "source": [
    "type(c)"
   ]
  },
  {
   "cell_type": "code",
   "execution_count": 1,
   "id": "32bcacf9",
   "metadata": {},
   "outputs": [],
   "source": [
    "# how to print wihtout a new line in python"
   ]
  },
  {
   "cell_type": "code",
   "execution_count": 2,
   "id": "db5714c3",
   "metadata": {},
   "outputs": [
    {
     "name": "stdout",
     "output_type": "stream",
     "text": [
      "hi\n",
      "welcome to python\n"
     ]
    }
   ],
   "source": [
    "print(\"hi\", end = \"\\n\")\n",
    "# this is by-default\n",
    "print(\"welcome to python\")\n",
    "\n",
    "# parameter called end"
   ]
  },
  {
   "cell_type": "markdown",
   "id": "b5d8d305",
   "metadata": {},
   "source": [
    "#### The “end” is a keyword that is used in python to place a space after the displayed  string instead of a newline. In python every time you print(“something”), by default it will append a newline "
   ]
  },
  {
   "cell_type": "code",
   "execution_count": 18,
   "id": "b849415d",
   "metadata": {},
   "outputs": [
    {
     "data": {
      "text/plain": [
       "'deepankar\\n       santosh\\n         pawar'"
      ]
     },
     "execution_count": 18,
     "metadata": {},
     "output_type": "execute_result"
    }
   ],
   "source": [
    "# to print multiline string we required triple quotes\n",
    "\n",
    "s = '''deepankar\n",
    "       santosh\n",
    "         pawar'''\n",
    "s"
   ]
  },
  {
   "cell_type": "code",
   "execution_count": 5,
   "id": "85d72011",
   "metadata": {},
   "outputs": [
    {
     "name": "stdout",
     "output_type": "stream",
     "text": [
      "deepankar \n",
      " pawar\n"
     ]
    }
   ],
   "source": [
    "s = \"deepankar \\n pawar\"\n",
    "print(s)"
   ]
  },
  {
   "cell_type": "code",
   "execution_count": 19,
   "id": "0cb78ed1",
   "metadata": {},
   "outputs": [
    {
     "data": {
      "text/plain": [
       "'u'"
      ]
     },
     "execution_count": 19,
     "metadata": {},
     "output_type": "execute_result"
    }
   ],
   "source": [
    "# slicing in string\n",
    "\n",
    "s = \"DurgaSoft\"\n",
    "s[1]"
   ]
  },
  {
   "cell_type": "code",
   "execution_count": 21,
   "id": "fade257d",
   "metadata": {},
   "outputs": [
    {
     "data": {
      "text/plain": [
       "'Durg'"
      ]
     },
     "execution_count": 21,
     "metadata": {},
     "output_type": "execute_result"
    }
   ],
   "source": [
    "s[0:4]"
   ]
  },
  {
   "cell_type": "code",
   "execution_count": 24,
   "id": "5bbc3ce6",
   "metadata": {},
   "outputs": [
    {
     "data": {
      "text/plain": [
       "'Sof'"
      ]
     },
     "execution_count": 24,
     "metadata": {},
     "output_type": "execute_result"
    }
   ],
   "source": [
    "s[-4:-1]"
   ]
  },
  {
   "cell_type": "code",
   "execution_count": 28,
   "id": "92f822c5",
   "metadata": {},
   "outputs": [
    {
     "data": {
      "text/plain": [
       "'DurgaSoft'"
      ]
     },
     "execution_count": 28,
     "metadata": {},
     "output_type": "execute_result"
    }
   ],
   "source": [
    "s[:]"
   ]
  },
  {
   "cell_type": "code",
   "execution_count": 29,
   "id": "7b35c805",
   "metadata": {},
   "outputs": [
    {
     "data": {
      "text/plain": [
       "'urgaSof'"
      ]
     },
     "execution_count": 29,
     "metadata": {},
     "output_type": "execute_result"
    }
   ],
   "source": [
    "s[-8:-1]"
   ]
  },
  {
   "cell_type": "code",
   "execution_count": 32,
   "id": "fa07f6ce",
   "metadata": {},
   "outputs": [
    {
     "data": {
      "text/plain": [
       "float"
      ]
     },
     "execution_count": 32,
     "metadata": {},
     "output_type": "execute_result"
    }
   ],
   "source": [
    "a = 330000.90\n",
    "type(a)"
   ]
  },
  {
   "cell_type": "code",
   "execution_count": 33,
   "id": "6f18551a",
   "metadata": {},
   "outputs": [
    {
     "data": {
      "text/plain": [
       "123"
      ]
     },
     "execution_count": 33,
     "metadata": {},
     "output_type": "execute_result"
    }
   ],
   "source": [
    "int(123.567)"
   ]
  },
  {
   "cell_type": "code",
   "execution_count": 34,
   "id": "27a774bf",
   "metadata": {},
   "outputs": [
    {
     "data": {
      "text/plain": [
       "1"
      ]
     },
     "execution_count": 34,
     "metadata": {},
     "output_type": "execute_result"
    }
   ],
   "source": [
    "int(True)"
   ]
  },
  {
   "cell_type": "code",
   "execution_count": 35,
   "id": "ea485c88",
   "metadata": {},
   "outputs": [
    {
     "data": {
      "text/plain": [
       "10"
      ]
     },
     "execution_count": 35,
     "metadata": {},
     "output_type": "execute_result"
    }
   ],
   "source": [
    "int(\"10\")"
   ]
  },
  {
   "cell_type": "code",
   "execution_count": 36,
   "id": "d5a4e277",
   "metadata": {},
   "outputs": [
    {
     "data": {
      "text/plain": [
       "10.0"
      ]
     },
     "execution_count": 36,
     "metadata": {},
     "output_type": "execute_result"
    }
   ],
   "source": [
    "float(10)"
   ]
  },
  {
   "cell_type": "code",
   "execution_count": 37,
   "id": "b3cce51e",
   "metadata": {},
   "outputs": [
    {
     "data": {
      "text/plain": [
       "10.0"
      ]
     },
     "execution_count": 37,
     "metadata": {},
     "output_type": "execute_result"
    }
   ],
   "source": [
    "float(\"10\")"
   ]
  },
  {
   "cell_type": "code",
   "execution_count": 38,
   "id": "a3cd79ed",
   "metadata": {},
   "outputs": [
    {
     "ename": "ValueError",
     "evalue": "could not convert string to float: 'ten'",
     "output_type": "error",
     "traceback": [
      "\u001b[1;31m---------------------------------------------------------------------------\u001b[0m",
      "\u001b[1;31mValueError\u001b[0m                                Traceback (most recent call last)",
      "\u001b[1;32m~\\AppData\\Local\\Temp\\ipykernel_17584\\2531904882.py\u001b[0m in \u001b[0;36m<module>\u001b[1;34m\u001b[0m\n\u001b[1;32m----> 1\u001b[1;33m \u001b[0mfloat\u001b[0m\u001b[1;33m(\u001b[0m\u001b[1;34m\"ten\"\u001b[0m\u001b[1;33m)\u001b[0m\u001b[1;33m\u001b[0m\u001b[1;33m\u001b[0m\u001b[0m\n\u001b[0m",
      "\u001b[1;31mValueError\u001b[0m: could not convert string to float: 'ten'"
     ]
    }
   ],
   "source": [
    "float(\"ten\") "
   ]
  },
  {
   "cell_type": "code",
   "execution_count": 39,
   "id": "900b3066",
   "metadata": {},
   "outputs": [
    {
     "data": {
      "text/plain": [
       "(10+0j)"
      ]
     },
     "execution_count": 39,
     "metadata": {},
     "output_type": "execute_result"
    }
   ],
   "source": [
    "complex(10)"
   ]
  },
  {
   "cell_type": "code",
   "execution_count": 40,
   "id": "7907bfb8",
   "metadata": {},
   "outputs": [
    {
     "data": {
      "text/plain": [
       "(10.5+0j)"
      ]
     },
     "execution_count": 40,
     "metadata": {},
     "output_type": "execute_result"
    }
   ],
   "source": [
    "complex(10.5)"
   ]
  },
  {
   "cell_type": "code",
   "execution_count": 41,
   "id": "26002dec",
   "metadata": {},
   "outputs": [
    {
     "data": {
      "text/plain": [
       "(1+0j)"
      ]
     },
     "execution_count": 41,
     "metadata": {},
     "output_type": "execute_result"
    }
   ],
   "source": [
    "complex(True)"
   ]
  },
  {
   "cell_type": "code",
   "execution_count": 42,
   "id": "2eb8e6c6",
   "metadata": {},
   "outputs": [
    {
     "data": {
      "text/plain": [
       "(10.5+0j)"
      ]
     },
     "execution_count": 42,
     "metadata": {},
     "output_type": "execute_result"
    }
   ],
   "source": [
    "complex(\"10.5\")"
   ]
  },
  {
   "cell_type": "code",
   "execution_count": 43,
   "id": "daa06736",
   "metadata": {},
   "outputs": [
    {
     "data": {
      "text/plain": [
       "(10-2j)"
      ]
     },
     "execution_count": 43,
     "metadata": {},
     "output_type": "execute_result"
    }
   ],
   "source": [
    "complex(10, -2)"
   ]
  },
  {
   "cell_type": "code",
   "execution_count": 49,
   "id": "034463b5",
   "metadata": {},
   "outputs": [
    {
     "data": {
      "text/plain": [
       "1419574733392"
      ]
     },
     "execution_count": 49,
     "metadata": {},
     "output_type": "execute_result"
    }
   ],
   "source": [
    "a = 10\n",
    "b = 10\n",
    "id(a)\n"
   ]
  },
  {
   "cell_type": "code",
   "execution_count": 50,
   "id": "edddaa04",
   "metadata": {},
   "outputs": [
    {
     "data": {
      "text/plain": [
       "1419574733392"
      ]
     },
     "execution_count": 50,
     "metadata": {},
     "output_type": "execute_result"
    }
   ],
   "source": [
    "id(b)"
   ]
  },
  {
   "cell_type": "code",
   "execution_count": null,
   "id": "7b81e1ea",
   "metadata": {},
   "outputs": [],
   "source": [
    "# in above both varaibles are pointing to one object\n"
   ]
  },
  {
   "cell_type": "code",
   "execution_count": 1,
   "id": "628d5d4d",
   "metadata": {},
   "outputs": [],
   "source": [
    "# bytes data type, only upto 255 above then that will throw an error\n",
    "x = [110,20,255]\n",
    "b = bytes(x)"
   ]
  },
  {
   "cell_type": "code",
   "execution_count": 2,
   "id": "fa41c780",
   "metadata": {},
   "outputs": [
    {
     "name": "stdout",
     "output_type": "stream",
     "text": [
      "110\n",
      "20\n",
      "255\n"
     ]
    }
   ],
   "source": [
    "for i in b:\n",
    "    print(i)"
   ]
  },
  {
   "cell_type": "code",
   "execution_count": 3,
   "id": "f8781445",
   "metadata": {},
   "outputs": [
    {
     "data": {
      "text/plain": [
       "[10, 20, 30, 'durga', 50]"
      ]
     },
     "execution_count": 3,
     "metadata": {},
     "output_type": "execute_result"
    }
   ],
   "source": [
    "a = [10,20,30,\"durga\",50]\n",
    "a"
   ]
  },
  {
   "cell_type": "code",
   "execution_count": 4,
   "id": "43c424a1",
   "metadata": {},
   "outputs": [],
   "source": [
    "a[1]=100"
   ]
  },
  {
   "cell_type": "code",
   "execution_count": 5,
   "id": "2e70cc77",
   "metadata": {},
   "outputs": [
    {
     "data": {
      "text/plain": [
       "[10, 100, 30, 'durga', 50]"
      ]
     },
     "execution_count": 5,
     "metadata": {},
     "output_type": "execute_result"
    }
   ],
   "source": [
    "a"
   ]
  },
  {
   "cell_type": "code",
   "execution_count": 6,
   "id": "cbcb17bc",
   "metadata": {},
   "outputs": [],
   "source": [
    "a.remove(10)"
   ]
  },
  {
   "cell_type": "code",
   "execution_count": 7,
   "id": "972bd56c",
   "metadata": {},
   "outputs": [
    {
     "data": {
      "text/plain": [
       "[100, 30, 'durga', 50]"
      ]
     },
     "execution_count": 7,
     "metadata": {},
     "output_type": "execute_result"
    }
   ],
   "source": [
    "a"
   ]
  },
  {
   "cell_type": "code",
   "execution_count": 61,
   "id": "1353483e",
   "metadata": {},
   "outputs": [],
   "source": [
    "a.insert(0,1000)"
   ]
  },
  {
   "cell_type": "code",
   "execution_count": 62,
   "id": "2bbe53fc",
   "metadata": {},
   "outputs": [
    {
     "data": {
      "text/plain": [
       "[1000, 100, 30, 'durga', 50]"
      ]
     },
     "execution_count": 62,
     "metadata": {},
     "output_type": "execute_result"
    }
   ],
   "source": [
    "a"
   ]
  },
  {
   "cell_type": "code",
   "execution_count": 64,
   "id": "d93f8b35",
   "metadata": {},
   "outputs": [],
   "source": [
    "a.append(1234) \n",
    "# get added at last"
   ]
  },
  {
   "cell_type": "code",
   "execution_count": 65,
   "id": "299eb83f",
   "metadata": {},
   "outputs": [
    {
     "data": {
      "text/plain": [
       "[1000, 100, 30, 'durga', 50, 1234]"
      ]
     },
     "execution_count": 65,
     "metadata": {},
     "output_type": "execute_result"
    }
   ],
   "source": [
    "a"
   ]
  },
  {
   "cell_type": "code",
   "execution_count": 80,
   "id": "ba159dc0",
   "metadata": {},
   "outputs": [
    {
     "data": {
      "text/plain": [
       "[1, 2, 3, 4, 5, 6, 7, 8, 9]"
      ]
     },
     "execution_count": 80,
     "metadata": {},
     "output_type": "execute_result"
    }
   ],
   "source": []
  },
  {
   "cell_type": "code",
   "execution_count": 8,
   "id": "edb9fa9e",
   "metadata": {},
   "outputs": [],
   "source": [
    "a.append(10009)"
   ]
  },
  {
   "cell_type": "code",
   "execution_count": 9,
   "id": "2de74bc9",
   "metadata": {},
   "outputs": [
    {
     "data": {
      "text/plain": [
       "[100, 30, 'durga', 50, 10009]"
      ]
     },
     "execution_count": 9,
     "metadata": {},
     "output_type": "execute_result"
    }
   ],
   "source": [
    "a"
   ]
  },
  {
   "cell_type": "code",
   "execution_count": 10,
   "id": "7556e1e7",
   "metadata": {},
   "outputs": [],
   "source": [
    "#range\n",
    "\n",
    "z = range(10,15)"
   ]
  },
  {
   "cell_type": "code",
   "execution_count": 11,
   "id": "ed3f6e4d",
   "metadata": {},
   "outputs": [
    {
     "name": "stdout",
     "output_type": "stream",
     "text": [
      "10\n",
      "11\n",
      "12\n",
      "13\n",
      "14\n"
     ]
    }
   ],
   "source": [
    "for i in z:\n",
    "    print(i)"
   ]
  },
  {
   "cell_type": "code",
   "execution_count": 12,
   "id": "6b6e21f7",
   "metadata": {},
   "outputs": [
    {
     "name": "stdout",
     "output_type": "stream",
     "text": [
      "10\n",
      "12\n",
      "14\n",
      "16\n",
      "18\n"
     ]
    }
   ],
   "source": [
    "for i in range(10,20,2):\n",
    "    print(i)"
   ]
  },
  {
   "cell_type": "code",
   "execution_count": 13,
   "id": "c05488aa",
   "metadata": {},
   "outputs": [
    {
     "data": {
      "text/plain": [
       "[1, 2, 3, 4, 5, 6, 7, 8, 9]"
      ]
     },
     "execution_count": 13,
     "metadata": {},
     "output_type": "execute_result"
    }
   ],
   "source": [
    "d = list(range(1,10))\n",
    "d"
   ]
  },
  {
   "cell_type": "code",
   "execution_count": 14,
   "id": "6bb26d0b",
   "metadata": {},
   "outputs": [
    {
     "data": {
      "text/plain": [
       "True"
      ]
     },
     "execution_count": 14,
     "metadata": {},
     "output_type": "execute_result"
    }
   ],
   "source": [
    "f = [1,2,3,4,'a','b','c']\n",
    "'a' in f\n",
    "    "
   ]
  },
  {
   "cell_type": "code",
   "execution_count": 15,
   "id": "49390584",
   "metadata": {},
   "outputs": [],
   "source": [
    "name = ['amar','deep']\n",
    "age = [15,16]\n",
    "d  = age+name\n",
    "\n"
   ]
  },
  {
   "cell_type": "code",
   "execution_count": 16,
   "id": "9f635742",
   "metadata": {},
   "outputs": [
    {
     "data": {
      "text/plain": [
       "[15, 16, 'amar', 'deep']"
      ]
     },
     "execution_count": 16,
     "metadata": {},
     "output_type": "execute_result"
    }
   ],
   "source": [
    "d"
   ]
  },
  {
   "cell_type": "code",
   "execution_count": 17,
   "id": "cc53f98e",
   "metadata": {},
   "outputs": [
    {
     "name": "stdout",
     "output_type": "stream",
     "text": [
      "('amar', 15, 'Cat')\n",
      "('deep', 16, 'Dog')\n"
     ]
    }
   ],
   "source": [
    "name = ['amar','deep']\n",
    "age = [15,16]\n",
    "animal = ['Cat', 'Dog', 'Fish', 'Goat']\n",
    "d = zip(name,age,animal)\n",
    "for i in d:\n",
    "    print(i)"
   ]
  },
  {
   "cell_type": "code",
   "execution_count": 18,
   "id": "bbad4794",
   "metadata": {},
   "outputs": [
    {
     "name": "stdout",
     "output_type": "stream",
     "text": [
      "amar 15 Cat\n",
      "deep 16 Dog\n"
     ]
    }
   ],
   "source": [
    "name = ['amar','deep']\n",
    "age = [15,16]\n",
    "animal = ['Cat', 'Dog', 'Fish', 'Goat']\n",
    "d = zip(name,age,animal)\n",
    "for name,age,animal in d:\n",
    "    print(name,age,animal)"
   ]
  },
  {
   "cell_type": "code",
   "execution_count": 22,
   "id": "26ed52a9",
   "metadata": {},
   "outputs": [
    {
     "data": {
      "text/plain": [
       "[1, 2, 3, 45, 7, 'dj', 'sk', 'ki']"
      ]
     },
     "execution_count": 22,
     "metadata": {},
     "output_type": "execute_result"
    }
   ],
   "source": [
    "a = [1,2,3,45,7]\n",
    "b = [\"dj\",\"sk\",\"ki\"]\n",
    "\n",
    "a.extend(b)\n",
    "a"
   ]
  },
  {
   "cell_type": "code",
   "execution_count": 25,
   "id": "711b3cc6",
   "metadata": {},
   "outputs": [],
   "source": [
    "dj = [4563,5000,123,1,345]\n",
    "dj.sort()"
   ]
  },
  {
   "cell_type": "code",
   "execution_count": 26,
   "id": "0ac27913",
   "metadata": {},
   "outputs": [
    {
     "data": {
      "text/plain": [
       "[1, 123, 345, 4563, 5000]"
      ]
     },
     "execution_count": 26,
     "metadata": {},
     "output_type": "execute_result"
    }
   ],
   "source": [
    "dj"
   ]
  },
  {
   "cell_type": "code",
   "execution_count": 27,
   "id": "8cd42f20",
   "metadata": {},
   "outputs": [
    {
     "data": {
      "text/plain": [
       "5000"
      ]
     },
     "execution_count": 27,
     "metadata": {},
     "output_type": "execute_result"
    }
   ],
   "source": [
    "dj.pop()"
   ]
  },
  {
   "cell_type": "code",
   "execution_count": 28,
   "id": "1c9d3d5c",
   "metadata": {},
   "outputs": [
    {
     "data": {
      "text/plain": [
       "1"
      ]
     },
     "execution_count": 28,
     "metadata": {},
     "output_type": "execute_result"
    }
   ],
   "source": [
    "dj.pop(0)"
   ]
  },
  {
   "cell_type": "code",
   "execution_count": 29,
   "id": "cc263d90",
   "metadata": {},
   "outputs": [
    {
     "data": {
      "text/plain": [
       "[123, 345, 4563]"
      ]
     },
     "execution_count": 29,
     "metadata": {},
     "output_type": "execute_result"
    }
   ],
   "source": [
    "dj"
   ]
  },
  {
   "cell_type": "code",
   "execution_count": 30,
   "id": "403e2a83",
   "metadata": {},
   "outputs": [
    {
     "data": {
      "text/plain": [
       "False"
      ]
     },
     "execution_count": 30,
     "metadata": {},
     "output_type": "execute_result"
    }
   ],
   "source": [
    "bool(0.000)"
   ]
  },
  {
   "cell_type": "code",
   "execution_count": 31,
   "id": "6d228890",
   "metadata": {},
   "outputs": [
    {
     "data": {
      "text/plain": [
       "True"
      ]
     },
     "execution_count": 31,
     "metadata": {},
     "output_type": "execute_result"
    }
   ],
   "source": [
    "bool(1234)"
   ]
  },
  {
   "cell_type": "code",
   "execution_count": 32,
   "id": "ed36f401",
   "metadata": {},
   "outputs": [
    {
     "data": {
      "text/plain": [
       "True"
      ]
     },
     "execution_count": 32,
     "metadata": {},
     "output_type": "execute_result"
    }
   ],
   "source": [
    "bool(123.345)"
   ]
  },
  {
   "cell_type": "code",
   "execution_count": 33,
   "id": "3717558e",
   "metadata": {},
   "outputs": [
    {
     "data": {
      "text/plain": [
       "False"
      ]
     },
     "execution_count": 33,
     "metadata": {},
     "output_type": "execute_result"
    }
   ],
   "source": [
    "bool(0)"
   ]
  },
  {
   "cell_type": "code",
   "execution_count": 34,
   "id": "73a43da4",
   "metadata": {},
   "outputs": [
    {
     "data": {
      "text/plain": [
       "[50, 20, 30, 10]"
      ]
     },
     "execution_count": 34,
     "metadata": {},
     "output_type": "execute_result"
    }
   ],
   "source": [
    "# Python program to interchange first and last elements in a list\n",
    "\n",
    "a = [10,20,30,50]\n",
    "a[3],a[0]=a[0],a[3]\n",
    "a"
   ]
  },
  {
   "cell_type": "code",
   "execution_count": 36,
   "id": "82bcd4c0",
   "metadata": {},
   "outputs": [
    {
     "data": {
      "text/plain": [
       "[67, 2, 3, 1]"
      ]
     },
     "execution_count": 36,
     "metadata": {},
     "output_type": "execute_result"
    }
   ],
   "source": [
    "#also\n",
    "def swapList(a):\n",
    "    a[0],a[-1] = a[-1],a[0]\n",
    "    return a\n",
    "\n",
    "a = [1,2,3,67]\n",
    "swapList(a)   \n"
   ]
  },
  {
   "cell_type": "code",
   "execution_count": 38,
   "id": "49c9c056",
   "metadata": {},
   "outputs": [
    {
     "data": {
      "text/plain": [
       "2"
      ]
     },
     "execution_count": 38,
     "metadata": {},
     "output_type": "execute_result"
    }
   ],
   "source": [
    "# 2. Python program to swap two elements in a list\n",
    "\n",
    "a = [10,20,30,40,50]\n",
    "a.index(30)"
   ]
  },
  {
   "cell_type": "code",
   "execution_count": 39,
   "id": "61aca27b",
   "metadata": {},
   "outputs": [],
   "source": [
    "a[2],a[4]=a[4],a[2]"
   ]
  },
  {
   "cell_type": "code",
   "execution_count": 40,
   "id": "9b1adb9e",
   "metadata": {},
   "outputs": [
    {
     "data": {
      "text/plain": [
       "[10, 20, 50, 40, 30]"
      ]
     },
     "execution_count": 40,
     "metadata": {},
     "output_type": "execute_result"
    }
   ],
   "source": [
    "a"
   ]
  },
  {
   "cell_type": "code",
   "execution_count": 41,
   "id": "5c8ffa60",
   "metadata": {},
   "outputs": [
    {
     "data": {
      "text/plain": [
       "5"
      ]
     },
     "execution_count": 41,
     "metadata": {},
     "output_type": "execute_result"
    }
   ],
   "source": [
    "# 4. Python | Ways to find length of list\n",
    "len(a)"
   ]
  },
  {
   "cell_type": "code",
   "execution_count": 42,
   "id": "d507baf9",
   "metadata": {},
   "outputs": [
    {
     "data": {
      "text/plain": [
       "4"
      ]
     },
     "execution_count": 42,
     "metadata": {},
     "output_type": "execute_result"
    }
   ],
   "source": [
    "a = [10,20,30,40]\n",
    "c = 0\n",
    "for i in a:\n",
    "    c = c+1\n",
    "    \n",
    "c"
   ]
  },
  {
   "cell_type": "code",
   "execution_count": 56,
   "id": "e786c7b8",
   "metadata": {},
   "outputs": [
    {
     "name": "stdout",
     "output_type": "stream",
     "text": [
      "10\n",
      "220\n",
      "40\n",
      "30\n"
     ]
    }
   ],
   "source": [
    "# 5. Maximum of two numbers in Python\n",
    "a = [10,220,30,40]\n",
    "for i in range(0,len(a)):\n",
    "    for j in range(1,len(a)):\n",
    "        if a[i]<a[j]:\n",
    "            a[i]=a[i]\n",
    "        else:\n",
    "            a[i],a[j]=a[j],a[i]\n",
    "\n",
    "            \n",
    "for element in a:\n",
    "    print(element)\n",
    "    "
   ]
  },
  {
   "cell_type": "code",
   "execution_count": 68,
   "id": "ad2a49bd",
   "metadata": {},
   "outputs": [
    {
     "name": "stdout",
     "output_type": "stream",
     "text": [
      "10\n",
      "30\n",
      "40\n",
      "230\n"
     ]
    }
   ],
   "source": [
    "a = [10, 230, 30, 40]\n",
    "\n",
    "# sorting the list using bubble sort\n",
    "for i in range(0,len(a)):\n",
    "    for j in range(i+1,len(a)):\n",
    "        if a[i]<a[j]:\n",
    "            a[i]=a[i]\n",
    "        else:\n",
    "            a[i],a[j]=a[j],a[i]\n",
    "for k in a:\n",
    "    print(k)"
   ]
  },
  {
   "cell_type": "code",
   "execution_count": 3,
   "id": "788f88a3",
   "metadata": {},
   "outputs": [
    {
     "name": "stdout",
     "output_type": "stream",
     "text": [
      "30\n"
     ]
    }
   ],
   "source": [
    "# Python functions\n",
    "\n",
    "def add():\n",
    "    n1 = 10\n",
    "    n2 = 20\n",
    "    n3 = n1+n2\n",
    "    print(f\"{n1+n2}\")\n",
    "\n",
    "add()"
   ]
  },
  {
   "cell_type": "code",
   "execution_count": 4,
   "id": "ab7a27ff",
   "metadata": {},
   "outputs": [
    {
     "name": "stdout",
     "output_type": "stream",
     "text": [
      "the addition is 5\n"
     ]
    }
   ],
   "source": [
    "def add(v1,v2):\n",
    "    print(f\"the addition is {v1+v2}\")\n",
    "\n",
    "add(3,2)"
   ]
  },
  {
   "cell_type": "code",
   "execution_count": 7,
   "id": "4dce0384",
   "metadata": {},
   "outputs": [
    {
     "data": {
      "text/plain": [
       "' the number is 17'"
      ]
     },
     "execution_count": 7,
     "metadata": {},
     "output_type": "execute_result"
    }
   ],
   "source": [
    "def add():\n",
    "    v1 = 8\n",
    "    v2 = 9\n",
    "    return (f\" the number is {v1+v2}\")\n",
    "\n",
    "add()"
   ]
  },
  {
   "cell_type": "code",
   "execution_count": 11,
   "id": "c4aec8c5",
   "metadata": {},
   "outputs": [
    {
     "data": {
      "text/plain": [
       "9"
      ]
     },
     "execution_count": 11,
     "metadata": {},
     "output_type": "execute_result"
    }
   ],
   "source": [
    "def add(v1,v2):\n",
    "    return(v1+v2)\n",
    "\n",
    "add(4,5)"
   ]
  },
  {
   "cell_type": "code",
   "execution_count": 12,
   "id": "82aee805",
   "metadata": {},
   "outputs": [
    {
     "data": {
      "text/plain": [
       "13.4"
      ]
     },
     "execution_count": 12,
     "metadata": {},
     "output_type": "execute_result"
    }
   ],
   "source": [
    "a = 10\n",
    "b = 3.4\n",
    "c = a+b\n",
    "c"
   ]
  },
  {
   "cell_type": "code",
   "execution_count": 13,
   "id": "64060485",
   "metadata": {},
   "outputs": [
    {
     "name": "stdout",
     "output_type": "stream",
     "text": [
      "5\n",
      "5.0\n"
     ]
    }
   ],
   "source": [
    "a = \"5\"\n",
    "b = int(a)\n",
    "c = float(a)\n",
    "print(b)  # Output: 5\n",
    "print(c)  # Output: 5.0\n",
    "# explicitly type casting"
   ]
  },
  {
   "cell_type": "code",
   "execution_count": 14,
   "id": "d67be13c",
   "metadata": {},
   "outputs": [
    {
     "data": {
      "text/plain": [
       "2"
      ]
     },
     "execution_count": 14,
     "metadata": {},
     "output_type": "execute_result"
    }
   ],
   "source": [
    "# 9//4      Floor division"
   ]
  },
  {
   "cell_type": "code",
   "execution_count": 15,
   "id": "f406aa7d",
   "metadata": {},
   "outputs": [
    {
     "data": {
      "text/plain": [
       "3"
      ]
     },
     "execution_count": 15,
     "metadata": {},
     "output_type": "execute_result"
    }
   ],
   "source": [
    "2 and 3"
   ]
  },
  {
   "cell_type": "code",
   "execution_count": 21,
   "id": "17a57aa5",
   "metadata": {},
   "outputs": [
    {
     "data": {
      "text/plain": [
       "16"
      ]
     },
     "execution_count": 21,
     "metadata": {},
     "output_type": "execute_result"
    }
   ],
   "source": [
    "x=2\n",
    "x**4"
   ]
  },
  {
   "cell_type": "code",
   "execution_count": 30,
   "id": "19b96486",
   "metadata": {},
   "outputs": [
    {
     "data": {
      "text/plain": [
       "1"
      ]
     },
     "execution_count": 30,
     "metadata": {},
     "output_type": "execute_result"
    }
   ],
   "source": [
    "x = 1\n",
    "y = 0\n",
    "z = x|y\n",
    "z"
   ]
  },
  {
   "cell_type": "code",
   "execution_count": 37,
   "id": "6f994a32",
   "metadata": {},
   "outputs": [
    {
     "name": "stdout",
     "output_type": "stream",
     "text": [
      "-12\n"
     ]
    }
   ],
   "source": [
    "x = 11\n",
    "y = ~x\n",
    "print(y)"
   ]
  },
  {
   "cell_type": "code",
   "execution_count": 40,
   "id": "5c5365f8",
   "metadata": {},
   "outputs": [
    {
     "data": {
      "text/plain": [
       "True"
      ]
     },
     "execution_count": 40,
     "metadata": {},
     "output_type": "execute_result"
    }
   ],
   "source": [
    "a = [1, 2, 3]\n",
    "b = a\n",
    "c = [1, 2, 3]\n",
    "\n",
    "\n",
    "\n",
    "a is not c"
   ]
  },
  {
   "cell_type": "code",
   "execution_count": 4,
   "id": "3290b69a",
   "metadata": {},
   "outputs": [
    {
     "data": {
      "text/plain": [
       "1"
      ]
     },
     "execution_count": 4,
     "metadata": {},
     "output_type": "execute_result"
    }
   ],
   "source": [
    "a = True+False\n",
    "a"
   ]
  },
  {
   "cell_type": "code",
   "execution_count": 5,
   "id": "341e84b1",
   "metadata": {},
   "outputs": [
    {
     "data": {
      "text/plain": [
       "False"
      ]
     },
     "execution_count": 5,
     "metadata": {},
     "output_type": "execute_result"
    }
   ],
   "source": [
    "a = 5\n",
    "b = 7\n",
    "a>b and b<8"
   ]
  },
  {
   "cell_type": "code",
   "execution_count": 6,
   "id": "e10e0430",
   "metadata": {},
   "outputs": [
    {
     "data": {
      "text/plain": [
       "16"
      ]
     },
     "execution_count": 6,
     "metadata": {},
     "output_type": "execute_result"
    }
   ],
   "source": [
    "# 2**4   exponential operator"
   ]
  },
  {
   "cell_type": "code",
   "execution_count": 11,
   "id": "9f21967c",
   "metadata": {},
   "outputs": [
    {
     "data": {
      "text/plain": [
       "500.0"
      ]
     },
     "execution_count": 11,
     "metadata": {},
     "output_type": "execute_result"
    }
   ],
   "source": [
    "1000.7//2"
   ]
  },
  {
   "cell_type": "code",
   "execution_count": 1,
   "id": "4fa14b93",
   "metadata": {},
   "outputs": [
    {
     "data": {
      "text/plain": [
       "1"
      ]
     },
     "execution_count": 1,
     "metadata": {},
     "output_type": "execute_result"
    }
   ],
   "source": [
    "True*True"
   ]
  },
  {
   "cell_type": "code",
   "execution_count": 2,
   "id": "bc8518d1",
   "metadata": {},
   "outputs": [
    {
     "data": {
      "text/plain": [
       "0"
      ]
     },
     "execution_count": 2,
     "metadata": {},
     "output_type": "execute_result"
    }
   ],
   "source": [
    "True*False"
   ]
  },
  {
   "cell_type": "code",
   "execution_count": 3,
   "id": "8580dd2a",
   "metadata": {},
   "outputs": [
    {
     "ename": "ZeroDivisionError",
     "evalue": "division by zero",
     "output_type": "error",
     "traceback": [
      "\u001b[1;31m---------------------------------------------------------------------------\u001b[0m",
      "\u001b[1;31mZeroDivisionError\u001b[0m                         Traceback (most recent call last)",
      "\u001b[1;32m~\\AppData\\Local\\Temp\\ipykernel_4448\\2441292507.py\u001b[0m in \u001b[0;36m<module>\u001b[1;34m\u001b[0m\n\u001b[1;32m----> 1\u001b[1;33m \u001b[1;32mTrue\u001b[0m\u001b[1;33m/\u001b[0m\u001b[1;32mFalse\u001b[0m\u001b[1;33m\u001b[0m\u001b[1;33m\u001b[0m\u001b[0m\n\u001b[0m",
      "\u001b[1;31mZeroDivisionError\u001b[0m: division by zero"
     ]
    }
   ],
   "source": [
    "True/False\n"
   ]
  },
  {
   "cell_type": "code",
   "execution_count": 4,
   "id": "86c10a37",
   "metadata": {},
   "outputs": [
    {
     "data": {
      "text/plain": [
       "True"
      ]
     },
     "execution_count": 4,
     "metadata": {},
     "output_type": "execute_result"
    }
   ],
   "source": [
    "a = 10\n",
    "b= 30\n",
    "a<=b"
   ]
  },
  {
   "cell_type": "code",
   "execution_count": 5,
   "id": "8097e55c",
   "metadata": {},
   "outputs": [
    {
     "name": "stdout",
     "output_type": "stream",
     "text": [
      "6.0\n",
      "3.141592653589793\n"
     ]
    }
   ],
   "source": [
    "from math import*\n",
    "print(sqrt(36))\n",
    "print(pi)"
   ]
  },
  {
   "cell_type": "code",
   "execution_count": 6,
   "id": "4921b707",
   "metadata": {},
   "outputs": [
    {
     "data": {
      "text/plain": [
       "True"
      ]
     },
     "execution_count": 6,
     "metadata": {},
     "output_type": "execute_result"
    }
   ],
   "source": [
    "True >False"
   ]
  },
  {
   "cell_type": "code",
   "execution_count": 7,
   "id": "0432314e",
   "metadata": {},
   "outputs": [
    {
     "data": {
      "text/plain": [
       "False"
      ]
     },
     "execution_count": 7,
     "metadata": {},
     "output_type": "execute_result"
    }
   ],
   "source": [
    "False>True"
   ]
  },
  {
   "cell_type": "code",
   "execution_count": 8,
   "id": "f479cd6b",
   "metadata": {},
   "outputs": [
    {
     "data": {
      "text/plain": [
       "True"
      ]
     },
     "execution_count": 8,
     "metadata": {},
     "output_type": "execute_result"
    }
   ],
   "source": [
    "True<10\n",
    "# internally it is treated as 1"
   ]
  },
  {
   "cell_type": "code",
   "execution_count": 14,
   "id": "59a3b440",
   "metadata": {},
   "outputs": [
    {
     "data": {
      "text/plain": [
       "True"
      ]
     },
     "execution_count": 14,
     "metadata": {},
     "output_type": "execute_result"
    }
   ],
   "source": [
    "\"Durga\"<\"Mur\""
   ]
  },
  {
   "cell_type": "code",
   "execution_count": 18,
   "id": "73c08b64",
   "metadata": {},
   "outputs": [
    {
     "name": "stdout",
     "output_type": "stream",
     "text": [
      "Enter your Name:Deep\n",
      "Enter Your Password :1234\n",
      "Welcome\n"
     ]
    }
   ],
   "source": [
    "name = input(\"Enter your Name:\")\n",
    "passwd = int(input(\"Enter Your Password :\"))\n",
    "if name == 'Deep' and passwd == 1234:\n",
    "    print(\"Welcome\")\n",
    "else:\n",
    "    print(\"Invalid UserName\")"
   ]
  },
  {
   "cell_type": "code",
   "execution_count": 21,
   "id": "8b595f4c",
   "metadata": {},
   "outputs": [
    {
     "data": {
      "text/plain": [
       "True"
      ]
     },
     "execution_count": 21,
     "metadata": {},
     "output_type": "execute_result"
    }
   ],
   "source": [
    "x = 0\n",
    "not x    \n",
    "\n",
    "# -> 0 means False not False(0) is True"
   ]
  },
  {
   "cell_type": "markdown",
   "id": "f6329852",
   "metadata": {},
   "source": [
    "### SETS"
   ]
  },
  {
   "cell_type": "code",
   "execution_count": 22,
   "id": "36bb2f62",
   "metadata": {},
   "outputs": [
    {
     "name": "stdout",
     "output_type": "stream",
     "text": [
      "{1.0, (1, 2, 3), 'Hello'}\n"
     ]
    }
   ],
   "source": [
    "my_set = {1.0,\"Hello\",(1,2,3)}\n",
    "print(my_set)"
   ]
  },
  {
   "cell_type": "code",
   "execution_count": 23,
   "id": "f1e496fb",
   "metadata": {},
   "outputs": [
    {
     "data": {
      "text/plain": [
       "{1, 2, 3, 4, 5}"
      ]
     },
     "execution_count": 23,
     "metadata": {},
     "output_type": "execute_result"
    }
   ],
   "source": [
    "my_set = {1,2,3,3,4,5}\n",
    "my_set"
   ]
  },
  {
   "cell_type": "code",
   "execution_count": 26,
   "id": "cf1aa146",
   "metadata": {},
   "outputs": [
    {
     "ename": "TypeError",
     "evalue": "'set' object is not subscriptable",
     "output_type": "error",
     "traceback": [
      "\u001b[1;31m---------------------------------------------------------------------------\u001b[0m",
      "\u001b[1;31mTypeError\u001b[0m                                 Traceback (most recent call last)",
      "\u001b[1;32m~\\AppData\\Local\\Temp\\ipykernel_4448\\2063814584.py\u001b[0m in \u001b[0;36m<module>\u001b[1;34m\u001b[0m\n\u001b[1;32m----> 1\u001b[1;33m \u001b[0mmy_set\u001b[0m\u001b[1;33m[\u001b[0m\u001b[1;36m0\u001b[0m\u001b[1;33m]\u001b[0m\u001b[1;33m\u001b[0m\u001b[1;33m\u001b[0m\u001b[0m\n\u001b[0m",
      "\u001b[1;31mTypeError\u001b[0m: 'set' object is not subscriptable"
     ]
    }
   ],
   "source": [
    "my_set[0]"
   ]
  },
  {
   "cell_type": "code",
   "execution_count": null,
   "id": "021b1180",
   "metadata": {},
   "outputs": [],
   "source": [
    "# As per the Python's Official Documentation, set data structure is referred as Unordered Collections of Unique Elements and that doesn't support operations like indexing or slicing etc."
   ]
  },
  {
   "cell_type": "code",
   "execution_count": 27,
   "id": "52fd28bd",
   "metadata": {},
   "outputs": [],
   "source": [
    "my_set.remove(1)"
   ]
  },
  {
   "cell_type": "code",
   "execution_count": 28,
   "id": "c21d93b8",
   "metadata": {},
   "outputs": [
    {
     "data": {
      "text/plain": [
       "{2, 3, 4, 5}"
      ]
     },
     "execution_count": 28,
     "metadata": {},
     "output_type": "execute_result"
    }
   ],
   "source": [
    "my_set"
   ]
  },
  {
   "cell_type": "code",
   "execution_count": 29,
   "id": "87e9fa5c",
   "metadata": {},
   "outputs": [],
   "source": [
    "my_set.add(1)"
   ]
  },
  {
   "cell_type": "code",
   "execution_count": 30,
   "id": "86d1582f",
   "metadata": {},
   "outputs": [
    {
     "data": {
      "text/plain": [
       "{1, 2, 3, 4, 5}"
      ]
     },
     "execution_count": 30,
     "metadata": {},
     "output_type": "execute_result"
    }
   ],
   "source": [
    "my_set"
   ]
  },
  {
   "cell_type": "code",
   "execution_count": 31,
   "id": "5d28c029",
   "metadata": {},
   "outputs": [
    {
     "data": {
      "text/plain": [
       "2"
      ]
     },
     "execution_count": 31,
     "metadata": {},
     "output_type": "execute_result"
    }
   ],
   "source": [
    "my_set.pop()"
   ]
  },
  {
   "cell_type": "code",
   "execution_count": 32,
   "id": "b0818a2d",
   "metadata": {},
   "outputs": [
    {
     "data": {
      "text/plain": [
       "{1, 3, 4, 5}"
      ]
     },
     "execution_count": 32,
     "metadata": {},
     "output_type": "execute_result"
    }
   ],
   "source": [
    "my_set\n"
   ]
  },
  {
   "cell_type": "code",
   "execution_count": 34,
   "id": "46085a19",
   "metadata": {},
   "outputs": [],
   "source": [
    "my_set.clear()"
   ]
  },
  {
   "cell_type": "code",
   "execution_count": 35,
   "id": "7179e983",
   "metadata": {},
   "outputs": [
    {
     "data": {
      "text/plain": [
       "set()"
      ]
     },
     "execution_count": 35,
     "metadata": {},
     "output_type": "execute_result"
    }
   ],
   "source": [
    "my_set"
   ]
  },
  {
   "cell_type": "code",
   "execution_count": 38,
   "id": "9005374c",
   "metadata": {},
   "outputs": [],
   "source": [
    "a = {1,2,3}\n",
    "b = {4,5,6,}\n",
    "z = a.union(b)"
   ]
  },
  {
   "cell_type": "code",
   "execution_count": 39,
   "id": "57c4bbcb",
   "metadata": {},
   "outputs": [
    {
     "data": {
      "text/plain": [
       "{1, 2, 3, 4, 5, 6}"
      ]
     },
     "execution_count": 39,
     "metadata": {},
     "output_type": "execute_result"
    }
   ],
   "source": [
    "z"
   ]
  },
  {
   "cell_type": "code",
   "execution_count": 40,
   "id": "d9572ab5",
   "metadata": {},
   "outputs": [],
   "source": [
    "a = {1,2,3}\n",
    "b = {4,5,6,6,6}\n",
    "z = a.intersection(b)"
   ]
  },
  {
   "cell_type": "code",
   "execution_count": 41,
   "id": "429d41b8",
   "metadata": {},
   "outputs": [
    {
     "data": {
      "text/plain": [
       "set()"
      ]
     },
     "execution_count": 41,
     "metadata": {},
     "output_type": "execute_result"
    }
   ],
   "source": [
    "z"
   ]
  },
  {
   "cell_type": "markdown",
   "id": "32153023",
   "metadata": {},
   "source": [
    "## Functions in Python"
   ]
  },
  {
   "cell_type": "code",
   "execution_count": 1,
   "id": "fa318936",
   "metadata": {},
   "outputs": [
    {
     "name": "stdout",
     "output_type": "stream",
     "text": [
      "<class 'enumerate'>\n",
      "[(0, 'bread'), (1, 'milk'), (2, 'butter')]\n",
      "[(10, 'bread'), (11, 'milk'), (12, 'butter')]\n"
     ]
    }
   ],
   "source": [
    "grocery = ['bread', 'milk', 'butter']\n",
    "enumerateGrocery = enumerate(grocery)\n",
    " \n",
    "print(type(enumerateGrocery))\n",
    " \n",
    "# converting to list\n",
    "print(list(enumerateGrocery))\n",
    " \n",
    "# changing the default counter\n",
    "enumerateGrocery = enumerate(grocery, 10)\n",
    "print(list(enumerateGrocery))\n",
    "\n",
    "# IN_built FUNCTION"
   ]
  },
  {
   "cell_type": "code",
   "execution_count": 1,
   "id": "7c58f86b",
   "metadata": {},
   "outputs": [
    {
     "data": {
      "text/plain": [
       "16"
      ]
     },
     "execution_count": 1,
     "metadata": {},
     "output_type": "execute_result"
    }
   ],
   "source": [
    "def squa(n1):\n",
    "    return (n1**2)\n",
    "\n",
    "squa(4)"
   ]
  },
  {
   "cell_type": "code",
   "execution_count": 10,
   "id": "f9ffc528",
   "metadata": {},
   "outputs": [
    {
     "data": {
      "text/plain": [
       "(16, 4)"
      ]
     },
     "execution_count": 10,
     "metadata": {},
     "output_type": "execute_result"
    }
   ],
   "source": [
    "def squa(n1,n2):\n",
    "    return (n1**2),(n2**2)\n",
    "\n",
    "squa(4,2)"
   ]
  },
  {
   "cell_type": "code",
   "execution_count": 15,
   "id": "023a85b2",
   "metadata": {},
   "outputs": [
    {
     "data": {
      "text/plain": [
       "(36, 144)"
      ]
     },
     "execution_count": 15,
     "metadata": {},
     "output_type": "execute_result"
    }
   ],
   "source": [
    "def squa(n1,n2=12):\n",
    "    return (n1**2),(n2**2)\n",
    "\n",
    "squa(6)"
   ]
  },
  {
   "cell_type": "code",
   "execution_count": 16,
   "id": "d68558d6",
   "metadata": {},
   "outputs": [
    {
     "data": {
      "text/plain": [
       "(36, 16)"
      ]
     },
     "execution_count": 16,
     "metadata": {},
     "output_type": "execute_result"
    }
   ],
   "source": [
    "def squa(n1,n2=12):\n",
    "    return (n1**2),(n2**2)\n",
    "\n",
    "squa(6,n2 = 4)\n",
    "# keyword argument(7,8,3)"
   ]
  },
  {
   "cell_type": "code",
   "execution_count": 11,
   "id": "ff675a90",
   "metadata": {},
   "outputs": [
    {
     "name": "stdout",
     "output_type": "stream",
     "text": [
      "['Python', 'Java', 'MySQl', 'Hadoop']\n"
     ]
    }
   ],
   "source": [
    "# Variable length Argument\n",
    "# *args --> non-keywords args\n",
    "# **kwargs --> keyword args\n",
    "\n",
    "ls = []\n",
    "def fun(*args_ls):\n",
    "    for i in args_ls:\n",
    "        ls.append(i)\n",
    "    print(ls)\n",
    "    \n",
    "fun('Python','Java','MySQl',\"Hadoop\")\n",
    "    \n",
    "    \n",
    "    "
   ]
  },
  {
   "cell_type": "code",
   "execution_count": 26,
   "id": "26b5c40a",
   "metadata": {},
   "outputs": [
    {
     "name": "stdout",
     "output_type": "stream",
     "text": [
      "[['a', 'Python'], ['b', 'Java'], ['c', 'MySQl'], ['d', 'Hadoop']]\n"
     ]
    }
   ],
   "source": [
    "ls =[]\n",
    "def fun(**args_ls):\n",
    "    for key,value in args_ls.items():\n",
    "        ls.append([key, value])\n",
    "    print(ls)\n",
    "    \n",
    "fun(a = 'Python',b = 'Java',c = 'MySQl',d = \"Hadoop\")\n",
    "# keyword argument"
   ]
  },
  {
   "cell_type": "code",
   "execution_count": 27,
   "id": "e978ee92",
   "metadata": {},
   "outputs": [
    {
     "name": "stdout",
     "output_type": "stream",
     "text": [
      "With return statement\n",
      "2704\n",
      "Without return statement\n",
      "None\n"
     ]
    }
   ],
   "source": []
  },
  {
   "cell_type": "code",
   "execution_count": 41,
   "id": "f4631d6c",
   "metadata": {},
   "outputs": [
    {
     "name": "stdout",
     "output_type": "stream",
     "text": [
      "591.36\n"
     ]
    }
   ],
   "source": [
    "a = -10.56*56\n",
    "print(abs(a))"
   ]
  },
  {
   "cell_type": "markdown",
   "id": "7dfa0051",
   "metadata": {},
   "source": [
    "## control statements\n",
    "Conditional Statements determine which statements in the program will be executed and in what order, allowing for statements to be skipped over or executed repeatedly.\n",
    "\n",
    "if, if/else, and if/elif/else statements are all examples of control structures that allow for statements to be skipped over or executed conditionally:\n"
   ]
  },
  {
   "cell_type": "code",
   "execution_count": null,
   "id": "1aa1e16a",
   "metadata": {},
   "outputs": [],
   "source": [
    "if 'bar' in {'foo': 1, 'bar': 2, 'baz': 3}:\n",
    "    print(1)\n",
    "    print(2)\n",
    "    if 'a' in 'qux':\n",
    "        print(3)\n",
    "print(4)"
   ]
  },
  {
   "cell_type": "code",
   "execution_count": null,
   "id": "74113ce4",
   "metadata": {},
   "outputs": [],
   "source": []
  },
  {
   "cell_type": "code",
   "execution_count": null,
   "id": "a182b810",
   "metadata": {},
   "outputs": [],
   "source": [
    "d = {'a': 0, 'b': 1, 'c': 0}\n",
    "\n",
    "if d['a'] > 0:\n",
    "    print('ok')"
   ]
  },
  {
   "cell_type": "code",
   "execution_count": null,
   "id": "1dad3db8",
   "metadata": {},
   "outputs": [],
   "source": [
    "d = {'a': 0, 'b': 1, 'c': 0}\n",
    "\n",
    "if d['a'] > 0:\n",
    "    print('ok')\n",
    "elif d['b'] > 0:\n",
    "    print('ok')\n",
    "elif d['c'] > 0:\n",
    "    print('ok')\n",
    "elif d['d'] > 0:\n",
    "    print('ok')\n",
    "else:\n",
    "    print('not ok')"
   ]
  },
  {
   "cell_type": "code",
   "execution_count": 19,
   "id": "dba7a4c1",
   "metadata": {},
   "outputs": [
    {
     "data": {
      "text/plain": [
       "'ax'"
      ]
     },
     "execution_count": 19,
     "metadata": {},
     "output_type": "execute_result"
    }
   ],
   "source": [
    " ('a' + 'x') if '123'.isdigit() else ('y' + 'b')\n",
    "# '123'.isdigit() The expression '123'.isdigit() returns True because the string '123' consists \n",
    "# only of numeric characters (digits),\n",
    "# and therefore can be interpreted as an integer value."
   ]
  },
  {
   "cell_type": "code",
   "execution_count": 20,
   "id": "3cb71b6e",
   "metadata": {},
   "outputs": [
    {
     "data": {
      "text/plain": [
       "False"
      ]
     },
     "execution_count": 20,
     "metadata": {},
     "output_type": "execute_result"
    }
   ],
   "source": [
    "'2.0'.isdigit()"
   ]
  },
  {
   "cell_type": "markdown",
   "id": "e5a79fe3",
   "metadata": {},
   "source": [
    "## while loop \n",
    "\n",
    "Python does not have a do-while loop construct, which is found in some other programming languages.\n",
    "looping statements \n",
    "\n",
    "while\n",
    "\n",
    "Indefinite iteration means that a loop will run repeatedly without a predetermined number of iterations. This is the default behavior of a while loop in Python.\n",
    "\n",
    "For example, consider a program that reads data from a sensor and processes it using a while loop. The loop will continue to run until the sensor stops sending data, and the number of times the loop will run depends on how long the sensor continues to send data. Since the number of iterations is not known in advance, this is an example of indefinite iteration.\n"
   ]
  },
  {
   "cell_type": "code",
   "execution_count": 4,
   "id": "8ebe229b",
   "metadata": {},
   "outputs": [
    {
     "name": "stdout",
     "output_type": "stream",
     "text": [
      "101\n"
     ]
    }
   ],
   "source": [
    "count = 0\n",
    "while count <= 100:\n",
    "    count += 1\n",
    "    if count==3:\n",
    "        break\n",
    "print(count)"
   ]
  },
  {
   "cell_type": "code",
   "execution_count": null,
   "id": "a6c1147c",
   "metadata": {},
   "outputs": [],
   "source": [
    "count = 0\n",
    "while count <= 100:\n",
    "    count += 1\n",
    "    if count==3:\n",
    "        continue\n",
    "print(count)"
   ]
  },
  {
   "cell_type": "code",
   "execution_count": null,
   "id": "f5878663",
   "metadata": {},
   "outputs": [
    {
     "name": "stdout",
     "output_type": "stream",
     "text": [
      "corge\n",
      "qux\n",
      "baz\n"
     ]
    }
   ],
   "source": [
    "a = ['foo', 'bar', 'baz', 'qux', 'corge']\n",
    "while a:\n",
    "    if len(a) < 3:\n",
    "        continue\n",
    "    print(a.pop())\n",
    "print('Done.')\n",
    "\n",
    "#  this loop is infinite"
   ]
  },
  {
   "cell_type": "code",
   "execution_count": 3,
   "id": "db994e1f",
   "metadata": {},
   "outputs": [
    {
     "name": "stdout",
     "output_type": "stream",
     "text": [
      "corge\n",
      "qux\n",
      "baz\n",
      "Done.\n"
     ]
    }
   ],
   "source": [
    "a = ['foo', 'bar', 'baz', 'qux', 'corge']\n",
    "while a:\n",
    "    if len(a) < 3:\n",
    "        break\n",
    "    print(a.pop())\n",
    "print('Done.')"
   ]
  },
  {
   "cell_type": "code",
   "execution_count": 1,
   "id": "3ef0d576",
   "metadata": {},
   "outputs": [
    {
     "name": "stdout",
     "output_type": "stream",
     "text": [
      "corge\n",
      "qux\n",
      "baz\n",
      "bar\n",
      "foo\n",
      "Done.\n"
     ]
    }
   ],
   "source": [
    "a = ['foo', 'bar', 'baz', 'qux', 'corge']\n",
    "while a:\n",
    "    print(a.pop())\n",
    "else:\n",
    "    print('Done.')\n",
    "    \n",
    "# Python allows an optional else clause at the end of a while loop. \n",
    "# This is a unique feature of Python,\n",
    "# not found in most other programming languages. The syntax is shown below:"
   ]
  },
  {
   "cell_type": "code",
   "execution_count": 3,
   "id": "d35f4b9d",
   "metadata": {},
   "outputs": [
    {
     "name": "stdout",
     "output_type": "stream",
     "text": [
      "[]\n"
     ]
    }
   ],
   "source": [
    "a = [1,2,3]\n",
    "while a:\n",
    "    list.pop(a)\n",
    "    \n",
    "print(a)"
   ]
  },
  {
   "cell_type": "code",
   "execution_count": 2,
   "id": "4a7ac2dc",
   "metadata": {},
   "outputs": [],
   "source": [
    "a = [1,2,3]\n",
    "while a: a.pop()"
   ]
  },
  {
   "cell_type": "code",
   "execution_count": 3,
   "id": "91472946",
   "metadata": {},
   "outputs": [
    {
     "data": {
      "text/plain": [
       "[]"
      ]
     },
     "execution_count": 3,
     "metadata": {},
     "output_type": "execute_result"
    }
   ],
   "source": [
    "a"
   ]
  },
  {
   "cell_type": "code",
   "execution_count": null,
   "id": "ae3ead54",
   "metadata": {},
   "outputs": [],
   "source": [
    "# if"
   ]
  },
  {
   "cell_type": "code",
   "execution_count": 11,
   "id": "b678716b",
   "metadata": {},
   "outputs": [
    {
     "name": "stdout",
     "output_type": "stream",
     "text": [
      "foo\n"
     ]
    }
   ],
   "source": [
    "if (1, 2):\n",
    "             print('foo')"
   ]
  },
  {
   "cell_type": "code",
   "execution_count": null,
   "id": "4e852055",
   "metadata": {},
   "outputs": [],
   "source": [
    "# In Python, a suite is a group of one or more statements that are indented under \n",
    "# a control statement, such as a if, else, while, for, def, \n",
    "# or class statement. The suite is executed if the control statement's condition is true"
   ]
  },
  {
   "cell_type": "markdown",
   "id": "a0aee373",
   "metadata": {},
   "source": [
    "## For loop\n",
    "\n",
    "A for loop is often used to iterate over a sequence of values, such as a list, tuple, or range. This allows you to perform a task for each element in the sequence."
   ]
  },
  {
   "cell_type": "code",
   "execution_count": 13,
   "id": "f9af9fe6",
   "metadata": {},
   "outputs": [
    {
     "name": "stdout",
     "output_type": "stream",
     "text": [
      "40\n"
     ]
    }
   ],
   "source": [
    "a = [1,2,34,3]\n",
    "sum = 0\n",
    "for i in a:\n",
    "    sum += i\n",
    "print(sum)"
   ]
  },
  {
   "cell_type": "markdown",
   "id": "d067c15f",
   "metadata": {},
   "source": [
    "## STRING"
   ]
  },
  {
   "cell_type": "code",
   "execution_count": 19,
   "id": "ddfb34c1",
   "metadata": {},
   "outputs": [
    {
     "data": {
      "text/plain": [
       "0"
      ]
     },
     "execution_count": 19,
     "metadata": {},
     "output_type": "execute_result"
    }
   ],
   "source": [
    "a = \"deepankar\"\n",
    "a.find('d')\n"
   ]
  },
  {
   "cell_type": "code",
   "execution_count": 20,
   "id": "db2f51bb",
   "metadata": {},
   "outputs": [],
   "source": [
    "a = \"deepankar has a sympathy for the poor\"\n",
    "x = '*'.join(a)"
   ]
  },
  {
   "cell_type": "code",
   "execution_count": 21,
   "id": "b988c6d3",
   "metadata": {},
   "outputs": [
    {
     "data": {
      "text/plain": [
       "5"
      ]
     },
     "execution_count": 21,
     "metadata": {},
     "output_type": "execute_result"
    }
   ],
   "source": [
    "x\n",
    "a.count('a')"
   ]
  },
  {
   "cell_type": "code",
   "execution_count": 22,
   "id": "50b07a26",
   "metadata": {},
   "outputs": [],
   "source": [
    "s = a.split()"
   ]
  },
  {
   "cell_type": "code",
   "execution_count": 23,
   "id": "adb72951",
   "metadata": {},
   "outputs": [
    {
     "data": {
      "text/plain": [
       "['deepankar', 'has', 'a', 'sympathy', 'for', 'the', 'poor']"
      ]
     },
     "execution_count": 23,
     "metadata": {},
     "output_type": "execute_result"
    }
   ],
   "source": [
    "s"
   ]
  },
  {
   "cell_type": "code",
   "execution_count": 29,
   "id": "1a96de2b",
   "metadata": {},
   "outputs": [
    {
     "name": "stdout",
     "output_type": "stream",
     "text": [
      "1\n",
      "2\n"
     ]
    }
   ],
   "source": [
    "a ={1:'dj',2:'fj'}\n",
    "for i in a:\n",
    "    print(i)"
   ]
  },
  {
   "cell_type": "code",
   "execution_count": 30,
   "id": "9a1d4fbf",
   "metadata": {},
   "outputs": [
    {
     "data": {
      "text/plain": [
       "['poor', 'the', 'for', 'sympathy', 'a', 'has', 'deepankar']"
      ]
     },
     "execution_count": 30,
     "metadata": {},
     "output_type": "execute_result"
    }
   ],
   "source": [
    "s[::-1]"
   ]
  },
  {
   "cell_type": "code",
   "execution_count": 33,
   "id": "6bd45f54",
   "metadata": {},
   "outputs": [
    {
     "data": {
      "text/plain": [
       "89"
      ]
     },
     "execution_count": 33,
     "metadata": {},
     "output_type": "execute_result"
    }
   ],
   "source": [
    "a = 89\n",
    "(a)"
   ]
  },
  {
   "cell_type": "code",
   "execution_count": 34,
   "id": "963fdded",
   "metadata": {},
   "outputs": [
    {
     "data": {
      "text/plain": [
       "(4, 3, 2, 1)"
      ]
     },
     "execution_count": 34,
     "metadata": {},
     "output_type": "execute_result"
    }
   ],
   "source": [
    "a = (1,2,3,4)\n",
    "a[::-1]"
   ]
  },
  {
   "cell_type": "markdown",
   "id": "9e97dc45",
   "metadata": {},
   "source": [
    "## SCOPE OF VARIABLE IN PYTHON"
   ]
  },
  {
   "cell_type": "code",
   "execution_count": 40,
   "id": "ddc5d305",
   "metadata": {},
   "outputs": [
    {
     "name": "stdout",
     "output_type": "stream",
     "text": [
      "print x =  10\n",
      "print y =  20\n"
     ]
    },
    {
     "ename": "NameError",
     "evalue": "name 'y' is not defined",
     "output_type": "error",
     "traceback": [
      "\u001b[1;31m---------------------------------------------------------------------------\u001b[0m",
      "\u001b[1;31mNameError\u001b[0m                                 Traceback (most recent call last)",
      "\u001b[1;32m~\\AppData\\Local\\Temp\\ipykernel_2328\\1798653951.py\u001b[0m in \u001b[0;36m<module>\u001b[1;34m\u001b[0m\n\u001b[0;32m      8\u001b[0m \u001b[0mfunction\u001b[0m\u001b[1;33m(\u001b[0m\u001b[1;33m)\u001b[0m\u001b[1;33m\u001b[0m\u001b[1;33m\u001b[0m\u001b[0m\n\u001b[0;32m      9\u001b[0m \u001b[1;33m\u001b[0m\u001b[0m\n\u001b[1;32m---> 10\u001b[1;33m \u001b[0mprint\u001b[0m\u001b[1;33m(\u001b[0m\u001b[1;34m\"y = \"\u001b[0m\u001b[1;33m,\u001b[0m\u001b[0my\u001b[0m\u001b[1;33m)\u001b[0m\u001b[1;33m\u001b[0m\u001b[1;33m\u001b[0m\u001b[0m\n\u001b[0m\u001b[0;32m     11\u001b[0m \u001b[1;31m# this will give error because the scope of variable is inside the function only\u001b[0m\u001b[1;33m\u001b[0m\u001b[1;33m\u001b[0m\u001b[0m\n",
      "\u001b[1;31mNameError\u001b[0m: name 'y' is not defined"
     ]
    }
   ],
   "source": [
    "x = 10\n",
    "\n",
    "def function():\n",
    "    y = 20\n",
    "    print(\"print x = \",x)\n",
    "    print(\"print y = \",y)\n",
    "    \n",
    "function()   \n",
    "     \n",
    "print(\"y = \",y)  \n",
    "# this will give error because the scope of variable is inside the function only"
   ]
  },
  {
   "cell_type": "code",
   "execution_count": 53,
   "id": "b0efc084",
   "metadata": {},
   "outputs": [
    {
     "name": "stdout",
     "output_type": "stream",
     "text": [
      "10\n",
      "y =  20\n"
     ]
    }
   ],
   "source": [
    "class A:\n",
    "    x = 10\n",
    "    def my_method(self):\n",
    "        y = 20\n",
    "        print(\"y = \",y)\n",
    "\n",
    "a = A()\n",
    "\n",
    "print(A.x)\n",
    "a.my_method()"
   ]
  },
  {
   "cell_type": "markdown",
   "id": "eeab4b58",
   "metadata": {},
   "source": [
    "### \n",
    "Python, the term \"scope\" refers to the region of a program where a particular variable or function can be accessed. In other words, it defines the visibility and accessibility of variables and functions in your code.\n",
    "\n",
    "There are two main types of scope in Python:\n",
    "\n",
    "Global scope: Variables and functions defined at the top-level of a Python program or module are considered to be in the global scope. This means that they can be accessed from anywhere in the program.\n",
    "\n",
    "Local scope: Variables and functions defined inside a function are considered to be in the local scope. This means that they can only be accessed from within the function.\n",
    "\n",
    "Understanding scope is important in Python because it helps you avoid naming conflicts and ensures that your code is organized and easy to maintain. By defining variables and functions in the appropriate scope, you can create more efficient and robust programs."
   ]
  },
  {
   "cell_type": "markdown",
   "id": "a808b7d0",
   "metadata": {},
   "source": [
    "## REGEX "
   ]
  },
  {
   "cell_type": "code",
   "execution_count": 4,
   "id": "0f630540",
   "metadata": {},
   "outputs": [
    {
     "name": "stdout",
     "output_type": "stream",
     "text": [
      "enter data to the test123amar\n",
      "correct\n"
     ]
    }
   ],
   "source": [
    "import re\n",
    "\n",
    "user_input = input(\"enter data to the test\")\n",
    "p = '\\D'\n",
    "if re.search(p,user_input):\n",
    "    print(\"correct\")\n",
    "else:\n",
    "    print(\"in_correct\")"
   ]
  },
  {
   "cell_type": "code",
   "execution_count": 18,
   "id": "af8f6866",
   "metadata": {},
   "outputs": [
    {
     "name": "stdout",
     "output_type": "stream",
     "text": [
      "Enter the number$%sd\n",
      "correct\n"
     ]
    }
   ],
   "source": [
    "import re \n",
    "user_input = input(\"Enter the number\")\n",
    "p = \"\\w\"\n",
    "# should have alphabet +\n",
    "if re.search(p,user_input):\n",
    "    print(\"correct\")\n",
    "else:\n",
    "    print(\"in-correct\")"
   ]
  },
  {
   "cell_type": "code",
   "execution_count": null,
   "id": "4d41194a",
   "metadata": {},
   "outputs": [],
   "source": [
    "import re \n",
    "user_input = input(\"Enter the number\")\n",
    "p = \"\\W\"\n",
    "# should have symbols+\n",
    "if re.search(p,user_input):\n",
    "    print(\"correct\")\n",
    "else:\n",
    "    print(\"in-correct\")"
   ]
  },
  {
   "cell_type": "code",
   "execution_count": 7,
   "id": "89c27e3a",
   "metadata": {},
   "outputs": [
    {
     "name": "stdout",
     "output_type": "stream",
     "text": [
      "Enter the number123\n",
      "in-correct\n"
     ]
    }
   ],
   "source": [
    "import re \n",
    "user_input = input(\"Enter the number\")\n",
    "p = \"[a-z]\"\n",
    "if re.search(p,user_input):\n",
    "    print(\"correct\")\n",
    "else:\n",
    "    print(\"in-correct\")"
   ]
  },
  {
   "cell_type": "code",
   "execution_count": 8,
   "id": "2bac0cdc",
   "metadata": {},
   "outputs": [
    {
     "name": "stdout",
     "output_type": "stream",
     "text": [
      "Enter the numberAMAR\n",
      "correct\n"
     ]
    }
   ],
   "source": [
    "import re \n",
    "user_input = input(\"Enter the number\")\n",
    "p = \"[a-zA-Z]\"\n",
    "if re.search(p,user_input):\n",
    "    print(\"correct\")\n",
    "else:\n",
    "    print(\"in-correct\")"
   ]
  },
  {
   "cell_type": "code",
   "execution_count": null,
   "id": "e71e9491",
   "metadata": {},
   "outputs": [],
   "source": [
    "import re \n",
    "user_input = input(\"Enter the number\")\n",
    "p = \"[A-Za-z0-9\\.]+[@]+[a-zA-Z]+[\\.][a-zA-z]{2,3}\"\n",
    "if re.search(p,user_input):\n",
    "    print(\"Correct\")\n",
    "else:\n",
    "    print(\"in-correct\")\n",
    "    "
   ]
  },
  {
   "cell_type": "code",
   "execution_count": null,
   "id": "33ab2e19",
   "metadata": {},
   "outputs": [],
   "source": [
    "data = \"this is Test\"\n",
    "import re \n",
    "inp = input()"
   ]
  },
  {
   "cell_type": "markdown",
   "id": "c8765fe6",
   "metadata": {},
   "source": [
    "## STRING"
   ]
  },
  {
   "cell_type": "markdown",
   "id": "b047baae",
   "metadata": {},
   "source": [
    "The join() method of a string is applicable on iterable objects, such as lists, tuples, and sets. The join() method concatenates the elements of an iterable object into a single string, with a specified separator between each element."
   ]
  },
  {
   "cell_type": "code",
   "execution_count": 33,
   "id": "ceb3c48d",
   "metadata": {},
   "outputs": [
    {
     "data": {
      "text/plain": [
       "'d e e p a n k a r   h a s   a   s y m p a t h a t i c   v i e w'"
      ]
     },
     "execution_count": 33,
     "metadata": {},
     "output_type": "execute_result"
    }
   ],
   "source": [
    "a = \"deepankar has a sympathatic view\"\n",
    "s = \" \".join(a)\n",
    "s"
   ]
  },
  {
   "cell_type": "code",
   "execution_count": 44,
   "id": "518dd241",
   "metadata": {},
   "outputs": [],
   "source": [
    "# how to convert list to string\n",
    "\n",
    "a = {1,2,3,4,5}\n",
    "b = []\n",
    "for i in a:\n",
    "    z=str(i)\n",
    "    b.append(z)"
   ]
  },
  {
   "cell_type": "code",
   "execution_count": 45,
   "id": "1d7d9624",
   "metadata": {},
   "outputs": [
    {
     "data": {
      "text/plain": [
       "'12345'"
      ]
     },
     "execution_count": 45,
     "metadata": {},
     "output_type": "execute_result"
    }
   ],
   "source": [
    "c = \"\".join(b)\n",
    "c"
   ]
  },
  {
   "cell_type": "code",
   "execution_count": 13,
   "id": "8d21f064",
   "metadata": {},
   "outputs": [
    {
     "data": {
      "text/plain": [
       "'12345'"
      ]
     },
     "execution_count": 13,
     "metadata": {},
     "output_type": "execute_result"
    }
   ],
   "source": [
    "d"
   ]
  },
  {
   "cell_type": "code",
   "execution_count": 46,
   "id": "b9df3217",
   "metadata": {},
   "outputs": [
    {
     "data": {
      "text/plain": [
       "['deepanka', 'pawar']"
      ]
     },
     "execution_count": 46,
     "metadata": {},
     "output_type": "execute_result"
    }
   ],
   "source": [
    "c = \"deepanka pawar\"\n",
    "c.split()"
   ]
  },
  {
   "cell_type": "code",
   "execution_count": null,
   "id": "4112bb29",
   "metadata": {},
   "outputs": [],
   "source": []
  }
 ],
 "metadata": {
  "kernelspec": {
   "display_name": "Python 3 (ipykernel)",
   "language": "python",
   "name": "python3"
  },
  "language_info": {
   "codemirror_mode": {
    "name": "ipython",
    "version": 3
   },
   "file_extension": ".py",
   "mimetype": "text/x-python",
   "name": "python",
   "nbconvert_exporter": "python",
   "pygments_lexer": "ipython3",
   "version": "3.9.13"
  }
 },
 "nbformat": 4,
 "nbformat_minor": 5
}
