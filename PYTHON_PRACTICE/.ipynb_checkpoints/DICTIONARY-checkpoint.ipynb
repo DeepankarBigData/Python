{
 "cells": [
  {
   "cell_type": "markdown",
   "id": "a3fa83c8",
   "metadata": {},
   "source": [
    "#### Dictionary is a non- primitive built in data type in python used for collectiong data in key value pairs\n",
    "\n",
    "#### non-primitive built in data types are composed of primitive or other non-primitive data types\n",
    "\n",
    "\n",
    "Python has the following data types built-in by default, in these categories:\n",
    "\n",
    "Text Type:\tstr\n",
    "\n",
    "Numeric Types:\tint, float, complex\n",
    "\n",
    "Sequence Types:\tlist, tuple, range\n",
    "\n",
    "Mapping Type:\tdict\n",
    "\n",
    "Set Types:\tset, frozenset\n",
    "\n",
    "Boolean Type:\tbool\n",
    "\n",
    "Binary Types:\tbytes, bytearray, memoryview\n",
    "\n",
    "None Type:\tNoneType\n",
    "\n",
    "\n",
    "\n"
   ]
  },
  {
   "cell_type": "code",
   "execution_count": null,
   "id": "13d91e82",
   "metadata": {},
   "outputs": [],
   "source": [
    "# write a dictionary with fruit name as key having 4 fruits "
   ]
  },
  {
   "cell_type": "code",
   "execution_count": 1,
   "id": "cdb09e43",
   "metadata": {},
   "outputs": [],
   "source": [
    "my_dict = {'fruit_name' : ('orange', 'apple','banana','lichi')}"
   ]
  },
  {
   "cell_type": "code",
   "execution_count": 3,
   "id": "dff4ae4f",
   "metadata": {},
   "outputs": [
    {
     "data": {
      "text/plain": [
       "dict_values([('orange', 'apple', 'banana', 'lichi')])"
      ]
     },
     "execution_count": 3,
     "metadata": {},
     "output_type": "execute_result"
    }
   ],
   "source": [
    "my_dict.values()"
   ]
  },
  {
   "cell_type": "markdown",
   "id": "0197516d",
   "metadata": {},
   "source": [
    "#### Python | Sort Python Dictionaries by Key or Value\n",
    "\n",
    "sorted is a built-in Python function that returns a sorted list from the items of an iterable object such as a list, tuple, or dictionary. The function takes an iterable as its argument and returns a new sorted list containing all the items in ascending order by default.\n"
   ]
  },
  {
   "cell_type": "code",
   "execution_count": 14,
   "id": "ecd8964d",
   "metadata": {},
   "outputs": [
    {
     "name": "stdout",
     "output_type": "stream",
     "text": [
      "{'apple': 4, 'kiwi': 2, 'mango': 3}\n"
     ]
    }
   ],
   "source": [
    "a = {'mango':3,'apple':4,'kiwi':2}\n",
    "b = sorted(a.items())\n",
    "c = dict(b)\n",
    "print(c)"
   ]
  },
  {
   "cell_type": "code",
   "execution_count": null,
   "id": "f4ddf07e",
   "metadata": {},
   "outputs": [],
   "source": [
    "# sorting by value\n",
    "a = {'mango':3,'apple':4,'kiwi':2}"
   ]
  },
  {
   "cell_type": "code",
   "execution_count": 16,
   "id": "64e41998",
   "metadata": {},
   "outputs": [
    {
     "data": {
      "text/plain": [
       "'not'"
      ]
     },
     "execution_count": 16,
     "metadata": {},
     "output_type": "execute_result"
    }
   ],
   "source": [
    "\n",
    "country_code = {'India' : '0091',\n",
    "                'Australia' : '0025',\n",
    "                'Nepal' : '00977'}\n",
    "\n",
    "\n",
    "country_code.get('India4','not')"
   ]
  },
  {
   "cell_type": "code",
   "execution_count": null,
   "id": "2df1ac46",
   "metadata": {},
   "outputs": [],
   "source": [
    "# Python dictionary with keys having multiple inputs\n",
    "# How to create a dictionary where a key is formed using multiple inputs? \n",
    "\n",
    "# multiple input = each key in the dictionary is a tuple with multiple elements, rather than a single element.\n",
    "\n",
    "\n"
   ]
  },
  {
   "cell_type": "code",
   "execution_count": 21,
   "id": "501169fa",
   "metadata": {},
   "outputs": [],
   "source": [
    "a = {}\n",
    "a[(1,3,5)]= 'Engineer'"
   ]
  },
  {
   "cell_type": "code",
   "execution_count": 22,
   "id": "f5423457",
   "metadata": {},
   "outputs": [
    {
     "data": {
      "text/plain": [
       "{(1, 3, 5): 'Engineer'}"
      ]
     },
     "execution_count": 22,
     "metadata": {},
     "output_type": "execute_result"
    }
   ],
   "source": [
    "a"
   ]
  },
  {
   "cell_type": "code",
   "execution_count": 30,
   "id": "87bbe1a4",
   "metadata": {},
   "outputs": [
    {
     "name": "stdout",
     "output_type": "stream",
     "text": [
      "sum of dictionary : 300\n"
     ]
    }
   ],
   "source": [
    "# Python program to find the sum of all items in a dictionary\n",
    "li = []\n",
    "\n",
    "def fun(b):\n",
    "    for i in b:\n",
    "        li.append(a[i])\n",
    "    return sum(li)\n",
    "\n",
    "\n",
    "a = {'apple':100,'mango':200}\n",
    "print(\"sum of dictionary :\",fun(a))\n",
    "\n",
    "\n",
    "\n",
    "\n"
   ]
  },
  {
   "cell_type": "code",
   "execution_count": 27,
   "id": "7d6f2ca9",
   "metadata": {},
   "outputs": [
    {
     "data": {
      "text/plain": [
       "300"
      ]
     },
     "execution_count": 27,
     "metadata": {},
     "output_type": "execute_result"
    }
   ],
   "source": [
    "b"
   ]
  },
  {
   "cell_type": "code",
   "execution_count": 1,
   "id": "c7c055b0",
   "metadata": {},
   "outputs": [
    {
     "name": "stdout",
     "output_type": "stream",
     "text": [
      "Ford\n",
      "Mustang\n",
      "1964\n"
     ]
    }
   ],
   "source": [
    "thisdict = {\n",
    "  \"brand\": \"Ford\",\n",
    "  \"model\": \"Mustang\",\n",
    "  \"year\": 1964\n",
    "}\n",
    "\n",
    "for i in thisdict.keys():\n",
    "    print(thisdict[i])"
   ]
  },
  {
   "cell_type": "code",
   "execution_count": null,
   "id": "bc971c2c",
   "metadata": {},
   "outputs": [],
   "source": [
    "thisdict = {\n",
    "  \"brand\": \"Ford\",\n",
    "  \"model\": \"Mustang\",\n",
    "  \"year\": 1964\n",
    "}\n",
    "\n",
    "for i in thisdict.keys():\n",
    "    print(thisdict.keys())"
   ]
  },
  {
   "cell_type": "code",
   "execution_count": 2,
   "id": "5178c6e1",
   "metadata": {},
   "outputs": [
    {
     "name": "stdout",
     "output_type": "stream",
     "text": [
      "brand\n",
      "model\n",
      "year\n"
     ]
    }
   ],
   "source": [
    "thisdict = {\n",
    "  \"brand\": \"Ford\",\n",
    "  \"model\": \"Mustang\",\n",
    "  \"year\": 1964\n",
    "}\n",
    "\n",
    "for i in thisdict.keys():\n",
    "    print(i)"
   ]
  },
  {
   "cell_type": "code",
   "execution_count": 3,
   "id": "ca002a11",
   "metadata": {},
   "outputs": [
    {
     "data": {
      "text/plain": [
       "'Ford'"
      ]
     },
     "execution_count": 3,
     "metadata": {},
     "output_type": "execute_result"
    }
   ],
   "source": [
    "thisdict = {\n",
    "  \"brand\": \"Ford\",\n",
    "  \"model\": \"Mustang\",\n",
    "  \"year\": 1964\n",
    "}\n",
    "\n",
    "\n",
    "thisdict.pop('brand')"
   ]
  },
  {
   "cell_type": "code",
   "execution_count": 5,
   "id": "a6a2efcc",
   "metadata": {},
   "outputs": [
    {
     "data": {
      "text/plain": [
       "('year', 1964)"
      ]
     },
     "execution_count": 5,
     "metadata": {},
     "output_type": "execute_result"
    }
   ],
   "source": [
    "thisdict = {\n",
    "  \"brand\": \"Ford\",\n",
    "  \"model\": \"Mustang\",\n",
    "  \"year\": 1964\n",
    "}\n",
    "\n",
    "\n",
    "thisdict.popitem()"
   ]
  },
  {
   "cell_type": "code",
   "execution_count": 16,
   "id": "9c28b258",
   "metadata": {},
   "outputs": [],
   "source": [
    "thisdict = {\n",
    "  \"brand\": \"Ford\",\n",
    "  \"model\": \"Mustang\",\n",
    "  \"year\": 1964\n",
    "}\n",
    "\n",
    "\n",
    "thisdict.clear()"
   ]
  },
  {
   "cell_type": "code",
   "execution_count": 8,
   "id": "17953913",
   "metadata": {},
   "outputs": [
    {
     "data": {
      "text/plain": [
       "{}"
      ]
     },
     "execution_count": 8,
     "metadata": {},
     "output_type": "execute_result"
    }
   ],
   "source": [
    "thisdict"
   ]
  },
  {
   "cell_type": "code",
   "execution_count": 10,
   "id": "dbaf600e",
   "metadata": {},
   "outputs": [],
   "source": [
    "thisdict = {\n",
    "  \"brand\": \"Ford\",\n",
    "  \"model\": \"Mustang\",\n",
    "  \"year\": 1964\n",
    "}\n",
    "\n",
    "\n",
    "del thisdict"
   ]
  },
  {
   "cell_type": "code",
   "execution_count": 17,
   "id": "af27dbcc",
   "metadata": {},
   "outputs": [
    {
     "data": {
      "text/plain": [
       "{}"
      ]
     },
     "execution_count": 17,
     "metadata": {},
     "output_type": "execute_result"
    }
   ],
   "source": [
    " thisdict"
   ]
  },
  {
   "cell_type": "code",
   "execution_count": 18,
   "id": "6485ace1",
   "metadata": {},
   "outputs": [
    {
     "data": {
      "text/plain": [
       "dict_items([('brand', 'Ford'), ('model', 'Mustang'), ('year', 1964)])"
      ]
     },
     "execution_count": 18,
     "metadata": {},
     "output_type": "execute_result"
    }
   ],
   "source": [
    "thisdict = {\n",
    "  \"brand\": \"Ford\",\n",
    "  \"model\": \"Mustang\",\n",
    "  \"year\": 1964\n",
    "}\n",
    "\n",
    "\n",
    "thisdict.items()"
   ]
  },
  {
   "cell_type": "code",
   "execution_count": null,
   "id": "b3e84abb",
   "metadata": {},
   "outputs": [],
   "source": []
  },
  {
   "cell_type": "code",
   "execution_count": null,
   "id": "c3d70abb",
   "metadata": {},
   "outputs": [],
   "source": [
    "# Write a program to find number of occurrences of each letter present in\n",
    "# the given string?\n"
   ]
  },
  {
   "cell_type": "code",
   "execution_count": null,
   "id": "59912b39",
   "metadata": {},
   "outputs": [],
   "source": [
    "# Write a program to take dictionary from the keyboard and print the sum\n",
    "# of values?"
   ]
  },
  {
   "cell_type": "code",
   "execution_count": 9,
   "id": "94c4311f",
   "metadata": {},
   "outputs": [
    {
     "name": "stdout",
     "output_type": "stream",
     "text": [
      "1\n",
      "2\n",
      "the sum of keys are : 3\n"
     ]
    }
   ],
   "source": [
    "a = {1:'berlin',2:'India'}\n",
    "x = 0\n",
    "for i in a.keys():\n",
    "    print(i)\n",
    "    x = x+i\n",
    "print(\"the sum of keys are :\",x)"
   ]
  },
  {
   "cell_type": "code",
   "execution_count": 10,
   "id": "43ecc58e",
   "metadata": {},
   "outputs": [],
   "source": [
    "a = {'name':100,'roll':30}\n",
    "b = a.setdefault('name',890)"
   ]
  },
  {
   "cell_type": "code",
   "execution_count": 11,
   "id": "2355c1c1",
   "metadata": {},
   "outputs": [
    {
     "data": {
      "text/plain": [
       "100"
      ]
     },
     "execution_count": 11,
     "metadata": {},
     "output_type": "execute_result"
    }
   ],
   "source": [
    "b"
   ]
  },
  {
   "cell_type": "code",
   "execution_count": 1,
   "id": "0c8fbf06",
   "metadata": {},
   "outputs": [],
   "source": [
    "a = {'name':100,'roll':30}\n",
    "b = {'add':'walstreet'}\n",
    "y =[]\n",
    "z=[]\n",
    "for i in a.keys():\n",
    "    y.append(i)\n",
    "    \n",
    "for j in b.keys():\n",
    "    z.append(j)"
   ]
  },
  {
   "cell_type": "code",
   "execution_count": 2,
   "id": "aed21365",
   "metadata": {},
   "outputs": [
    {
     "data": {
      "text/plain": [
       "['name', 'roll']"
      ]
     },
     "execution_count": 2,
     "metadata": {},
     "output_type": "execute_result"
    }
   ],
   "source": [
    "y"
   ]
  },
  {
   "cell_type": "code",
   "execution_count": 3,
   "id": "690daa1e",
   "metadata": {},
   "outputs": [
    {
     "data": {
      "text/plain": [
       "['add']"
      ]
     },
     "execution_count": 3,
     "metadata": {},
     "output_type": "execute_result"
    }
   ],
   "source": [
    "z"
   ]
  },
  {
   "cell_type": "code",
   "execution_count": 4,
   "id": "523346de",
   "metadata": {},
   "outputs": [],
   "source": [
    "y.extend(z)"
   ]
  },
  {
   "cell_type": "code",
   "execution_count": 5,
   "id": "38813b81",
   "metadata": {},
   "outputs": [
    {
     "name": "stdout",
     "output_type": "stream",
     "text": [
      "['name', 'roll', 'add']\n"
     ]
    }
   ],
   "source": [
    "print(y)"
   ]
  },
  {
   "cell_type": "code",
   "execution_count": 9,
   "id": "ea7d7ba7",
   "metadata": {},
   "outputs": [],
   "source": [
    "u = []\n",
    "for i in a.values():\n",
    "    u.append(i)\n",
    "    "
   ]
  },
  {
   "cell_type": "code",
   "execution_count": 12,
   "id": "73c3ad70",
   "metadata": {},
   "outputs": [
    {
     "data": {
      "text/plain": [
       "[100, 30]"
      ]
     },
     "execution_count": 12,
     "metadata": {},
     "output_type": "execute_result"
    }
   ],
   "source": [
    "u"
   ]
  },
  {
   "cell_type": "code",
   "execution_count": 10,
   "id": "aad298c7",
   "metadata": {},
   "outputs": [],
   "source": [
    "v = []\n",
    "for j in b.values():\n",
    "    v.append(j)"
   ]
  },
  {
   "cell_type": "code",
   "execution_count": 11,
   "id": "b617aa74",
   "metadata": {},
   "outputs": [
    {
     "data": {
      "text/plain": [
       "['walstreet']"
      ]
     },
     "execution_count": 11,
     "metadata": {},
     "output_type": "execute_result"
    }
   ],
   "source": [
    "v"
   ]
  },
  {
   "cell_type": "code",
   "execution_count": 13,
   "id": "b913274e",
   "metadata": {},
   "outputs": [
    {
     "data": {
      "text/plain": [
       "'name'"
      ]
     },
     "execution_count": 13,
     "metadata": {},
     "output_type": "execute_result"
    }
   ],
   "source": [
    "y[0]"
   ]
  },
  {
   "cell_type": "code",
   "execution_count": 14,
   "id": "69ddc2cd",
   "metadata": {},
   "outputs": [],
   "source": [
    "Dict = {}\n",
    "Dict[y[0]]=u[0]"
   ]
  },
  {
   "cell_type": "code",
   "execution_count": 15,
   "id": "46668664",
   "metadata": {},
   "outputs": [
    {
     "data": {
      "text/plain": [
       "{'name': 100}"
      ]
     },
     "execution_count": 15,
     "metadata": {},
     "output_type": "execute_result"
    }
   ],
   "source": [
    "Dict"
   ]
  },
  {
   "cell_type": "code",
   "execution_count": 16,
   "id": "6aaf3fdf",
   "metadata": {},
   "outputs": [],
   "source": [
    "Dict[y[1]]=u[1]"
   ]
  },
  {
   "cell_type": "code",
   "execution_count": 19,
   "id": "bb0941cc",
   "metadata": {},
   "outputs": [],
   "source": [
    "Dict[z[0]]=v[0]"
   ]
  },
  {
   "cell_type": "code",
   "execution_count": 20,
   "id": "d69064d7",
   "metadata": {},
   "outputs": [
    {
     "data": {
      "text/plain": [
       "{'name': 100, 'roll': 30, 'add': 'walstreet'}"
      ]
     },
     "execution_count": 20,
     "metadata": {},
     "output_type": "execute_result"
    }
   ],
   "source": [
    "Dict"
   ]
  },
  {
   "cell_type": "code",
   "execution_count": 5,
   "id": "8af92c11",
   "metadata": {},
   "outputs": [],
   "source": [
    "a = {'name':'Deep', 'roll':40}\n",
    "b = {'school':'Holy Flower','addr':'Nashik'}\n",
    "\n",
    "c = list(a.items())\n",
    "d = list(b.items())"
   ]
  },
  {
   "cell_type": "code",
   "execution_count": 6,
   "id": "15c9d511",
   "metadata": {},
   "outputs": [
    {
     "data": {
      "text/plain": [
       "[('name', 'Deep'), ('roll', 40), ('school', 'Holy Flower'), ('addr', 'Nashik')]"
      ]
     },
     "execution_count": 6,
     "metadata": {},
     "output_type": "execute_result"
    }
   ],
   "source": [
    "c.extend(d)\n",
    "c"
   ]
  },
  {
   "cell_type": "code",
   "execution_count": 7,
   "id": "385f74bd",
   "metadata": {},
   "outputs": [],
   "source": [
    "new_dict = dict(c)"
   ]
  },
  {
   "cell_type": "code",
   "execution_count": 8,
   "id": "d0fc5197",
   "metadata": {},
   "outputs": [
    {
     "data": {
      "text/plain": [
       "{'name': 'Deep', 'roll': 40, 'school': 'Holy Flower', 'addr': 'Nashik'}"
      ]
     },
     "execution_count": 8,
     "metadata": {},
     "output_type": "execute_result"
    }
   ],
   "source": [
    "new_dict\n"
   ]
  },
  {
   "cell_type": "code",
   "execution_count": 11,
   "id": "46aa9bde",
   "metadata": {},
   "outputs": [
    {
     "ename": "KeyError",
     "evalue": "'nam'",
     "output_type": "error",
     "traceback": [
      "\u001b[1;31m---------------------------------------------------------------------------\u001b[0m",
      "\u001b[1;31mKeyError\u001b[0m                                  Traceback (most recent call last)",
      "\u001b[1;32m~\\AppData\\Local\\Temp\\ipykernel_4056\\115628033.py\u001b[0m in \u001b[0;36m<module>\u001b[1;34m\u001b[0m\n\u001b[1;32m----> 1\u001b[1;33m \u001b[0mnew_dict\u001b[0m\u001b[1;33m[\u001b[0m\u001b[1;34m'nam'\u001b[0m\u001b[1;33m]\u001b[0m\u001b[1;33m\u001b[0m\u001b[1;33m\u001b[0m\u001b[0m\n\u001b[0m",
      "\u001b[1;31mKeyError\u001b[0m: 'nam'"
     ]
    }
   ],
   "source": [
    "new_dict['nam']"
   ]
  },
  {
   "cell_type": "code",
   "execution_count": 18,
   "id": "297b1540",
   "metadata": {},
   "outputs": [
    {
     "name": "stdout",
     "output_type": "stream",
     "text": [
      "not found\n"
     ]
    }
   ],
   "source": [
    "print(new_dict.get('nam','not found'))"
   ]
  },
  {
   "cell_type": "code",
   "execution_count": 19,
   "id": "244a500a",
   "metadata": {},
   "outputs": [
    {
     "data": {
      "text/plain": [
       "dict_keys(['name', 'roll', 'school', 'addr'])"
      ]
     },
     "execution_count": 19,
     "metadata": {},
     "output_type": "execute_result"
    }
   ],
   "source": [
    "new_dict.keys()"
   ]
  },
  {
   "cell_type": "code",
   "execution_count": 20,
   "id": "d3414f29",
   "metadata": {},
   "outputs": [
    {
     "data": {
      "text/plain": [
       "dict_values(['Deep', 40, 'Holy Flower', 'Nashik'])"
      ]
     },
     "execution_count": 20,
     "metadata": {},
     "output_type": "execute_result"
    }
   ],
   "source": [
    "new_dict.values()"
   ]
  },
  {
   "cell_type": "code",
   "execution_count": 22,
   "id": "8b5c71c7",
   "metadata": {},
   "outputs": [
    {
     "data": {
      "text/plain": [
       "dict_items([('name', 'Deep'), ('roll', 40), ('school', 'Holy Flower'), ('addr', 'Nashik')])"
      ]
     },
     "execution_count": 22,
     "metadata": {},
     "output_type": "execute_result"
    }
   ],
   "source": [
    "new_dict.items()"
   ]
  },
  {
   "cell_type": "markdown",
   "id": "7b4ffa51",
   "metadata": {},
   "source": [
    "### program to print sum of all dictionary"
   ]
  },
  {
   "cell_type": "code",
   "execution_count": 74,
   "id": "e0913092",
   "metadata": {},
   "outputs": [
    {
     "name": "stdout",
     "output_type": "stream",
     "text": [
      "600\n"
     ]
    }
   ],
   "source": [
    "a = {'lichi':100,\n",
    "    'mango':500}\n",
    "h = 0\n",
    "for i in a.values():\n",
    "    h += i\n",
    "\n",
    "print(h)"
   ]
  },
  {
   "cell_type": "markdown",
   "id": "229f1c80",
   "metadata": {},
   "source": [
    "### Python program to find the sum of all items in a dictionary using function"
   ]
  },
  {
   "cell_type": "code",
   "execution_count": 36,
   "id": "22f73640",
   "metadata": {},
   "outputs": [],
   "source": [
    "x = []\n",
    "\n",
    "def func(inp):\n",
    "    for i in inp:\n",
    "        b = inp[i]\n",
    "        x.append(b)\n",
    "        \n",
    "func(inp = {'name':100, 'dj':200})    "
   ]
  },
  {
   "cell_type": "code",
   "execution_count": 37,
   "id": "aae0668b",
   "metadata": {},
   "outputs": [
    {
     "data": {
      "text/plain": [
       "[100, 200]"
      ]
     },
     "execution_count": 37,
     "metadata": {},
     "output_type": "execute_result"
    }
   ],
   "source": [
    "x"
   ]
  },
  {
   "cell_type": "code",
   "execution_count": 38,
   "id": "ab7b2561",
   "metadata": {},
   "outputs": [
    {
     "data": {
      "text/plain": [
       "300"
      ]
     },
     "execution_count": 38,
     "metadata": {},
     "output_type": "execute_result"
    }
   ],
   "source": [
    "sum(x)"
   ]
  },
  {
   "cell_type": "markdown",
   "id": "05eea484",
   "metadata": {},
   "source": [
    "#### PRACTICE\n"
   ]
  },
  {
   "cell_type": "code",
   "execution_count": 5,
   "id": "6a6c7d26",
   "metadata": {},
   "outputs": [],
   "source": [
    "a = {1:'one',2:'two',3:'three'}"
   ]
  },
  {
   "cell_type": "code",
   "execution_count": 6,
   "id": "364b69e0",
   "metadata": {},
   "outputs": [
    {
     "data": {
      "text/plain": [
       "'one'"
      ]
     },
     "execution_count": 6,
     "metadata": {},
     "output_type": "execute_result"
    }
   ],
   "source": [
    "a.get(1)"
   ]
  },
  {
   "cell_type": "code",
   "execution_count": 7,
   "id": "fe72fc91",
   "metadata": {},
   "outputs": [
    {
     "data": {
      "text/plain": [
       "dict_values(['one', 'two', 'three'])"
      ]
     },
     "execution_count": 7,
     "metadata": {},
     "output_type": "execute_result"
    }
   ],
   "source": [
    "a.values()"
   ]
  },
  {
   "cell_type": "code",
   "execution_count": 8,
   "id": "da26d558",
   "metadata": {},
   "outputs": [
    {
     "data": {
      "text/plain": [
       "dict_keys([1, 2, 3])"
      ]
     },
     "execution_count": 8,
     "metadata": {},
     "output_type": "execute_result"
    }
   ],
   "source": [
    "a.keys()"
   ]
  },
  {
   "cell_type": "code",
   "execution_count": 10,
   "id": "a2e8d176",
   "metadata": {},
   "outputs": [],
   "source": [
    "a['three']= 'fejk'"
   ]
  },
  {
   "cell_type": "code",
   "execution_count": 11,
   "id": "26fe90cb",
   "metadata": {},
   "outputs": [
    {
     "data": {
      "text/plain": [
       "{1: 'one', 2: 'two', 3: 'three', 'three': 'fejk'}"
      ]
     },
     "execution_count": 11,
     "metadata": {},
     "output_type": "execute_result"
    }
   ],
   "source": [
    "a"
   ]
  },
  {
   "cell_type": "code",
   "execution_count": 12,
   "id": "f730144b",
   "metadata": {},
   "outputs": [
    {
     "data": {
      "text/plain": [
       "dict_items([(1, 'one'), (2, 'two'), (3, 'three'), ('three', 'fejk')])"
      ]
     },
     "execution_count": 12,
     "metadata": {},
     "output_type": "execute_result"
    }
   ],
   "source": [
    "a.items()"
   ]
  },
  {
   "cell_type": "code",
   "execution_count": 16,
   "id": "61ca93d9",
   "metadata": {},
   "outputs": [
    {
     "ename": "KeyError",
     "evalue": "'three'",
     "output_type": "error",
     "traceback": [
      "\u001b[1;31m---------------------------------------------------------------------------\u001b[0m",
      "\u001b[1;31mKeyError\u001b[0m                                  Traceback (most recent call last)",
      "\u001b[1;32m~\\AppData\\Local\\Temp\\ipykernel_13152\\3685141674.py\u001b[0m in \u001b[0;36m<module>\u001b[1;34m\u001b[0m\n\u001b[1;32m----> 1\u001b[1;33m \u001b[1;32mdel\u001b[0m \u001b[0ma\u001b[0m\u001b[1;33m[\u001b[0m\u001b[1;34m'three'\u001b[0m\u001b[1;33m]\u001b[0m\u001b[1;33m\u001b[0m\u001b[1;33m\u001b[0m\u001b[0m\n\u001b[0m",
      "\u001b[1;31mKeyError\u001b[0m: 'three'"
     ]
    }
   ],
   "source": [
    "del a['three']\n"
   ]
  },
  {
   "cell_type": "code",
   "execution_count": 17,
   "id": "674bdacd",
   "metadata": {},
   "outputs": [
    {
     "data": {
      "text/plain": [
       "{1: 'one', 2: 'two', 3: 'three'}"
      ]
     },
     "execution_count": 17,
     "metadata": {},
     "output_type": "execute_result"
    }
   ],
   "source": [
    "a"
   ]
  },
  {
   "cell_type": "code",
   "execution_count": 24,
   "id": "ba66d012",
   "metadata": {},
   "outputs": [],
   "source": [
    "g = sorted(a.items())"
   ]
  },
  {
   "cell_type": "code",
   "execution_count": 25,
   "id": "6be7789b",
   "metadata": {},
   "outputs": [
    {
     "data": {
      "text/plain": [
       "[(1, 'one'), (2, 'two'), (3, 'three')]"
      ]
     },
     "execution_count": 25,
     "metadata": {},
     "output_type": "execute_result"
    }
   ],
   "source": [
    "g"
   ]
  },
  {
   "cell_type": "code",
   "execution_count": 26,
   "id": "080b27cb",
   "metadata": {},
   "outputs": [],
   "source": [
    "a = g.pop()"
   ]
  },
  {
   "cell_type": "code",
   "execution_count": 27,
   "id": "2d2fbd5f",
   "metadata": {},
   "outputs": [
    {
     "data": {
      "text/plain": [
       "(3, 'three')"
      ]
     },
     "execution_count": 27,
     "metadata": {},
     "output_type": "execute_result"
    }
   ],
   "source": [
    "a"
   ]
  },
  {
   "cell_type": "code",
   "execution_count": 29,
   "id": "89fcad33",
   "metadata": {},
   "outputs": [],
   "source": [
    "g.clear()"
   ]
  },
  {
   "cell_type": "code",
   "execution_count": 30,
   "id": "d5c93d4e",
   "metadata": {},
   "outputs": [
    {
     "data": {
      "text/plain": [
       "[]"
      ]
     },
     "execution_count": 30,
     "metadata": {},
     "output_type": "execute_result"
    }
   ],
   "source": [
    "g"
   ]
  },
  {
   "cell_type": "code",
   "execution_count": 32,
   "id": "4785a723",
   "metadata": {},
   "outputs": [],
   "source": [
    "thisdict = {\n",
    "  \"brand\": \"Ford\",\n",
    "  \"model\": \"Mustang\",\n",
    "  \"year\": 1964 }"
   ]
  },
  {
   "cell_type": "code",
   "execution_count": 35,
   "id": "57c2e6e9",
   "metadata": {},
   "outputs": [],
   "source": [
    "thisdict.update({'model':'kl'})"
   ]
  },
  {
   "cell_type": "code",
   "execution_count": 39,
   "id": "88aa58f9",
   "metadata": {},
   "outputs": [
    {
     "data": {
      "text/plain": [
       "{'brand': 'Ford', 'model': 'kl', 'year': 1964}"
      ]
     },
     "execution_count": 39,
     "metadata": {},
     "output_type": "execute_result"
    }
   ],
   "source": [
    "thisdict"
   ]
  },
  {
   "cell_type": "code",
   "execution_count": 40,
   "id": "33cbc59f",
   "metadata": {},
   "outputs": [],
   "source": [
    "a = dict({'one':1})"
   ]
  },
  {
   "cell_type": "code",
   "execution_count": 41,
   "id": "62086b91",
   "metadata": {},
   "outputs": [
    {
     "data": {
      "text/plain": [
       "{'one': 1}"
      ]
     },
     "execution_count": 41,
     "metadata": {},
     "output_type": "execute_result"
    }
   ],
   "source": [
    "a"
   ]
  },
  {
   "cell_type": "code",
   "execution_count": 43,
   "id": "cb31c92d",
   "metadata": {},
   "outputs": [
    {
     "data": {
      "text/plain": [
       "'not found'"
      ]
     },
     "execution_count": 43,
     "metadata": {},
     "output_type": "execute_result"
    }
   ],
   "source": [
    "a.get('onej','not found')"
   ]
  },
  {
   "cell_type": "code",
   "execution_count": 44,
   "id": "85602fa8",
   "metadata": {},
   "outputs": [],
   "source": [
    "# sort the dictionary without using sorting method"
   ]
  },
  {
   "cell_type": "code",
   "execution_count": 61,
   "id": "eb6b8c4a",
   "metadata": {},
   "outputs": [],
   "source": [
    "my_dict = {'b': 3, 'a': 1, 'c': 2}\n",
    "\n",
    "# Step 1: Convert the dictionary to a list of tuples\n",
    "my_list = list(my_dict.items())\n"
   ]
  },
  {
   "cell_type": "code",
   "execution_count": 68,
   "id": "aaba2bde",
   "metadata": {},
   "outputs": [
    {
     "data": {
      "text/plain": [
       "'b'"
      ]
     },
     "execution_count": 68,
     "metadata": {},
     "output_type": "execute_result"
    }
   ],
   "source": [
    "my_list[0][0]"
   ]
  },
  {
   "cell_type": "code",
   "execution_count": 45,
   "id": "87ce4dec",
   "metadata": {},
   "outputs": [
    {
     "name": "stdout",
     "output_type": "stream",
     "text": [
      "[('Tom', 67), ('Tina', 54), ('Akbar', 87), ('Kane', 43), ('Divya', 73)]\n",
      "67   54\n",
      "54   67\n",
      " \n",
      "54   43\n",
      "43   54\n",
      " \n",
      "67   54\n",
      "54   67\n",
      " \n",
      "87   67\n",
      "67   87\n",
      " \n",
      "87   73\n",
      "73   87\n",
      " \n",
      "{'Kane': 43, 'Tina': 54, 'Tom': 67, 'Divya': 73, 'Akbar': 87}\n"
     ]
    }
   ],
   "source": [
    "# INSERTION SORT\n",
    "\n",
    "\n",
    "# Step 1: Convert the dictionary to a list of tuples\n",
    "markdict={\"Tom\":67, \"Tina\": 54, \"Akbar\": 87, \"Kane\": 43, \"Divya\":73}\n",
    "marklist = list(markdict.items())\n",
    "print(marklist)\n",
    "l=len(marklist)\n",
    "for i in range(l):\n",
    "    for j in range(i+1,l):\n",
    "        if marklist[i][1]>marklist[j][1]:\n",
    "            print(marklist[i][1],\" \",marklist[j][1])\n",
    "            marklist[i],marklist[j]= marklist[j],marklist[i]\n",
    "\n",
    "            \n",
    "            print(marklist[i][1],\" \",marklist[j][1])\n",
    "            print(\" \")\n",
    "sortdict=dict(marklist)\n",
    "print(sortdict)\n",
    "    "
   ]
  },
  {
   "cell_type": "code",
   "execution_count": null,
   "id": "7abd29b7",
   "metadata": {},
   "outputs": [],
   "source": []
  },
  {
   "cell_type": "code",
   "execution_count": 52,
   "id": "4dc96a2e",
   "metadata": {},
   "outputs": [
    {
     "data": {
      "text/plain": [
       "3"
      ]
     },
     "execution_count": 52,
     "metadata": {},
     "output_type": "execute_result"
    }
   ],
   "source": [
    "len(my_list)"
   ]
  },
  {
   "cell_type": "code",
   "execution_count": 56,
   "id": "3daaf70b",
   "metadata": {},
   "outputs": [
    {
     "data": {
      "text/plain": [
       "'b'"
      ]
     },
     "execution_count": 56,
     "metadata": {},
     "output_type": "execute_result"
    }
   ],
   "source": []
  },
  {
   "cell_type": "code",
   "execution_count": null,
   "id": "ccf4d65f",
   "metadata": {},
   "outputs": [],
   "source": []
  }
 ],
 "metadata": {
  "kernelspec": {
   "display_name": "Python 3 (ipykernel)",
   "language": "python",
   "name": "python3"
  },
  "language_info": {
   "codemirror_mode": {
    "name": "ipython",
    "version": 3
   },
   "file_extension": ".py",
   "mimetype": "text/x-python",
   "name": "python",
   "nbconvert_exporter": "python",
   "pygments_lexer": "ipython3",
   "version": "3.9.13"
  }
 },
 "nbformat": 4,
 "nbformat_minor": 5
}
