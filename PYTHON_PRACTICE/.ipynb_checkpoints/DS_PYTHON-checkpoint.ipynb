{
 "cells": [
  {
   "cell_type": "code",
   "execution_count": null,
   "id": "dc5b99c4",
   "metadata": {},
   "outputs": [],
   "source": [
    "\n",
    "    def create_stack():\n",
    "        stack = []\n",
    "        return stack\n",
    "    \n",
    "\n",
    "    def push(stack, item):\n",
    "        stack.append(item)\n",
    "\n",
    "\n",
    "    def pop(stack):\n",
    "        if stack.is_empty():\n",
    "            return None\n",
    "        else:\n",
    "            return stack.pop()\n",
    "\n",
    "\n",
    "    def is_empty(stack):\n",
    "        return len(stack.items) == 0\n",
    "\n",
    "\n",
    "    def peek(stack):\n",
    "        if stack.is_empty():\n",
    "            return None\n",
    "        else:\n",
    "            return stack.items[-1]\n",
    "\n",
    "    def size(stack):\n",
    "        return len(stack.items)\n",
    "\n",
    "\n",
    "    \n",
    "stack = create_stack()\n",
    "push(stack, str(1))\n"
   ]
  },
  {
   "cell_type": "code",
   "execution_count": null,
   "id": "eaa67246",
   "metadata": {},
   "outputs": [],
   "source": [
    "peek(stack)"
   ]
  },
  {
   "cell_type": "code",
   "execution_count": 4,
   "id": "9726ff0c",
   "metadata": {},
   "outputs": [],
   "source": [
    "# Creating a stack\n",
    "def create_stack():\n",
    "    stack = []\n",
    "    return stack\n",
    "    \n",
    "\n",
    "def push(stack, item):\n",
    "    stack.append(item)\n",
    "\n",
    "\n",
    "def pop(stack):\n",
    "    if stack.is_empty():\n",
    "        return None\n",
    "    else:\n",
    "        return stack.pop()\n",
    "\n",
    "\n",
    "def is_empty(stack):\n",
    "    return len(stack.items) == 0\n",
    "\n",
    "\n",
    "def peek(stack):\n",
    "    if stack.is_empty():\n",
    "        return None\n",
    "    else:\n",
    "        return stack.items[-1]\n",
    "\n",
    "def size(stack):\n",
    "    return len(stack.items)\n",
    "\n",
    "\n",
    "stack = create_stack()\n",
    "push(stack, str(1))\n"
   ]
  },
  {
   "cell_type": "code",
   "execution_count": 5,
   "id": "83ab1320",
   "metadata": {},
   "outputs": [
    {
     "ename": "AttributeError",
     "evalue": "'list' object has no attribute 'is_empty'",
     "output_type": "error",
     "traceback": [
      "\u001b[1;31m---------------------------------------------------------------------------\u001b[0m",
      "\u001b[1;31mAttributeError\u001b[0m                            Traceback (most recent call last)",
      "\u001b[1;32m~\\AppData\\Local\\Temp\\ipykernel_13404\\1390724503.py\u001b[0m in \u001b[0;36m<module>\u001b[1;34m\u001b[0m\n\u001b[1;32m----> 1\u001b[1;33m \u001b[0mpeek\u001b[0m\u001b[1;33m(\u001b[0m\u001b[0mstack\u001b[0m\u001b[1;33m)\u001b[0m\u001b[1;33m\u001b[0m\u001b[1;33m\u001b[0m\u001b[0m\n\u001b[0m",
      "\u001b[1;32m~\\AppData\\Local\\Temp\\ipykernel_13404\\437873906.py\u001b[0m in \u001b[0;36mpeek\u001b[1;34m(stack)\u001b[0m\n\u001b[0;32m     21\u001b[0m \u001b[1;33m\u001b[0m\u001b[0m\n\u001b[0;32m     22\u001b[0m \u001b[1;32mdef\u001b[0m \u001b[0mpeek\u001b[0m\u001b[1;33m(\u001b[0m\u001b[0mstack\u001b[0m\u001b[1;33m)\u001b[0m\u001b[1;33m:\u001b[0m\u001b[1;33m\u001b[0m\u001b[1;33m\u001b[0m\u001b[0m\n\u001b[1;32m---> 23\u001b[1;33m     \u001b[1;32mif\u001b[0m \u001b[0mstack\u001b[0m\u001b[1;33m.\u001b[0m\u001b[0mis_empty\u001b[0m\u001b[1;33m(\u001b[0m\u001b[1;33m)\u001b[0m\u001b[1;33m:\u001b[0m\u001b[1;33m\u001b[0m\u001b[1;33m\u001b[0m\u001b[0m\n\u001b[0m\u001b[0;32m     24\u001b[0m         \u001b[1;32mreturn\u001b[0m \u001b[1;32mNone\u001b[0m\u001b[1;33m\u001b[0m\u001b[1;33m\u001b[0m\u001b[0m\n\u001b[0;32m     25\u001b[0m     \u001b[1;32melse\u001b[0m\u001b[1;33m:\u001b[0m\u001b[1;33m\u001b[0m\u001b[1;33m\u001b[0m\u001b[0m\n",
      "\u001b[1;31mAttributeError\u001b[0m: 'list' object has no attribute 'is_empty'"
     ]
    }
   ],
   "source": [
    "peek(stack)"
   ]
  },
  {
   "cell_type": "code",
   "execution_count": 4,
   "id": "d7276023",
   "metadata": {},
   "outputs": [
    {
     "name": "stdout",
     "output_type": "stream",
     "text": [
      "1\n"
     ]
    }
   ],
   "source": [
    "def sq_numbers(n):\n",
    "    for i in range(1, n+1):\n",
    "        yield i*i\n",
    "  \n",
    "  \n",
    "a = sq_numbers(3)\n",
    "print(next(a))"
   ]
  },
  {
   "cell_type": "code",
   "execution_count": 5,
   "id": "1b612873",
   "metadata": {},
   "outputs": [
    {
     "name": "stdout",
     "output_type": "stream",
     "text": [
      "4\n"
     ]
    }
   ],
   "source": [
    "print(next(a))"
   ]
  },
  {
   "cell_type": "code",
   "execution_count": null,
   "id": "197b28ea",
   "metadata": {},
   "outputs": [],
   "source": []
  },
  {
   "cell_type": "code",
   "execution_count": null,
   "id": "d9882dec",
   "metadata": {},
   "outputs": [],
   "source": []
  },
  {
   "cell_type": "code",
   "execution_count": null,
   "id": "4080d8ec",
   "metadata": {},
   "outputs": [],
   "source": []
  }
 ],
 "metadata": {
  "kernelspec": {
   "display_name": "Python 3 (ipykernel)",
   "language": "python",
   "name": "python3"
  },
  "language_info": {
   "codemirror_mode": {
    "name": "ipython",
    "version": 3
   },
   "file_extension": ".py",
   "mimetype": "text/x-python",
   "name": "python",
   "nbconvert_exporter": "python",
   "pygments_lexer": "ipython3",
   "version": "3.9.13"
  }
 },
 "nbformat": 4,
 "nbformat_minor": 5
}
