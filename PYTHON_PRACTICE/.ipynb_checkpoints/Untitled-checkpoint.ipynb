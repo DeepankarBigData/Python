{
 "cells": [
  {
   "cell_type": "code",
   "execution_count": 6,
   "id": "597336b2",
   "metadata": {},
   "outputs": [
    {
     "name": "stdout",
     "output_type": "stream",
     "text": [
      "8\n",
      "8\n",
      "8\n",
      "8\n",
      "7\n",
      "7\n",
      "7\n"
     ]
    }
   ],
   "source": [
    "import random as r\n",
    "for i in range(1,9):\n",
    "    f = r.randint(7,8)\n",
    "    print(f)\n",
    "    if f == i:\n",
    "        break;"
   ]
  },
  {
   "cell_type": "code",
   "execution_count": 5,
   "id": "09ce3bc9",
   "metadata": {},
   "outputs": [
    {
     "name": "stdout",
     "output_type": "stream",
     "text": [
      "5151\n"
     ]
    }
   ],
   "source": [
    "print(sum(range(1,102)))"
   ]
  },
  {
   "cell_type": "markdown",
   "id": "8287e1d1",
   "metadata": {},
   "source": []
  },
  {
   "cell_type": "code",
   "execution_count": null,
   "id": "aa35e66a",
   "metadata": {},
   "outputs": [],
   "source": [
    "print(\"Hi\", end = \" \")\n",
    "# this is by-default\n",
    "print(\"welcome to python\")"
   ]
  },
  {
   "cell_type": "code",
   "execution_count": 11,
   "id": "687a3b42",
   "metadata": {},
   "outputs": [
    {
     "name": "stdout",
     "output_type": "stream",
     "text": [
      "Ford\n",
      "Mustang\n",
      "1964\n"
     ]
    }
   ],
   "source": []
  },
  {
   "cell_type": "code",
   "execution_count": 12,
   "id": "88a4c771",
   "metadata": {},
   "outputs": [
    {
     "name": "stdout",
     "output_type": "stream",
     "text": [
      "dict_keys(['brand', 'model', 'year'])\n",
      "dict_keys(['brand', 'model', 'year'])\n",
      "dict_keys(['brand', 'model', 'year'])\n"
     ]
    }
   ],
   "source": []
  },
  {
   "cell_type": "code",
   "execution_count": 13,
   "id": "abad34c7",
   "metadata": {},
   "outputs": [
    {
     "data": {
      "text/plain": [
       "dict_values(['Ford', 'Mustang', 1964])"
      ]
     },
     "execution_count": 13,
     "metadata": {},
     "output_type": "execute_result"
    }
   ],
   "source": [
    "thisdict.values()"
   ]
  },
  {
   "cell_type": "code",
   "execution_count": 1,
   "id": "503fcb6d",
   "metadata": {},
   "outputs": [
    {
     "name": "stdout",
     "output_type": "stream",
     "text": [
      "0 Jan\n",
      "1 Feb\n",
      "2 Mar\n",
      "3 April\n",
      "4 May\n",
      "5 June\n"
     ]
    }
   ],
   "source": [
    "Months = [\"Jan\",\"Feb\",\"Mar\",\"April\",\"May\",\"June\"]\n",
    "for i, m in enumerate (Months):\n",
    "        print(i,m)"
   ]
  },
  {
   "cell_type": "code",
   "execution_count": 3,
   "id": "7f111807",
   "metadata": {},
   "outputs": [
    {
     "data": {
      "text/plain": [
       "'or'"
      ]
     },
     "execution_count": 3,
     "metadata": {},
     "output_type": "execute_result"
    }
   ],
   "source": [
    "s = \"hello world\"\n",
    "s[-4:-2]"
   ]
  },
  {
   "cell_type": "code",
   "execution_count": 18,
   "id": "b6652bce",
   "metadata": {},
   "outputs": [
    {
     "name": "stdout",
     "output_type": "stream",
     "text": [
      "[['a', 'Python'], ['b', 'Java']]\n"
     ]
    }
   ],
   "source": []
  },
  {
   "cell_type": "code",
   "execution_count": 7,
   "id": "81e259e9",
   "metadata": {},
   "outputs": [],
   "source": [
    "a = {'name':\"deep\",'roll':40}\n",
    "b = []\n",
    "# c = []\n",
    "for i in a.keys():\n",
    "    b.append(i)\n",
    "    \n",
    "for j in a.values():\n",
    "    b.append(j)"
   ]
  },
  {
   "cell_type": "code",
   "execution_count": 8,
   "id": "64e40784",
   "metadata": {},
   "outputs": [
    {
     "data": {
      "text/plain": [
       "['name', 'roll', 'deep', 40]"
      ]
     },
     "execution_count": 8,
     "metadata": {},
     "output_type": "execute_result"
    }
   ],
   "source": [
    "b"
   ]
  },
  {
   "cell_type": "code",
   "execution_count": 16,
   "id": "28ca4ee4",
   "metadata": {},
   "outputs": [
    {
     "name": "stdout",
     "output_type": "stream",
     "text": [
      "i\n",
      "p\n",
      "n\n"
     ]
    }
   ],
   "source": [
    "a = \"diepankar\"\n",
    "for i in a:\n",
    "    if a.(i)%2==0:\n",
    "        pass\n",
    "    else:\n",
    "        print(i)"
   ]
  },
  {
   "cell_type": "code",
   "execution_count": 21,
   "id": "a3787816",
   "metadata": {},
   "outputs": [
    {
     "name": "stdout",
     "output_type": "stream",
     "text": [
      "d     1\n",
      "k     1\n",
      "n     1\n",
      "a     2\n",
      "r     1\n",
      "p     1\n",
      "e     2\n"
     ]
    }
   ],
   "source": [
    "a = \"deepankar\"\n",
    "b = set(a)\n",
    "for i in b:\n",
    "    print(i,\"   \", a.count(i))"
   ]
  },
  {
   "cell_type": "code",
   "execution_count": null,
   "id": "a8b819c9",
   "metadata": {},
   "outputs": [],
   "source": [
    "split\n",
    "join\n",
    "replace\n"
   ]
  },
  {
   "cell_type": "code",
   "execution_count": 35,
   "id": "ad9d49e0",
   "metadata": {},
   "outputs": [
    {
     "name": "stdout",
     "output_type": "stream",
     "text": [
      "D\n",
      "  j\n",
      "  j\n"
     ]
    }
   ],
   "source": [
    "a = \"Deepankar Santosh Pawar\"\n",
    "print(a[0])\n",
    "for i in a:\n",
    "    if i != ' ':\n",
    "        pass\n",
    "    else:\n",
    "        print(a[a.index(i)],\"j\")\n",
    "#     if a.count(\" \")==2:\n",
    "#         print(\"pawar\")"
   ]
  },
  {
   "cell_type": "code",
   "execution_count": 28,
   "id": "02671086",
   "metadata": {},
   "outputs": [
    {
     "data": {
      "text/plain": [
       "'d'"
      ]
     },
     "execution_count": 28,
     "metadata": {},
     "output_type": "execute_result"
    }
   ],
   "source": [
    "a = \"deep\"\n",
    "a[0]"
   ]
  },
  {
   "cell_type": "code",
   "execution_count": 42,
   "id": "92107820",
   "metadata": {},
   "outputs": [],
   "source": [
    "s = a.split(\"D\")"
   ]
  },
  {
   "cell_type": "code",
   "execution_count": 43,
   "id": "01b7d835",
   "metadata": {},
   "outputs": [
    {
     "data": {
      "text/plain": [
       "['', 'eepankar Santosh Pawar']"
      ]
     },
     "execution_count": 43,
     "metadata": {},
     "output_type": "execute_result"
    }
   ],
   "source": [
    "s"
   ]
  },
  {
   "cell_type": "code",
   "execution_count": 56,
   "id": "573a2ab8",
   "metadata": {},
   "outputs": [],
   "source": [
    "a = \"Deepankar Santosh Pawar\"\n",
    "s = []\n",
    "for i in a:\n",
    "    s.append(i)"
   ]
  },
  {
   "cell_type": "code",
   "execution_count": 62,
   "id": "160ab032",
   "metadata": {},
   "outputs": [],
   "source": [
    "z = s[0]+\" \"+s[10]+\" Pawar\""
   ]
  },
  {
   "cell_type": "code",
   "execution_count": 63,
   "id": "2e855f76",
   "metadata": {},
   "outputs": [
    {
     "data": {
      "text/plain": [
       "'D S Pawar'"
      ]
     },
     "execution_count": 63,
     "metadata": {},
     "output_type": "execute_result"
    }
   ],
   "source": [
    "z"
   ]
  },
  {
   "cell_type": "code",
   "execution_count": 26,
   "id": "3b1479fd",
   "metadata": {},
   "outputs": [
    {
     "name": "stdout",
     "output_type": "stream",
     "text": [
      "10\n",
      "1000\n"
     ]
    },
    {
     "data": {
      "text/plain": [
       "'deep 24'"
      ]
     },
     "execution_count": 26,
     "metadata": {},
     "output_type": "execute_result"
    }
   ],
   "source": [
    "class emp:\n",
    "    a = 10\n",
    "    def __init__(self,name,age):\n",
    "        self.__name = name\n",
    "        self.age = age\n",
    "        print(emp.a)\n",
    "    def get(self):\n",
    "        print(emp.a)\n",
    "        return f\"{self.__name} {self.age}\"\n",
    "       \n",
    "e = emp('deep',24)\n",
    "emp.a = 1000\n",
    "e.get()\n",
    "# e.__name\n"
   ]
  },
  {
   "cell_type": "code",
   "execution_count": 18,
   "id": "46377118",
   "metadata": {},
   "outputs": [
    {
     "name": "stdout",
     "output_type": "stream",
     "text": [
      "deep\n"
     ]
    }
   ],
   "source": [
    "print(e._emp__name)"
   ]
  },
  {
   "cell_type": "code",
   "execution_count": 23,
   "id": "ae6c4035",
   "metadata": {},
   "outputs": [
    {
     "data": {
      "text/plain": [
       "0"
      ]
     },
     "execution_count": 23,
     "metadata": {},
     "output_type": "execute_result"
    }
   ],
   "source": [
    "a"
   ]
  },
  {
   "cell_type": "code",
   "execution_count": null,
   "id": "559b9a9c",
   "metadata": {},
   "outputs": [],
   "source": []
  }
 ],
 "metadata": {
  "kernelspec": {
   "display_name": "Python 3 (ipykernel)",
   "language": "python",
   "name": "python3"
  },
  "language_info": {
   "codemirror_mode": {
    "name": "ipython",
    "version": 3
   },
   "file_extension": ".py",
   "mimetype": "text/x-python",
   "name": "python",
   "nbconvert_exporter": "python",
   "pygments_lexer": "ipython3",
   "version": "3.9.13"
  }
 },
 "nbformat": 4,
 "nbformat_minor": 5
}
