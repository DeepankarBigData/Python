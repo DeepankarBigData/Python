{
 "cells": [
  {
   "cell_type": "code",
   "execution_count": 6,
   "id": "2cc13496",
   "metadata": {},
   "outputs": [
    {
     "name": "stdout",
     "output_type": "stream",
     "text": [
      "0\n",
      "Deep   24\n",
      "1\n"
     ]
    }
   ],
   "source": [
    "class Person:\n",
    "    count = 0\n",
    "    def __init__(self,name,age):\n",
    "        self.name=name\n",
    "        self.age=age\n",
    "        \n",
    "    def getter(self):\n",
    "        print(self.name,\" \",self.age)\n",
    "        Person.count += 1\n",
    "        \n",
    "p = Person(\"Deep\",24)\n",
    "print(Person.count)\n",
    "p.getter()\n",
    "print(Person.count)    "
   ]
  },
  {
   "cell_type": "code",
   "execution_count": 7,
   "id": "badb6708",
   "metadata": {},
   "outputs": [],
   "source": [
    "# Inheritance"
   ]
  },
  {
   "cell_type": "code",
   "execution_count": 15,
   "id": "97f080eb",
   "metadata": {},
   "outputs": [],
   "source": [
    "class Animal:\n",
    "    def __init__(self,name):\n",
    "        self.name=name\n",
    "    \n",
    "    def dj(self):\n",
    "        print(f\"{self.name}\")\n",
    "     \n",
    "\n",
    "class Dog(Animal):\n",
    "    def dj(self):\n",
    "        print(f\"overidden method printed,{self.name}\")\n",
    "        \n",
    "    "
   ]
  },
  {
   "cell_type": "code",
   "execution_count": 16,
   "id": "b0169ea6",
   "metadata": {},
   "outputs": [
    {
     "name": "stdout",
     "output_type": "stream",
     "text": [
      "overidden method printed,deep\n"
     ]
    }
   ],
   "source": [
    "d = Dog(\"deep\")\n",
    "d.dj()"
   ]
  },
  {
   "cell_type": "code",
   "execution_count": null,
   "id": "768c8461",
   "metadata": {},
   "outputs": [],
   "source": []
  }
 ],
 "metadata": {
  "kernelspec": {
   "display_name": "Python 3 (ipykernel)",
   "language": "python",
   "name": "python3"
  },
  "language_info": {
   "codemirror_mode": {
    "name": "ipython",
    "version": 3
   },
   "file_extension": ".py",
   "mimetype": "text/x-python",
   "name": "python",
   "nbconvert_exporter": "python",
   "pygments_lexer": "ipython3",
   "version": "3.9.13"
  }
 },
 "nbformat": 4,
 "nbformat_minor": 5
}
