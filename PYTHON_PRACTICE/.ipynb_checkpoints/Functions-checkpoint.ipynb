{
 "cells": [
  {
   "cell_type": "markdown",
   "id": "d13b63d6",
   "metadata": {},
   "source": [
    "### FUNCTIONS"
   ]
  },
  {
   "cell_type": "code",
   "execution_count": 3,
   "id": "e8cb4086",
   "metadata": {},
   "outputs": [
    {
     "data": {
      "text/plain": [
       "'A'"
      ]
     },
     "execution_count": 3,
     "metadata": {},
     "output_type": "execute_result"
    }
   ],
   "source": [
    "w = 65\n",
    "chr(w)"
   ]
  },
  {
   "cell_type": "code",
   "execution_count": 13,
   "id": "e5cceef1",
   "metadata": {},
   "outputs": [
    {
     "name": "stdout",
     "output_type": "stream",
     "text": [
      "23\n"
     ]
    }
   ],
   "source": [
    "# var1 = 1\n",
    "var2 = \"2\"\n",
    "var3 = \"3\"\n",
    "\n",
    "print(var2 + var3)"
   ]
  },
  {
   "cell_type": "code",
   "execution_count": 4,
   "id": "c1e8f510",
   "metadata": {},
   "outputs": [
    {
     "data": {
      "text/plain": [
       "65"
      ]
     },
     "execution_count": 4,
     "metadata": {},
     "output_type": "execute_result"
    }
   ],
   "source": [
    "w = 'A'\n",
    "ord(w)"
   ]
  },
  {
   "cell_type": "code",
   "execution_count": 7,
   "id": "c9a4f6d1",
   "metadata": {},
   "outputs": [],
   "source": [
    "a = 65\n",
    "e = str(a)"
   ]
  },
  {
   "cell_type": "code",
   "execution_count": 8,
   "id": "01af9678",
   "metadata": {},
   "outputs": [
    {
     "data": {
      "text/plain": [
       "65.0"
      ]
     },
     "execution_count": 8,
     "metadata": {},
     "output_type": "execute_result"
    }
   ],
   "source": [
    "float(e)"
   ]
  },
  {
   "cell_type": "code",
   "execution_count": 1,
   "id": "add8042d",
   "metadata": {},
   "outputs": [
    {
     "name": "stdout",
     "output_type": "stream",
     "text": [
      "With return statement\n",
      "2704\n",
      "Without return statement\n",
      "None\n"
     ]
    }
   ],
   "source": [
    "# Python code to demonstrate the use of return statements      \n",
    "# Defining a function with return statement    \n",
    "def square( num ):    \n",
    "    return num**2    \n",
    "     \n",
    "# Calling function and passing arguments.    \n",
    "print( \"With return statement\" )    \n",
    "print(square( 52 ))    \n",
    "    \n",
    "# Defining a function without return statement     \n",
    "def square( num ):    \n",
    "     num**2     \n",
    "    \n",
    "# Calling function and passing arguments.    \n",
    "print( \"Without return statement\" )    \n",
    "print( square( 52 ) )    "
   ]
  },
  {
   "cell_type": "code",
   "execution_count": 3,
   "id": "84844be4",
   "metadata": {},
   "outputs": [
    {
     "name": "stdout",
     "output_type": "stream",
     "text": [
      "python -> 1234\n"
     ]
    }
   ],
   "source": [
    "li = []\n",
    "def fun(**kwargs):\n",
    "    for i,j in kwargs.items():\n",
    "        print(i,\"->\",j)\n",
    "\n",
    "\n",
    "fun(python= 1234)\n"
   ]
  },
  {
   "cell_type": "code",
   "execution_count": 2,
   "id": "7bf11a55",
   "metadata": {},
   "outputs": [
    {
     "name": "stdout",
     "output_type": "stream",
     "text": [
      "[['a', 'Python'], ['b', 'Java']]\n"
     ]
    }
   ],
   "source": [
    "li = []\n",
    "def func(**args_li):\n",
    "    for i,j in args_li.items():\n",
    "        li.append([i,j])\n",
    "    print(li)\n",
    "func(a = 'Python',b = 'Java')    \n",
    "# print(li)"
   ]
  },
  {
   "cell_type": "code",
   "execution_count": 5,
   "id": "cc97a002",
   "metadata": {},
   "outputs": [],
   "source": [
    "# types of arguments\n",
    "# positional arguments"
   ]
  },
  {
   "cell_type": "code",
   "execution_count": 6,
   "id": "7834eea4",
   "metadata": {},
   "outputs": [
    {
     "name": "stdout",
     "output_type": "stream",
     "text": [
      "5\n"
     ]
    }
   ],
   "source": [
    "def fun(a,b):\n",
    "    return a+b\n",
    "\n",
    "print(fun(2,3))"
   ]
  },
  {
   "cell_type": "code",
   "execution_count": 7,
   "id": "c2361ce7",
   "metadata": {},
   "outputs": [],
   "source": [
    "# keyword argument"
   ]
  },
  {
   "cell_type": "code",
   "execution_count": 11,
   "id": "64887f7e",
   "metadata": {},
   "outputs": [
    {
     "ename": "SyntaxError",
     "evalue": "positional argument follows keyword argument (89677944.py, line 4)",
     "output_type": "error",
     "traceback": [
      "\u001b[1;36m  File \u001b[1;32m\"C:\\Users\\pawar\\AppData\\Local\\Temp\\ipykernel_10320\\89677944.py\"\u001b[1;36m, line \u001b[1;32m4\u001b[0m\n\u001b[1;33m    fun(age = 24,\"deep\")\u001b[0m\n\u001b[1;37m                       ^\u001b[0m\n\u001b[1;31mSyntaxError\u001b[0m\u001b[1;31m:\u001b[0m positional argument follows keyword argument\n"
     ]
    }
   ],
   "source": [
    "def fun(name,age):\n",
    "    print(\"hello\",name,age,\"good morning\")\n",
    "    \n",
    "fun(age = 24,\"deep\")\n",
    "    "
   ]
  },
  {
   "cell_type": "code",
   "execution_count": 14,
   "id": "5ba51fb1",
   "metadata": {},
   "outputs": [
    {
     "name": "stdout",
     "output_type": "stream",
     "text": [
      "(1, 2, 3, 4)\n"
     ]
    }
   ],
   "source": [
    "def fun(*n):\n",
    "    print(n)\n",
    "    \n",
    "fun(1,2,3,4)"
   ]
  },
  {
   "cell_type": "code",
   "execution_count": 15,
   "id": "cd111b50",
   "metadata": {},
   "outputs": [
    {
     "name": "stdout",
     "output_type": "stream",
     "text": [
      "{'a': 20, 'b': 30}\n"
     ]
    }
   ],
   "source": [
    "def fun(**n):\n",
    "    print(n)\n",
    "    \n",
    "fun(a = 20,b = 30)"
   ]
  },
  {
   "cell_type": "code",
   "execution_count": null,
   "id": "96402cf0",
   "metadata": {},
   "outputs": [],
   "source": []
  },
  {
   "cell_type": "code",
   "execution_count": null,
   "id": "16eed907",
   "metadata": {},
   "outputs": [],
   "source": []
  }
 ],
 "metadata": {
  "kernelspec": {
   "display_name": "Python 3 (ipykernel)",
   "language": "python",
   "name": "python3"
  },
  "language_info": {
   "codemirror_mode": {
    "name": "ipython",
    "version": 3
   },
   "file_extension": ".py",
   "mimetype": "text/x-python",
   "name": "python",
   "nbconvert_exporter": "python",
   "pygments_lexer": "ipython3",
   "version": "3.9.13"
  }
 },
 "nbformat": 4,
 "nbformat_minor": 5
}
