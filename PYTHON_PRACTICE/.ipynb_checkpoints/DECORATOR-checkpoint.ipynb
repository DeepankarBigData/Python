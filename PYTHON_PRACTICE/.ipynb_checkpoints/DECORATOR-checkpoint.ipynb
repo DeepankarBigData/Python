{
 "cells": [
  {
   "cell_type": "code",
   "execution_count": 2,
   "id": "dd2bae42",
   "metadata": {},
   "outputs": [],
   "source": [
    "#  PLOYMORPHISM\n",
    "class Animal:\n",
    "    def eat(self):\n",
    "        print('animal eats')\n",
    "    def walk(self):\n",
    "        print('animal walk')\n",
    "        \n",
    "    "
   ]
  },
  {
   "cell_type": "code",
   "execution_count": 5,
   "id": "4b9fe088",
   "metadata": {},
   "outputs": [
    {
     "name": "stdout",
     "output_type": "stream",
     "text": [
      "animal eats\n",
      "fish swims\n",
      "animal walk\n"
     ]
    }
   ],
   "source": [
    "class Fish(Animal):\n",
    "    def walk(self):\n",
    "        print('fish swims')\n",
    "        \n",
    "f = Fish()\n",
    "a = Animal()\n",
    "f.eat()\n",
    "f.walk()\n",
    "a.walk()"
   ]
  },
  {
   "cell_type": "code",
   "execution_count": 34,
   "id": "302a27c4",
   "metadata": {},
   "outputs": [
    {
     "name": "stdout",
     "output_type": "stream",
     "text": [
      "2,3\n"
     ]
    },
    {
     "data": {
      "text/plain": [
       "100"
      ]
     },
     "execution_count": 34,
     "metadata": {},
     "output_type": "execute_result"
    }
   ],
   "source": [
    "#  ENCAPSULATION\n",
    "class Abc:\n",
    "    def xyz(self,a,b):\n",
    "        self.a = a\n",
    "        self.__b = b\n",
    "    \n",
    "    def print1(self):\n",
    "        return f\"{self.a},{self.__b}\"\n",
    "    \n",
    "    def set_b(self,new_b):\n",
    "        self.__b = new_b\n",
    "        \n",
    "    def get_b(self):\n",
    "        return self.__b\n",
    "    \n",
    "a = Abc()\n",
    "a.xyz(2,3)\n",
    "print(a.print1())\n",
    "a.set_b(100)\n",
    "a.get_b()"
   ]
  },
  {
   "cell_type": "code",
   "execution_count": 37,
   "id": "bfc0c2c7",
   "metadata": {},
   "outputs": [
    {
     "name": "stdout",
     "output_type": "stream",
     "text": [
      "34,56\n"
     ]
    },
    {
     "data": {
      "text/plain": [
       "1000"
      ]
     },
     "execution_count": 37,
     "metadata": {},
     "output_type": "execute_result"
    }
   ],
   "source": [
    "class Ishu(Abc):\n",
    "    pass\n",
    "i = Ishu()\n",
    "i.xyz(34,56)\n",
    "print(i.print1())\n",
    "i.set_b(1000)\n",
    "i.get_b()"
   ]
  },
  {
   "cell_type": "code",
   "execution_count": null,
   "id": "2344b496",
   "metadata": {},
   "outputs": [],
   "source": []
  },
  {
   "cell_type": "code",
   "execution_count": 43,
   "id": "4e9668a2",
   "metadata": {},
   "outputs": [
    {
     "name": "stdout",
     "output_type": "stream",
     "text": [
      "1\n",
      "4\n",
      "9\n"
     ]
    }
   ],
   "source": [
    "def gen(n):\n",
    "    for i in range(1,n+1):\n",
    "        yield i**2\n",
    "a = gen(5)\n",
    "\n",
    "print(next(a))\n",
    "\n",
    "print(next(a))\n",
    "\n",
    "print(next(a))\n"
   ]
  },
  {
   "cell_type": "code",
   "execution_count": 56,
   "id": "8aec4f6f",
   "metadata": {},
   "outputs": [
    {
     "name": "stdout",
     "output_type": "stream",
     "text": [
      "r\n",
      "a\n",
      "t\n"
     ]
    }
   ],
   "source": [
    "a = iter(\"ratan dev yadav\")\n",
    "\n",
    "print(next(a))\n",
    "print(next(a))\n",
    "print(next(a))"
   ]
  },
  {
   "cell_type": "markdown",
   "id": "700b6079",
   "metadata": {},
   "source": [
    "DECORATOR"
   ]
  },
  {
   "cell_type": "code",
   "execution_count": 1,
   "id": "cc93dd89",
   "metadata": {},
   "outputs": [
    {
     "name": "stdout",
     "output_type": "stream",
     "text": [
      "Hello\n",
      "hi there\n",
      "Hi\n"
     ]
    }
   ],
   "source": [
    "def abc(func):\n",
    "    def wrapper():\n",
    "        print('Hello')\n",
    "        func()\n",
    "        print('Hi')\n",
    "    return wrapper\n",
    "        \n",
    "@abc\n",
    "def xyz():\n",
    "    print('hi there')\n",
    "    \n",
    "xyz()"
   ]
  },
  {
   "cell_type": "code",
   "execution_count": 65,
   "id": "7094b21d",
   "metadata": {
    "scrolled": true
   },
   "outputs": [
    {
     "name": "stdout",
     "output_type": "stream",
     "text": [
      "hello\n",
      "hi there\n",
      "hi\n"
     ]
    }
   ],
   "source": [
    "def abc(func):\n",
    "    def wrapper():\n",
    "        print('hello')\n",
    "        func()\n",
    "        print('hi')\n",
    "    return wrapper\n",
    "def xyz():\n",
    "    print('hi there')\n",
    "    \n",
    "a = abc(xyz)\n",
    "a()\n"
   ]
  },
  {
   "cell_type": "code",
   "execution_count": 66,
   "id": "b8f9b4c2",
   "metadata": {},
   "outputs": [
    {
     "ename": "NameError",
     "evalue": "name 'wrapper' is not defined",
     "output_type": "error",
     "traceback": [
      "\u001b[1;31m---------------------------------------------------------------------------\u001b[0m",
      "\u001b[1;31mNameError\u001b[0m                                 Traceback (most recent call last)",
      "\u001b[1;32m~\\AppData\\Local\\Temp\\ipykernel_12736\\3560658984.py\u001b[0m in \u001b[0;36m<module>\u001b[1;34m\u001b[0m\n\u001b[1;32m----> 1\u001b[1;33m \u001b[0mwrapper\u001b[0m\u001b[1;33m(\u001b[0m\u001b[1;33m)\u001b[0m\u001b[1;33m\u001b[0m\u001b[1;33m\u001b[0m\u001b[0m\n\u001b[0m",
      "\u001b[1;31mNameError\u001b[0m: name 'wrapper' is not defined"
     ]
    }
   ],
   "source": [
    "wrapper()"
   ]
  },
  {
   "cell_type": "code",
   "execution_count": 78,
   "id": "3332cfcd",
   "metadata": {},
   "outputs": [
    {
     "data": {
      "text/plain": [
       "1"
      ]
     },
     "execution_count": 78,
     "metadata": {},
     "output_type": "execute_result"
    }
   ],
   "source": [
    "from functools import reduce\n",
    "\n",
    "a = [12,32,34,54,67,32,34,54,56]\n",
    "\n",
    "\n",
    "b = reduce(lambda x,y:x+y,a)\n",
    " \n",
    "c = reduce(lambda x,y:x*y,a)\n",
    "\n",
    "\n",
    "e = [1,2,3]\n",
    "\n",
    "m= reduce(lambda x,y:x%y,e)\n",
    "\n",
    "m"
   ]
  },
  {
   "cell_type": "code",
   "execution_count": 83,
   "id": "99dfb90c",
   "metadata": {},
   "outputs": [
    {
     "data": {
      "text/plain": [
       "'a'"
      ]
     },
     "execution_count": 83,
     "metadata": {},
     "output_type": "execute_result"
    }
   ],
   "source": [
    "def fgh(xyz):\n",
    "    return 'a'\n",
    "f = fgh(\"hello\")\n",
    "f"
   ]
  },
  {
   "cell_type": "code",
   "execution_count": 89,
   "id": "4bbcea48",
   "metadata": {},
   "outputs": [],
   "source": [
    "def func(x):\n",
    "    return x**2"
   ]
  },
  {
   "cell_type": "code",
   "execution_count": 93,
   "id": "916c6e32",
   "metadata": {},
   "outputs": [
    {
     "data": {
      "text/plain": [
       "[1, 4, 9, 16]"
      ]
     },
     "execution_count": 93,
     "metadata": {},
     "output_type": "execute_result"
    }
   ],
   "source": [
    "l = [1,2,3,4]\n",
    "a = list(map(lambda x : x**2,l))\n",
    "a"
   ]
  },
  {
   "cell_type": "code",
   "execution_count": 98,
   "id": "98e03627",
   "metadata": {},
   "outputs": [
    {
     "data": {
      "text/plain": [
       "[2, 4]"
      ]
     },
     "execution_count": 98,
     "metadata": {},
     "output_type": "execute_result"
    }
   ],
   "source": [
    "a = filter(lambda x: x%2==0,l)\n",
    "list(a)"
   ]
  },
  {
   "cell_type": "code",
   "execution_count": 99,
   "id": "9bc8de8f",
   "metadata": {},
   "outputs": [
    {
     "name": "stdout",
     "output_type": "stream",
     "text": [
      "<class 'generator'>\n"
     ]
    }
   ],
   "source": [
    "def mygen():\n",
    "    yield 'A'\n",
    "    yield 'B'\n",
    "    yield 'C'\n",
    "\n",
    "g = mygen()\n",
    "print(type(g))\n"
   ]
  },
  {
   "cell_type": "code",
   "execution_count": 100,
   "id": "b40b2aa6",
   "metadata": {},
   "outputs": [
    {
     "data": {
      "text/plain": [
       "'A'"
      ]
     },
     "execution_count": 100,
     "metadata": {},
     "output_type": "execute_result"
    }
   ],
   "source": [
    "next(g)"
   ]
  },
  {
   "cell_type": "code",
   "execution_count": 101,
   "id": "ad09b415",
   "metadata": {},
   "outputs": [
    {
     "data": {
      "text/plain": [
       "'B'"
      ]
     },
     "execution_count": 101,
     "metadata": {},
     "output_type": "execute_result"
    }
   ],
   "source": [
    "next(g)"
   ]
  },
  {
   "cell_type": "code",
   "execution_count": 102,
   "id": "723eedcd",
   "metadata": {},
   "outputs": [
    {
     "data": {
      "text/plain": [
       "'C'"
      ]
     },
     "execution_count": 102,
     "metadata": {},
     "output_type": "execute_result"
    }
   ],
   "source": [
    "next(g)"
   ]
  },
  {
   "cell_type": "code",
   "execution_count": 103,
   "id": "815db2dc",
   "metadata": {},
   "outputs": [
    {
     "ename": "StopIteration",
     "evalue": "",
     "output_type": "error",
     "traceback": [
      "\u001b[1;31m---------------------------------------------------------------------------\u001b[0m",
      "\u001b[1;31mStopIteration\u001b[0m                             Traceback (most recent call last)",
      "\u001b[1;32m~\\AppData\\Local\\Temp\\ipykernel_12736\\4253931490.py\u001b[0m in \u001b[0;36m<module>\u001b[1;34m\u001b[0m\n\u001b[1;32m----> 1\u001b[1;33m \u001b[0mnext\u001b[0m\u001b[1;33m(\u001b[0m\u001b[0mg\u001b[0m\u001b[1;33m)\u001b[0m\u001b[1;33m\u001b[0m\u001b[1;33m\u001b[0m\u001b[0m\n\u001b[0m",
      "\u001b[1;31mStopIteration\u001b[0m: "
     ]
    }
   ],
   "source": [
    "next(g)"
   ]
  },
  {
   "cell_type": "code",
   "execution_count": 111,
   "id": "8f43b4ea",
   "metadata": {},
   "outputs": [
    {
     "name": "stdout",
     "output_type": "stream",
     "text": [
      "0\n"
     ]
    }
   ],
   "source": [
    "x = (i*i for i in range(100))\n",
    "# whwevever we are using like this, it is agenerator\n",
    "print(next(x))\n",
    "# type(x)"
   ]
  },
  {
   "cell_type": "code",
   "execution_count": 112,
   "id": "ff8707b7",
   "metadata": {},
   "outputs": [
    {
     "name": "stdout",
     "output_type": "stream",
     "text": [
      "1\n"
     ]
    }
   ],
   "source": [
    "print(next(x))"
   ]
  },
  {
   "cell_type": "code",
   "execution_count": 113,
   "id": "9d085ac0",
   "metadata": {},
   "outputs": [
    {
     "name": "stdout",
     "output_type": "stream",
     "text": [
      "4\n"
     ]
    }
   ],
   "source": [
    "print(next(x))"
   ]
  },
  {
   "cell_type": "code",
   "execution_count": 114,
   "id": "595c453b",
   "metadata": {},
   "outputs": [
    {
     "name": "stdout",
     "output_type": "stream",
     "text": [
      "9\n",
      "16\n",
      "25\n"
     ]
    }
   ],
   "source": [
    "print(next(x))\n",
    "print(next(x))\n",
    "print(next(x))"
   ]
  },
  {
   "cell_type": "code",
   "execution_count": 116,
   "id": "e5b33b5c",
   "metadata": {},
   "outputs": [
    {
     "name": "stdout",
     "output_type": "stream",
     "text": [
      "36\n",
      "49\n",
      "64\n",
      "81\n",
      "100\n",
      "121\n",
      "144\n",
      "169\n",
      "196\n",
      "225\n",
      "256\n",
      "289\n",
      "324\n",
      "361\n",
      "400\n",
      "441\n",
      "484\n",
      "529\n",
      "576\n",
      "625\n",
      "676\n",
      "729\n",
      "784\n",
      "841\n",
      "900\n",
      "961\n",
      "1024\n",
      "1089\n",
      "1156\n",
      "1225\n",
      "1296\n",
      "1369\n",
      "1444\n",
      "1521\n",
      "1600\n",
      "1681\n",
      "1764\n",
      "1849\n",
      "1936\n",
      "2025\n",
      "2116\n",
      "2209\n",
      "2304\n",
      "2401\n",
      "2500\n",
      "2601\n",
      "2704\n",
      "2809\n",
      "2916\n",
      "3025\n",
      "3136\n",
      "3249\n",
      "3364\n",
      "3481\n",
      "3600\n",
      "3721\n",
      "3844\n",
      "3969\n",
      "4096\n",
      "4225\n",
      "4356\n",
      "4489\n",
      "4624\n",
      "4761\n",
      "4900\n",
      "5041\n",
      "5184\n",
      "5329\n",
      "5476\n",
      "5625\n",
      "5776\n",
      "5929\n",
      "6084\n",
      "6241\n",
      "6400\n",
      "6561\n",
      "6724\n",
      "6889\n",
      "7056\n",
      "7225\n",
      "7396\n",
      "7569\n",
      "7744\n",
      "7921\n",
      "8100\n",
      "8281\n",
      "8464\n",
      "8649\n",
      "8836\n",
      "9025\n",
      "9216\n",
      "9409\n",
      "9604\n",
      "9801\n"
     ]
    },
    {
     "ename": "StopIteration",
     "evalue": "",
     "output_type": "error",
     "traceback": [
      "\u001b[1;31m---------------------------------------------------------------------------\u001b[0m",
      "\u001b[1;31mStopIteration\u001b[0m                             Traceback (most recent call last)",
      "\u001b[1;32m~\\AppData\\Local\\Temp\\ipykernel_12736\\2204111416.py\u001b[0m in \u001b[0;36m<module>\u001b[1;34m\u001b[0m\n\u001b[0;32m      1\u001b[0m \u001b[1;32mwhile\u001b[0m \u001b[1;32mTrue\u001b[0m\u001b[1;33m:\u001b[0m\u001b[1;33m\u001b[0m\u001b[1;33m\u001b[0m\u001b[0m\n\u001b[1;32m----> 2\u001b[1;33m     \u001b[0mprint\u001b[0m\u001b[1;33m(\u001b[0m\u001b[0mnext\u001b[0m\u001b[1;33m(\u001b[0m\u001b[0mx\u001b[0m\u001b[1;33m)\u001b[0m\u001b[1;33m)\u001b[0m\u001b[1;33m\u001b[0m\u001b[1;33m\u001b[0m\u001b[0m\n\u001b[0m",
      "\u001b[1;31mStopIteration\u001b[0m: "
     ]
    }
   ],
   "source": [
    "while True:\n",
    "    print(next(x))"
   ]
  },
  {
   "cell_type": "code",
   "execution_count": 122,
   "id": "87d6b1a0",
   "metadata": {},
   "outputs": [
    {
     "data": {
      "text/plain": [
       "2"
      ]
     },
     "execution_count": 122,
     "metadata": {},
     "output_type": "execute_result"
    }
   ],
   "source": [
    "a = iter(range(1,10))\n",
    "next(a)\n",
    "next(a)"
   ]
  },
  {
   "cell_type": "code",
   "execution_count": 120,
   "id": "5c1b4d4e",
   "metadata": {},
   "outputs": [
    {
     "ename": "StopIteration",
     "evalue": "",
     "output_type": "error",
     "traceback": [
      "\u001b[1;31m---------------------------------------------------------------------------\u001b[0m",
      "\u001b[1;31mStopIteration\u001b[0m                             Traceback (most recent call last)",
      "\u001b[1;32m~\\AppData\\Local\\Temp\\ipykernel_12736\\163319606.py\u001b[0m in \u001b[0;36m<module>\u001b[1;34m\u001b[0m\n\u001b[1;32m----> 1\u001b[1;33m \u001b[0mnext\u001b[0m\u001b[1;33m(\u001b[0m\u001b[0ma\u001b[0m\u001b[1;33m)\u001b[0m\u001b[1;33m\u001b[0m\u001b[1;33m\u001b[0m\u001b[0m\n\u001b[0m",
      "\u001b[1;31mStopIteration\u001b[0m: "
     ]
    }
   ],
   "source": [
    "\n"
   ]
  },
  {
   "cell_type": "code",
   "execution_count": 119,
   "id": "d6ab9b47",
   "metadata": {},
   "outputs": [
    {
     "ename": "StopIteration",
     "evalue": "",
     "output_type": "error",
     "traceback": [
      "\u001b[1;31m---------------------------------------------------------------------------\u001b[0m",
      "\u001b[1;31mStopIteration\u001b[0m                             Traceback (most recent call last)",
      "\u001b[1;32m~\\AppData\\Local\\Temp\\ipykernel_12736\\1242322984.py\u001b[0m in \u001b[0;36m<module>\u001b[1;34m\u001b[0m\n\u001b[1;32m----> 1\u001b[1;33m \u001b[0mnext\u001b[0m\u001b[1;33m(\u001b[0m\u001b[0ma\u001b[0m\u001b[1;33m)\u001b[0m\u001b[1;33m\u001b[0m\u001b[1;33m\u001b[0m\u001b[0m\n\u001b[0m",
      "\u001b[1;31mStopIteration\u001b[0m: "
     ]
    }
   ],
   "source": [
    "next(a)"
   ]
  },
  {
   "cell_type": "code",
   "execution_count": null,
   "id": "61a6d03c",
   "metadata": {},
   "outputs": [],
   "source": []
  }
 ],
 "metadata": {
  "kernelspec": {
   "display_name": "Python 3 (ipykernel)",
   "language": "python",
   "name": "python3"
  },
  "language_info": {
   "codemirror_mode": {
    "name": "ipython",
    "version": 3
   },
   "file_extension": ".py",
   "mimetype": "text/x-python",
   "name": "python",
   "nbconvert_exporter": "python",
   "pygments_lexer": "ipython3",
   "version": "3.9.13"
  }
 },
 "nbformat": 4,
 "nbformat_minor": 5
}
