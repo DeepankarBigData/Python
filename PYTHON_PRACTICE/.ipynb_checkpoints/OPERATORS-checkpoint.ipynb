{
 "cells": [
  {
   "cell_type": "markdown",
   "id": "666c715a",
   "metadata": {},
   "source": [
    "### operators are the special symbol that performs arithmatic, logical,relational operations with more than one operand ###\n",
    "\n",
    "PEMDAS /BODMASS pyhton follows"
   ]
  },
  {
   "cell_type": "markdown",
   "id": "a31c008d",
   "metadata": {},
   "source": [
    "### arithmatic operators\n",
    "\n",
    "+, -, //,/,%,**"
   ]
  },
  {
   "cell_type": "code",
   "execution_count": 1,
   "id": "ef43dd75",
   "metadata": {},
   "outputs": [
    {
     "name": "stdout",
     "output_type": "stream",
     "text": [
      "11\n"
     ]
    }
   ],
   "source": [
    "# addition\n",
    "a = 5\n",
    "b = 6\n",
    "print(a+b)"
   ]
  },
  {
   "cell_type": "code",
   "execution_count": 2,
   "id": "ecbd707d",
   "metadata": {},
   "outputs": [
    {
     "name": "stdout",
     "output_type": "stream",
     "text": [
      "-1\n"
     ]
    }
   ],
   "source": [
    "# addition\n",
    "a = 5\n",
    "b = 6\n",
    "print(a-b)"
   ]
  },
  {
   "cell_type": "code",
   "execution_count": 3,
   "id": "7fa0d25c",
   "metadata": {},
   "outputs": [
    {
     "name": "stdout",
     "output_type": "stream",
     "text": [
      "30\n"
     ]
    }
   ],
   "source": [
    "# subtraction\n",
    "c = a*b\n",
    "print(c)\n"
   ]
  },
  {
   "cell_type": "code",
   "execution_count": 4,
   "id": "7d84c466",
   "metadata": {},
   "outputs": [
    {
     "name": "stdout",
     "output_type": "stream",
     "text": [
      "0.8333333333333334\n"
     ]
    }
   ],
   "source": [
    "# division\n",
    "c = a/b\n",
    "# gives quotient\n",
    "print(c)"
   ]
  },
  {
   "cell_type": "code",
   "execution_count": 5,
   "id": "e17a73b3",
   "metadata": {},
   "outputs": [
    {
     "name": "stdout",
     "output_type": "stream",
     "text": [
      "0\n"
     ]
    }
   ],
   "source": [
    "# Floor division\n",
    "c = a//b   \n",
    "print(c)"
   ]
  },
  {
   "cell_type": "code",
   "execution_count": 7,
   "id": "435347b1",
   "metadata": {},
   "outputs": [
    {
     "name": "stdout",
     "output_type": "stream",
     "text": [
      "5\n"
     ]
    }
   ],
   "source": [
    "# modulus\n",
    "c=a%b\n",
    "print(c)"
   ]
  },
  {
   "cell_type": "code",
   "execution_count": 10,
   "id": "40290a7d",
   "metadata": {},
   "outputs": [
    {
     "name": "stdout",
     "output_type": "stream",
     "text": [
      "15625\n"
     ]
    }
   ],
   "source": [
    "# Exponentiation\n",
    "c = a**b     \n",
    "# (5 raise to 6)\n",
    "print(c)"
   ]
  },
  {
   "cell_type": "markdown",
   "id": "24661a1e",
   "metadata": {},
   "source": [
    "### Assignment operators\n"
   ]
  },
  {
   "cell_type": "code",
   "execution_count": 17,
   "id": "088a9634",
   "metadata": {},
   "outputs": [
    {
     "name": "stdout",
     "output_type": "stream",
     "text": [
      "15\n",
      "25\n",
      "15\n",
      "1.5\n",
      "0.0\n"
     ]
    }
   ],
   "source": [
    "a = 10\n",
    "b = 5\n",
    "\n",
    "# Assignment\n",
    "c = a+b\n",
    "print(c)\n",
    "\n",
    "\n",
    "c += a\n",
    "print(c)\n",
    "\n",
    "c -= a\n",
    "print(c)\n",
    "\n",
    "c/=a\n",
    "print(c)\n",
    "\n",
    "c //=a\n",
    "print(c)\n",
    "\n",
    "\n",
    "\n"
   ]
  },
  {
   "cell_type": "code",
   "execution_count": 1,
   "id": "e52c9721",
   "metadata": {},
   "outputs": [
    {
     "name": "stdout",
     "output_type": "stream",
     "text": [
      "1\n"
     ]
    }
   ],
   "source": [
    "# It is a Floor Divisionoperator, which is used for dividing two operands with the\n",
    "# result as a quotient showing only digits before the decimal point.\n",
    "# For instance, 10//5 = 2 and 10.0//5.0 = 2.0.\n",
    "c = 15\n",
    "a = 10\n",
    "c //=a\n",
    "print(c)"
   ]
  },
  {
   "cell_type": "code",
   "execution_count": 21,
   "id": "1f81a15c",
   "metadata": {},
   "outputs": [
    {
     "name": "stdout",
     "output_type": "stream",
     "text": [
      "25\n"
     ]
    }
   ],
   "source": [
    "c = 5\n",
    "a = 2\n",
    "c**=a\n",
    "print(c)"
   ]
  },
  {
   "cell_type": "code",
   "execution_count": 22,
   "id": "ccf0cc29",
   "metadata": {},
   "outputs": [
    {
     "name": "stdout",
     "output_type": "stream",
     "text": [
      "10\n"
     ]
    }
   ],
   "source": [
    "# Modulus and assign\n",
    "c = 10\n",
    "a = 15\n",
    "\n",
    "c %= a\n",
    "print(c)"
   ]
  },
  {
   "cell_type": "markdown",
   "id": "4ce32513",
   "metadata": {},
   "source": [
    "### Comparison operators: These operators compare the values of two operands and return a Boolean value.\n",
    "\n",
    "###  Comparison Operators: These operators are used to compare two values or variables and return a Boolean value True or False based on the comparison. ###\n",
    "\n",
    "== : Equal to\n",
    "\n",
    "!= : Not equal to\n",
    "\n",
    "> : Greater than\n",
    "\n",
    "< : Less than\n",
    "\n",
    ">= : Greater than or equal to\n",
    "\n",
    "<= : Less than or equal to      "
   ]
  },
  {
   "cell_type": "code",
   "execution_count": 23,
   "id": "6212f5be",
   "metadata": {},
   "outputs": [
    {
     "name": "stdout",
     "output_type": "stream",
     "text": [
      "False\n"
     ]
    }
   ],
   "source": [
    "a = 5\n",
    "b = 15\n",
    "c = a>b\n",
    "print(c)"
   ]
  },
  {
   "cell_type": "code",
   "execution_count": 25,
   "id": "25109e60",
   "metadata": {},
   "outputs": [
    {
     "data": {
      "text/plain": [
       "True"
      ]
     },
     "execution_count": 25,
     "metadata": {},
     "output_type": "execute_result"
    }
   ],
   "source": [
    "c = a<b\n",
    "c"
   ]
  },
  {
   "cell_type": "code",
   "execution_count": 29,
   "id": "472bb6d1",
   "metadata": {},
   "outputs": [
    {
     "data": {
      "text/plain": [
       "False"
      ]
     },
     "execution_count": 29,
     "metadata": {},
     "output_type": "execute_result"
    }
   ],
   "source": [
    "a == b\n"
   ]
  },
  {
   "cell_type": "code",
   "execution_count": 30,
   "id": "fdf88035",
   "metadata": {},
   "outputs": [
    {
     "data": {
      "text/plain": [
       "True"
      ]
     },
     "execution_count": 30,
     "metadata": {},
     "output_type": "execute_result"
    }
   ],
   "source": [
    "a != b"
   ]
  },
  {
   "cell_type": "code",
   "execution_count": 31,
   "id": "c6b4ac0e",
   "metadata": {},
   "outputs": [
    {
     "name": "stdout",
     "output_type": "stream",
     "text": [
      "False\n",
      "True\n"
     ]
    }
   ],
   "source": [
    "# Greater than or equal to\n",
    "print(a >= b) # Output: True\n",
    "\n",
    "# Less than or equal to\n",
    "print(a <= b) # Output: False"
   ]
  },
  {
   "cell_type": "markdown",
   "id": "92d4af96",
   "metadata": {},
   "source": [
    "#### Logical operators in Python are used to perform logical operations on Boolean values or variables. The three logical operators in Python are and, or, and not. Here are some examples of how to use these operators:"
   ]
  },
  {
   "attachments": {
    "Boolean-Logical-Table.png": {
     "image/png": "[encoded data removed]"
    }
   },
   "cell_type": "markdown",
   "id": "a81e4129",
   "metadata": {},
   "source": [
    "![Boolean-Logical-Table.png](attachment:Boolean-Logical-Table.png)\n"
   ]
  },
  {
   "cell_type": "code",
   "execution_count": 33,
   "id": "46d640c3",
   "metadata": {},
   "outputs": [
    {
     "name": "stdout",
     "output_type": "stream",
     "text": [
      "both the condition are true\n"
     ]
    }
   ],
   "source": [
    "a = 10\n",
    "b = 5\n",
    "c = 1\n",
    "\n",
    "if a > b and c<b:\n",
    "    print(\"both the condition are true\")\n",
    "else:\n",
    "    print(\"Both the condition are not True\")"
   ]
  },
  {
   "cell_type": "code",
   "execution_count": 36,
   "id": "f393d555",
   "metadata": {},
   "outputs": [
    {
     "name": "stdout",
     "output_type": "stream",
     "text": [
      "both the condition are true\n"
     ]
    }
   ],
   "source": [
    "a = 10\n",
    "b = 5\n",
    "c = 1\n",
    "\n",
    "if a < b or c < b:\n",
    "    print(\"both the condition are true\")\n",
    "else:\n",
    "    print(\"Both the condition are not True\")"
   ]
  },
  {
   "cell_type": "code",
   "execution_count": null,
   "id": "44f0b6c0",
   "metadata": {},
   "outputs": [],
   "source": []
  }
 ],
 "metadata": {
  "kernelspec": {
   "display_name": "Python 3 (ipykernel)",
   "language": "python",
   "name": "python3"
  },
  "language_info": {
   "codemirror_mode": {
    "name": "ipython",
    "version": 3
   },
   "file_extension": ".py",
   "mimetype": "text/x-python",
   "name": "python",
   "nbconvert_exporter": "python",
   "pygments_lexer": "ipython3",
   "version": "3.9.13"
  }
 },
 "nbformat": 4,
 "nbformat_minor": 5
}
