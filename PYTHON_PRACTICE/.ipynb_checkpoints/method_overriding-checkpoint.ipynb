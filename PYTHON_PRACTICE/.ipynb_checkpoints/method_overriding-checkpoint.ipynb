{
 "cells": [
  {
   "cell_type": "markdown",
   "id": "b46121f7",
   "metadata": {},
   "source": [
    "What is compile time ?\n",
    "\n",
    "Compile time, also known as compilation time or compile-time, refers to the period during which a program is translated from the high-level language code (such as Python or Java) into machine-readable code (such as binary code) that can be executed by a computer's processor.\n",
    "\n",
    "During the compilation process, the source code is transformed by a compiler into an executable format, which can then be run by the computer. The compiler performs a series of checks and optimizations on the code to ensure that it is syntactically and semantically correct, and can be executed efficiently.\n",
    "\n",
    "Compile time is important in programming because it affects the performance and functionality of the program. If the code contains syntax errors or logical errors, the compiler will report these errors during compilation, preventing the program from being executed. Additionally, certain programming languages like C++ allow for optimizations during the compilation process that can improve the performance of the resulting program.\n",
    "\n",
    "After the code is compiled, the resulting executable file can be executed on the target machine. It is important to note that any changes made to the source code require a recompilation of the code to generate a new executable file.\n",
    "\n",
    "---------------------------------------------------------------------------------------------\n",
    "What is compile time polymorphism\n",
    "\n",
    "Compile-time polymorphism, also known as static polymorphism, is a type of polymorphism in object-oriented programming that occurs at compile time. It refers to the ability of a programming language to execute different versions of the same function or method at compile-time based on the number and types of arguments passed to it.\n",
    "\n",
    "In compile-time polymorphism, the compiler resolves which function or method to call based on the number and types of arguments passed to it at compile-time. This is achieved through method overloading, where a class can have multiple functions or methods with the same name, but with different parameters.\n",
    "\n",
    "\n",
    "Yes, that's correct. In languages that support compile-time polymorphism, the compiler determines which method to call based on the types and number of arguments at compile-time, before the code is executed. This means that the decision of which method to call is made during the compilation phase of the program, and not at runtime.\n",
    "\n",
    "In contrast, in languages like Python, which do not support compile-time polymorphism, the decision of which method to call is made at runtime, based on the actual types and number of arguments provided to the function or method.\n",
    "\n",
    "\n",
    "-------------------------------------------------------------------------------------------------\n",
    "\n",
    "Here's an example of compile-time polymorphism in Python:\n",
    "\n",
    "\n",
    "class Calculator:\n",
    "\n",
    "    def add(self, x, y):\n",
    "        return x + y\n",
    "    \n",
    "    def add(self, x, y, z):\n",
    "        return x + y + z\n",
    "        \n",
    "\n",
    "calc = Calculator()\n",
    "print(calc.add(2, 3))  # This calls the first version of add\n",
    "print(calc.add(2, 3, 4))  # This calls the second version of add\n",
    "\n",
    "\n",
    "In this example, the Calculator class has two versions of the add method, one that takes two arguments and another that takes three arguments. The compiler is able to determine which version of the method to call based on the number of arguments passed at compile-time.\n",
    "\n",
    "------------------------------------------------------------------------------------------------\n",
    "\n",
    "Give about run time same as above ?\n",
    "\n",
    "Runtime polymorphism, also known as dynamic polymorphism, is a type of polymorphism in object-oriented programming that occurs at runtime. It refers to the ability of a program to execute different versions of the same function or method based on the actual type of the object on which the method is being called.\n",
    "\n",
    "In runtime polymorphism, the method to be executed is determined by the actual type of the object at runtime, rather than at compile-time. This is achieved through method overriding, where a subclass provides its own implementation of a method that is already defined in its superclass.\n",
    "\n",
    "Here's an example of runtime polymorphism in Python:\n",
    "\n",
    "\n",
    "class Animal:\n",
    "    def talk(self):\n",
    "        pass\n",
    "\n",
    "class Cat(Animal):\n",
    "    def talk(self):\n",
    "        return \"Meow\"\n",
    "\n",
    "class Dog(Animal):\n",
    "    def talk(self):\n",
    "        return \"Woof\"\n",
    "\n",
    "animals = [Cat(), Dog()]\n",
    "\n",
    "for animal in animals:\n",
    "    print(animal.talk())\n",
    "    \n",
    "    \n",
    "In this example, the Animal class defines a method called talk, but it has no implementation. The Cat and Dog classes both inherit from Animal and override the talk method with their own implementations. At runtime, the correct implementation of talk is called based on the actual type of the object. In this case, when we call talk on each object in the animals list, the correct implementation of talk is called for each object, either Meow for the Cat object or Woof for the Dog object. This is an example of runtime polymorphism because the implementation of the talk method is determined at runtime, based on the actual type of the object being used.\n",
    "\n",
    "\n",
    "\n",
    "\n",
    "\n",
    "Send a message."
   ]
  },
  {
   "cell_type": "code",
   "execution_count": 4,
   "id": "b5c351ad",
   "metadata": {},
   "outputs": [
    {
     "ename": "TypeError",
     "evalue": "add() missing 1 required positional argument: 'z'",
     "output_type": "error",
     "traceback": [
      "\u001b[1;31m---------------------------------------------------------------------------\u001b[0m",
      "\u001b[1;31mTypeError\u001b[0m                                 Traceback (most recent call last)",
      "\u001b[1;32m~\\AppData\\Local\\Temp\\ipykernel_7884\\1549173489.py\u001b[0m in \u001b[0;36m<module>\u001b[1;34m\u001b[0m\n\u001b[0;32m      9\u001b[0m \u001b[1;33m\u001b[0m\u001b[0m\n\u001b[0;32m     10\u001b[0m \u001b[0mcal\u001b[0m \u001b[1;33m=\u001b[0m \u001b[0mCalculator\u001b[0m\u001b[1;33m(\u001b[0m\u001b[1;33m)\u001b[0m\u001b[1;33m\u001b[0m\u001b[1;33m\u001b[0m\u001b[0m\n\u001b[1;32m---> 11\u001b[1;33m \u001b[0mcal\u001b[0m\u001b[1;33m.\u001b[0m\u001b[0madd\u001b[0m\u001b[1;33m(\u001b[0m\u001b[1;36m2\u001b[0m\u001b[1;33m,\u001b[0m\u001b[1;36m3\u001b[0m\u001b[1;33m)\u001b[0m\u001b[1;33m\u001b[0m\u001b[1;33m\u001b[0m\u001b[0m\n\u001b[0m",
      "\u001b[1;31mTypeError\u001b[0m: add() missing 1 required positional argument: 'z'"
     ]
    }
   ],
   "source": [
    "class Calculator:\n",
    "\n",
    "    def add(self, x, y):\n",
    "        return x + y\n",
    "    \n",
    "    def add(self, x, y, z):\n",
    "        return x + y + z\n",
    "    \n",
    "    \n",
    "cal = Calculator()\n",
    "cal.add(2,3)"
   ]
  },
  {
   "cell_type": "markdown",
   "id": "57fa21cc",
   "metadata": {},
   "source": [
    "the above error is because method overloading is not valid in python"
   ]
  },
  {
   "cell_type": "code",
   "execution_count": 9,
   "id": "c2f43607",
   "metadata": {},
   "outputs": [
    {
     "data": {
      "text/plain": [
       "5"
      ]
     },
     "execution_count": 9,
     "metadata": {},
     "output_type": "execute_result"
    }
   ],
   "source": [
    "class Calculator:\n",
    "\n",
    "    def add(self, x, y, z = 0):\n",
    "        return x + y+z\n",
    "\n",
    "    \n",
    "    \n",
    "cal = Calculator()\n",
    "cal.add(2,3)"
   ]
  },
  {
   "cell_type": "code",
   "execution_count": 10,
   "id": "845ba019",
   "metadata": {},
   "outputs": [
    {
     "name": "stdout",
     "output_type": "stream",
     "text": [
      "deep\n"
     ]
    }
   ],
   "source": [
    "class A:\n",
    "    def talk(self):\n",
    "        print(\"deep\")\n",
    "\n",
    "class B(A):\n",
    "    def talk(self):\n",
    "        print(\"ratan\")\n",
    "        \n",
    "        \n",
    "a = A()\n",
    "a.talk()"
   ]
  },
  {
   "cell_type": "code",
   "execution_count": 11,
   "id": "25b3cb91",
   "metadata": {},
   "outputs": [
    {
     "name": "stdout",
     "output_type": "stream",
     "text": [
      "ratan\n"
     ]
    }
   ],
   "source": [
    "b = B()\n",
    "b.talk()"
   ]
  },
  {
   "cell_type": "code",
   "execution_count": null,
   "id": "7919a38f",
   "metadata": {},
   "outputs": [],
   "source": []
  }
 ],
 "metadata": {
  "kernelspec": {
   "display_name": "Python 3 (ipykernel)",
   "language": "python",
   "name": "python3"
  },
  "language_info": {
   "codemirror_mode": {
    "name": "ipython",
    "version": 3
   },
   "file_extension": ".py",
   "mimetype": "text/x-python",
   "name": "python",
   "nbconvert_exporter": "python",
   "pygments_lexer": "ipython3",
   "version": "3.9.13"
  }
 },
 "nbformat": 4,
 "nbformat_minor": 5
}
