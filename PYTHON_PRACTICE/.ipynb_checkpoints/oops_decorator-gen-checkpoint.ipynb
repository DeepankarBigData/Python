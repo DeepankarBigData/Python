{
 "cells": [
  {
   "cell_type": "markdown",
   "id": "618bce32",
   "metadata": {},
   "source": [
    "### POLYMORHISM"
   ]
  },
  {
   "cell_type": "code",
   "execution_count": 40,
   "id": "01df0854",
   "metadata": {},
   "outputs": [],
   "source": [
    "class Animal:\n",
    "    def cat(self):\n",
    "        print(\"meow\")\n",
    "    def dog(self):\n",
    "        print(\"barks\")"
   ]
  },
  {
   "cell_type": "code",
   "execution_count": 41,
   "id": "dd9fbe42",
   "metadata": {},
   "outputs": [
    {
     "name": "stdout",
     "output_type": "stream",
     "text": [
      "meow\n"
     ]
    }
   ],
   "source": [
    "class A(Animal):\n",
    "    def cat(self):\n",
    "        print(\"dj\")\n",
    "        \n",
    "a = Animal()\n",
    "a.cat()"
   ]
  },
  {
   "cell_type": "code",
   "execution_count": 42,
   "id": "fb453c38",
   "metadata": {},
   "outputs": [
    {
     "name": "stdout",
     "output_type": "stream",
     "text": [
      "dj\n"
     ]
    }
   ],
   "source": [
    "b = A()\n",
    "b.cat()"
   ]
  },
  {
   "cell_type": "markdown",
   "id": "1a0e08ed",
   "metadata": {},
   "source": [
    "## Encapsulation"
   ]
  },
  {
   "cell_type": "code",
   "execution_count": 34,
   "id": "18aa88be",
   "metadata": {},
   "outputs": [
    {
     "name": "stdout",
     "output_type": "stream",
     "text": [
      "The value of a is 2 and value of b is 3\n",
      "The changed value is  1000\n"
     ]
    }
   ],
   "source": [
    "class A:\n",
    "    def __init__(self,a,b):\n",
    "        self.a = a\n",
    "        self.__b = b\n",
    "        \n",
    "    def getter(self):\n",
    "        return f\"The value of a is {self.a} and value of b is {self.__b}\"\n",
    "    \n",
    "    def change(self,new_b):\n",
    "        self.__b = new_b\n",
    "        \n",
    "    def get(self):\n",
    "        print(\"The changed value is \",self.__b)\n",
    "        \n",
    "        \n",
    "\n",
    "X = A(2,3)\n",
    "print(X.getter())\n",
    "X.change(1000)\n",
    "X.get()"
   ]
  },
  {
   "cell_type": "code",
   "execution_count": 35,
   "id": "cf79d3f0",
   "metadata": {},
   "outputs": [
    {
     "name": "stdout",
     "output_type": "stream",
     "text": [
      "2\n"
     ]
    }
   ],
   "source": [
    "print(X.a)"
   ]
  },
  {
   "cell_type": "code",
   "execution_count": 36,
   "id": "5ec5fc88",
   "metadata": {},
   "outputs": [
    {
     "name": "stdout",
     "output_type": "stream",
     "text": [
      "The value of a is 2 and value of b is 1000\n"
     ]
    }
   ],
   "source": [
    "print(X.getter())"
   ]
  },
  {
   "cell_type": "markdown",
   "id": "3d210d1b",
   "metadata": {},
   "source": [
    "### DECORATOR"
   ]
  },
  {
   "cell_type": "code",
   "execution_count": 47,
   "id": "f9961de8",
   "metadata": {},
   "outputs": [
    {
     "name": "stdout",
     "output_type": "stream",
     "text": [
      "inner\n",
      "normal function\n",
      "last line\n"
     ]
    }
   ],
   "source": [
    "def abc(func):\n",
    "    def wrapper():\n",
    "        print(\"inner\")\n",
    "        func()\n",
    "        print(\"last line\")\n",
    "    return wrapper\n",
    "    \n",
    "@abc\n",
    "def xyz():\n",
    "    print(\"normal function\")\n",
    "\n",
    "xyz()"
   ]
  },
  {
   "cell_type": "markdown",
   "id": "6a80723e",
   "metadata": {},
   "source": [
    "### Generator"
   ]
  },
  {
   "cell_type": "code",
   "execution_count": null,
   "id": "92d53fb8",
   "metadata": {},
   "outputs": [],
   "source": []
  },
  {
   "cell_type": "code",
   "execution_count": 50,
   "id": "0aa2d09d",
   "metadata": {},
   "outputs": [
    {
     "name": "stdout",
     "output_type": "stream",
     "text": [
      "<class 'generator'>\n"
     ]
    }
   ],
   "source": [
    "def mygen():\n",
    "    yield 'A'\n",
    "    \n",
    "    yield 'B'\n",
    "    yield 'C'\n",
    "\n",
    "g = mygen()\n",
    "print(type(g))"
   ]
  },
  {
   "cell_type": "code",
   "execution_count": 52,
   "id": "337f48f7",
   "metadata": {},
   "outputs": [
    {
     "data": {
      "text/plain": [
       "'A'"
      ]
     },
     "execution_count": 52,
     "metadata": {},
     "output_type": "execute_result"
    }
   ],
   "source": [
    "next(g)"
   ]
  },
  {
   "cell_type": "code",
   "execution_count": 54,
   "id": "97061543",
   "metadata": {},
   "outputs": [
    {
     "data": {
      "text/plain": [
       "'B'"
      ]
     },
     "execution_count": 54,
     "metadata": {},
     "output_type": "execute_result"
    }
   ],
   "source": [
    "next(g)"
   ]
  },
  {
   "cell_type": "code",
   "execution_count": 55,
   "id": "6958c55f",
   "metadata": {},
   "outputs": [
    {
     "data": {
      "text/plain": [
       "'C'"
      ]
     },
     "execution_count": 55,
     "metadata": {},
     "output_type": "execute_result"
    }
   ],
   "source": [
    "next(g)"
   ]
  },
  {
   "cell_type": "code",
   "execution_count": 56,
   "id": "4581fc4b",
   "metadata": {},
   "outputs": [
    {
     "ename": "StopIteration",
     "evalue": "",
     "output_type": "error",
     "traceback": [
      "\u001b[1;31m---------------------------------------------------------------------------\u001b[0m",
      "\u001b[1;31mStopIteration\u001b[0m                             Traceback (most recent call last)",
      "\u001b[1;32m~\\AppData\\Local\\Temp\\ipykernel_9012\\4253931490.py\u001b[0m in \u001b[0;36m<module>\u001b[1;34m\u001b[0m\n\u001b[1;32m----> 1\u001b[1;33m \u001b[0mnext\u001b[0m\u001b[1;33m(\u001b[0m\u001b[0mg\u001b[0m\u001b[1;33m)\u001b[0m\u001b[1;33m\u001b[0m\u001b[1;33m\u001b[0m\u001b[0m\n\u001b[0m",
      "\u001b[1;31mStopIteration\u001b[0m: "
     ]
    }
   ],
   "source": [
    "next(g)"
   ]
  },
  {
   "cell_type": "code",
   "execution_count": 117,
   "id": "2eb0b914",
   "metadata": {},
   "outputs": [
    {
     "name": "stdout",
     "output_type": "stream",
     "text": [
      "0\n"
     ]
    }
   ],
   "source": [
    "x = (i*i for i in range(100))\n",
    "# whenvever we are using like this, it is agenerator\n",
    "print(next(x))\n",
    "# type(x)"
   ]
  },
  {
   "cell_type": "markdown",
   "id": "95dbf445",
   "metadata": {},
   "source": [
    "There is no yield statement in this code.\n",
    "\n",
    "Instead, the code is using a generator expression (x * x for x in range(5)) to create a generator object gen.\n",
    "The generator object is then iterated over using a for loop, and each value is printed using the print() function.\n",
    "\n",
    "The yield statement is typically used in generator functions, which are defined using the def keyword and \n",
    "contain one or more yield statements to produce a sequence of values. However, in this case,\n",
    "there is no generator function being used, so there is no yield statement."
   ]
  },
  {
   "cell_type": "code",
   "execution_count": 71,
   "id": "6558f97c",
   "metadata": {},
   "outputs": [
    {
     "name": "stdout",
     "output_type": "stream",
     "text": [
      "0\n",
      "1\n",
      "4\n",
      "9\n",
      "16\n",
      "25\n",
      "36\n",
      "49\n",
      "64\n",
      "81\n",
      "100\n",
      "121\n",
      "144\n",
      "169\n",
      "196\n",
      "225\n",
      "256\n",
      "289\n",
      "324\n",
      "361\n",
      "400\n",
      "441\n",
      "484\n",
      "529\n",
      "576\n",
      "625\n",
      "676\n",
      "729\n",
      "784\n",
      "841\n",
      "900\n",
      "961\n",
      "1024\n",
      "1089\n",
      "1156\n",
      "1225\n",
      "1296\n",
      "1369\n",
      "1444\n",
      "1521\n",
      "1600\n",
      "1681\n",
      "1764\n",
      "1849\n",
      "1936\n",
      "2025\n",
      "2116\n",
      "2209\n",
      "2304\n",
      "2401\n",
      "2500\n",
      "2601\n",
      "2704\n",
      "2809\n",
      "2916\n",
      "3025\n",
      "3136\n",
      "3249\n",
      "3364\n",
      "3481\n",
      "3600\n",
      "3721\n",
      "3844\n",
      "3969\n",
      "4096\n",
      "4225\n",
      "4356\n",
      "4489\n",
      "4624\n",
      "4761\n",
      "4900\n",
      "5041\n",
      "5184\n",
      "5329\n",
      "5476\n",
      "5625\n",
      "5776\n",
      "5929\n",
      "6084\n",
      "6241\n",
      "6400\n",
      "6561\n",
      "6724\n",
      "6889\n",
      "7056\n",
      "7225\n",
      "7396\n",
      "7569\n",
      "7744\n",
      "7921\n",
      "8100\n",
      "8281\n",
      "8464\n",
      "8649\n",
      "8836\n",
      "9025\n",
      "9216\n",
      "9409\n",
      "9604\n",
      "9801\n"
     ]
    }
   ],
   "source": [
    "x = (i*i for i in range(100))\n",
    "while x:\n",
    "    try:\n",
    "        value = next(x)\n",
    "    except StopIteration:\n",
    "        break\n",
    "    print(value)"
   ]
  },
  {
   "cell_type": "markdown",
   "id": "ef7202d8",
   "metadata": {},
   "source": [
    "### Abstraction"
   ]
  },
  {
   "cell_type": "code",
   "execution_count": 115,
   "id": "6b05bc2b",
   "metadata": {},
   "outputs": [
    {
     "name": "stdout",
     "output_type": "stream",
     "text": [
      "This is Power Bank\n",
      "dj\n"
     ]
    }
   ],
   "source": [
    "from abc import ABC, abstractmethod\n",
    "\n",
    "class Power(ABC):\n",
    "    @abstractmethod\n",
    "    def get(self):\n",
    "        pass\n",
    "    \n",
    "class akesh(Power):\n",
    "    def get1(self):\n",
    "        print(\"This is Power Bank\")\n",
    "    def get(self):\n",
    "        print(\"dj\")\n",
    "        \n",
    "a = akesh()\n",
    "\n",
    "a.get1()\n",
    "a.get()"
   ]
  },
  {
   "cell_type": "markdown",
   "id": "2a4eefc4",
   "metadata": {},
   "source": [
    "## he output of the code will remain the same even if you remove the @abstractmethod decorator \n",
    "from the get() method in the Power class.\n",
    "\n",
    "However, by adding the @abstractmethod decorator, you are indicating that any subclass of the \n",
    "Power class must implement the get() method. \n",
    "If a subclass does not implement this method, the program will throw a TypeError when an \n",
    "object of that subclass is instantiated.\n",
    "\n",
    "So, by leaving the @abstractmethod decorator in place, you are enforcing a contract that any \n",
    "subclass of Power must implement the get() method, which can help catch errors early \n",
    "on in the development process.\n",
    "    "
   ]
  },
  {
   "cell_type": "code",
   "execution_count": 116,
   "id": "d9e600d1",
   "metadata": {},
   "outputs": [
    {
     "name": "stdout",
     "output_type": "stream",
     "text": [
      "1\n",
      "2\n",
      "3\n"
     ]
    }
   ],
   "source": [
    "def my_generator():\n",
    "    yield 1\n",
    "    yield 2\n",
    "    yield 3\n",
    "gen = my_generator()\n",
    "for value in gen:\n",
    "    print(value)"
   ]
  },
  {
   "cell_type": "markdown",
   "id": "2272e1a4",
   "metadata": {},
   "source": [
    "In this code, my_generator() is a generator function that contains three yield statements.\n",
    "When my_generator() is called, it returns a generator object, which can be used to iterate\n",
    "over the sequence of values produced by the yield statements.\n",
    "\n",
    "In the code gen = my_generator(), the my_generator() function is called, and the returned generator\n",
    "object is assigned to the variable gen. This does not actually execute any of the yield statements yet;\n",
    "it simply creates a generator object.\n",
    "\n",
    "When the for loop iterates over gen, the next() method of the generator object is called automatically \n",
    "for each iteration, which causes the generator function to execute up to the next yield statement\n",
    "and produce the corresponding value. This happens three times in total, once for each yield\n",
    "statement in the generator function.\n",
    "\n",
    "So, the for loop effectively calls the generator three times, but this is hidden from the user\n",
    "and happens automatically as part of the iteration process. Therefore, there is no need to \n",
    "explicitly call gen three times in the code.\n",
    "\n",
    "\n",
    "\n",
    "\n",
    "\n"
   ]
  },
  {
   "cell_type": "code",
   "execution_count": 1,
   "id": "aac17042",
   "metadata": {},
   "outputs": [
    {
     "name": "stdout",
     "output_type": "stream",
     "text": [
      "1\n",
      "2\n"
     ]
    }
   ],
   "source": [
    "def dj():\n",
    "    yield 1\n",
    "    yield 2\n",
    "\n",
    "gen = dj()\n",
    "\n",
    "for i in gen:\n",
    "    print(i)\n",
    "    \n",
    "#  next method run automaticaally here"
   ]
  },
  {
   "cell_type": "code",
   "execution_count": 4,
   "id": "b72e1e55",
   "metadata": {},
   "outputs": [],
   "source": [
    "a = [1,-1,45,6]\n",
    "a.sort(reverse = True)"
   ]
  },
  {
   "cell_type": "code",
   "execution_count": 5,
   "id": "322853fb",
   "metadata": {},
   "outputs": [
    {
     "data": {
      "text/plain": [
       "[45, 6, 1, -1]"
      ]
     },
     "execution_count": 5,
     "metadata": {},
     "output_type": "execute_result"
    }
   ],
   "source": [
    "a"
   ]
  },
  {
   "cell_type": "code",
   "execution_count": 6,
   "id": "cd806761",
   "metadata": {},
   "outputs": [
    {
     "data": {
      "text/plain": [
       "6"
      ]
     },
     "execution_count": 6,
     "metadata": {},
     "output_type": "execute_result"
    }
   ],
   "source": [
    "a[1]"
   ]
  },
  {
   "cell_type": "code",
   "execution_count": 7,
   "id": "2f882ba5",
   "metadata": {},
   "outputs": [
    {
     "name": "stdout",
     "output_type": "stream",
     "text": [
      "Enter the number of rows for the Floyd triangle: 5\n",
      "1 \n",
      "2 4 \n",
      "7 11 16 \n",
      "22 29 37 46 \n",
      "56 67 79 92 106 \n"
     ]
    }
   ],
   "source": [
    "# Get the number of rows for the triangle from the user\n",
    "rows = int(input(\"Enter the number of rows for the Floyd triangle: \"))\n",
    "\n",
    "# Initialize the starting number and the increment\n",
    "number = 1\n",
    "increment = 1\n",
    "\n",
    "# Loop through each row of the triangle and print the numbers\n",
    "for i in range(rows):\n",
    "    for j in range(i+1):\n",
    "        print(number, end=\" \")\n",
    "        number += increment\n",
    "        increment += 1\n",
    "    print()\n"
   ]
  },
  {
   "cell_type": "code",
   "execution_count": 9,
   "id": "a8728971",
   "metadata": {},
   "outputs": [
    {
     "name": "stdout",
     "output_type": "stream",
     "text": [
      "*\n",
      "*\n",
      "*\n",
      "*\n"
     ]
    }
   ],
   "source": [
    "for i in range(4):\n",
    "    print('*')"
   ]
  },
  {
   "cell_type": "code",
   "execution_count": 1,
   "id": "ab407b2c",
   "metadata": {},
   "outputs": [
    {
     "name": "stdout",
     "output_type": "stream",
     "text": [
      "wrapper function started\n",
      "HAL\n"
     ]
    }
   ],
   "source": [
    "# decorator\n",
    "\n",
    "def dec(arg):\n",
    "    def inner():\n",
    "        print(\"wrapper function started\")\n",
    "        arg()\n",
    "    return inner\n",
    "\n",
    "@dec\n",
    "# myfun = dec(myfun)\n",
    "def myfun():\n",
    "    print(\"HAL\")\n",
    "\n",
    "myfun()"
   ]
  },
  {
   "cell_type": "code",
   "execution_count": 4,
   "id": "2cce2c20",
   "metadata": {},
   "outputs": [
    {
     "name": "stdout",
     "output_type": "stream",
     "text": [
      "inner\n",
      "normal function\n",
      "last line\n"
     ]
    }
   ],
   "source": [
    "def abc(func):\n",
    "    def wrapper():\n",
    "        print(\"inner\")\n",
    "        func()\n",
    "        print(\"last line\")\n",
    "    return wrapper\n",
    "    \n",
    "@abc\n",
    "def xyz():\n",
    "    print(\"normal function\")\n",
    "\n",
    "xyz()"
   ]
  },
  {
   "cell_type": "code",
   "execution_count": 11,
   "id": "3d23748b",
   "metadata": {},
   "outputs": [
    {
     "name": "stdout",
     "output_type": "stream",
     "text": [
      "1\n",
      "2\n",
      "4\n",
      "55\n"
     ]
    }
   ],
   "source": [
    "a = [1,2,4,55]\n",
    "s = bytearray(a)\n",
    "for i in s:\n",
    "    print(i)"
   ]
  },
  {
   "cell_type": "code",
   "execution_count": 12,
   "id": "db1f71de",
   "metadata": {},
   "outputs": [],
   "source": [
    "s[2]=134"
   ]
  },
  {
   "cell_type": "code",
   "execution_count": null,
   "id": "64be1cd9",
   "metadata": {},
   "outputs": [],
   "source": []
  }
 ],
 "metadata": {
  "kernelspec": {
   "display_name": "Python 3 (ipykernel)",
   "language": "python",
   "name": "python3"
  },
  "language_info": {
   "codemirror_mode": {
    "name": "ipython",
    "version": 3
   },
   "file_extension": ".py",
   "mimetype": "text/x-python",
   "name": "python",
   "nbconvert_exporter": "python",
   "pygments_lexer": "ipython3",
   "version": "3.9.13"
  }
 },
 "nbformat": 4,
 "nbformat_minor": 5
}
