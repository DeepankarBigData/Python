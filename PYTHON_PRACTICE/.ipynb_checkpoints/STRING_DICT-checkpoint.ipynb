{
 "cells": [
  {
   "cell_type": "markdown",
   "id": "1c44bd60",
   "metadata": {},
   "source": [
    "## slicing is applicable on list,string,tuples,set(wherever indexes comes, slicing is applicable)"
   ]
  },
  {
   "cell_type": "code",
   "execution_count": 112,
   "id": "ea88b5bf",
   "metadata": {},
   "outputs": [
    {
     "data": {
      "text/plain": [
       "-1"
      ]
     },
     "execution_count": 112,
     "metadata": {},
     "output_type": "execute_result"
    }
   ],
   "source": [
    "a = \"deepankar\"\n",
    "a.find('d',6)\n",
    "# -1 indicates substring was not found"
   ]
  },
  {
   "cell_type": "code",
   "execution_count": 113,
   "id": "3b2d15a8",
   "metadata": {},
   "outputs": [
    {
     "data": {
      "text/plain": [
       "-1"
      ]
     },
     "execution_count": 113,
     "metadata": {},
     "output_type": "execute_result"
    }
   ],
   "source": [
    "a.find('p',0,2)"
   ]
  },
  {
   "cell_type": "code",
   "execution_count": 114,
   "id": "02b6485d",
   "metadata": {},
   "outputs": [
    {
     "data": {
      "text/plain": [
       "'dZepankar'"
      ]
     },
     "execution_count": 114,
     "metadata": {},
     "output_type": "execute_result"
    }
   ],
   "source": [
    "a.replace('e','Z',1)"
   ]
  },
  {
   "cell_type": "code",
   "execution_count": 73,
   "id": "02098980",
   "metadata": {},
   "outputs": [],
   "source": [
    "a = \"deepankar pawar\"\n",
    "z = a.split(\"t\")\n"
   ]
  },
  {
   "cell_type": "code",
   "execution_count": 74,
   "id": "46d45b4c",
   "metadata": {},
   "outputs": [
    {
     "data": {
      "text/plain": [
       "['deepankar pawar']"
      ]
     },
     "execution_count": 74,
     "metadata": {},
     "output_type": "execute_result"
    }
   ],
   "source": [
    "z"
   ]
  },
  {
   "cell_type": "code",
   "execution_count": 76,
   "id": "52376efa",
   "metadata": {},
   "outputs": [
    {
     "data": {
      "text/plain": [
       "'d#e#e#p#a#n#k#a#r# #p#a#w#a#r'"
      ]
     },
     "execution_count": 76,
     "metadata": {},
     "output_type": "execute_result"
    }
   ],
   "source": [
    "t = \"#\".join(a)\n",
    "t"
   ]
  },
  {
   "cell_type": "code",
   "execution_count": 78,
   "id": "9c28feff",
   "metadata": {},
   "outputs": [
    {
     "data": {
      "text/plain": [
       "4"
      ]
     },
     "execution_count": 78,
     "metadata": {},
     "output_type": "execute_result"
    }
   ],
   "source": [
    "d = a.count('a')\n",
    "d"
   ]
  },
  {
   "cell_type": "code",
   "execution_count": 86,
   "id": "13a1b593",
   "metadata": {},
   "outputs": [
    {
     "data": {
      "text/plain": [
       "7"
      ]
     },
     "execution_count": 86,
     "metadata": {},
     "output_type": "execute_result"
    }
   ],
   "source": [
    "a = \"deepankar pawar\"\n",
    "a.index('a',5)"
   ]
  },
  {
   "cell_type": "code",
   "execution_count": 151,
   "id": "197b6d4f",
   "metadata": {},
   "outputs": [
    {
     "name": "stdout",
     "output_type": "stream",
     "text": [
      " cdac hyd\n"
     ]
    }
   ],
   "source": [
    "a = \"@@@@@@ cdac hyd@@@@@\"\n",
    "print(a.strip('@'))"
   ]
  },
  {
   "cell_type": "code",
   "execution_count": 155,
   "id": "385b0a78",
   "metadata": {},
   "outputs": [
    {
     "name": "stdout",
     "output_type": "stream",
     "text": [
      " cdac hyd-@@@@@\n"
     ]
    }
   ],
   "source": [
    "a = \"@@@@@@ cdac hyd-@@@@@\"\n",
    "print(a.lstrip('@'))"
   ]
  },
  {
   "cell_type": "code",
   "execution_count": 156,
   "id": "8c9053f0",
   "metadata": {},
   "outputs": [
    {
     "data": {
      "text/plain": [
       "[1, 2, 3, 4, 78]"
      ]
     },
     "execution_count": 156,
     "metadata": {},
     "output_type": "execute_result"
    }
   ],
   "source": [
    "c = [1,2,3,4]\n",
    "c.append(78)\n",
    "c"
   ]
  },
  {
   "cell_type": "code",
   "execution_count": 116,
   "id": "2ff47f40",
   "metadata": {},
   "outputs": [
    {
     "name": "stdout",
     "output_type": "stream",
     "text": [
      "Enter a string :deep\n",
      "p e e d "
     ]
    }
   ],
   "source": [
    "# write a program to reverse a string\n",
    "\n",
    "s = input(\"Enter a string :\")\n",
    "r = reversed(s)\n",
    "# we got reversed object\n",
    "for ch in r:\n",
    "    print(ch, end = \" \")"
   ]
  },
  {
   "cell_type": "code",
   "execution_count": 2,
   "id": "8a2986be",
   "metadata": {},
   "outputs": [
    {
     "data": {
      "text/plain": [
       "reversed"
      ]
     },
     "execution_count": 2,
     "metadata": {},
     "output_type": "execute_result"
    }
   ],
   "source": [
    "type(r)"
   ]
  },
  {
   "cell_type": "code",
   "execution_count": 88,
   "id": "1f3bd528",
   "metadata": {},
   "outputs": [
    {
     "name": "stdout",
     "output_type": "stream",
     "text": [
      "enter a string: deeo\n"
     ]
    },
    {
     "data": {
      "text/plain": [
       "<reversed at 0x1a73f4c96d0>"
      ]
     },
     "execution_count": 88,
     "metadata": {},
     "output_type": "execute_result"
    }
   ],
   "source": [
    "s = input(\"enter a string: \")\n",
    "r = reversed(s)\n",
    "r\n",
    "# # join elements of text with space\n",
    "# output = \"\".join(r)\n",
    "# print(output)"
   ]
  },
  {
   "cell_type": "code",
   "execution_count": 91,
   "id": "7b13ade8",
   "metadata": {},
   "outputs": [],
   "source": [
    "# write a program to reverse a string using while loop\n",
    "out=''\n",
    "s = \"Deepankar\"\n",
    "d=8\n",
    "while d>=0:\n",
    "    out=out+s[d]\n",
    "    d = d-1\n",
    "    \n",
    "# print(out)"
   ]
  },
  {
   "cell_type": "code",
   "execution_count": 92,
   "id": "8eb99745",
   "metadata": {},
   "outputs": [
    {
     "name": "stdout",
     "output_type": "stream",
     "text": [
      "raknapeeD\n"
     ]
    }
   ],
   "source": [
    "print(out)"
   ]
  },
  {
   "cell_type": "markdown",
   "id": "32f0af21",
   "metadata": {},
   "source": [
    "#### Write a prgram to change order of words"
   ]
  },
  {
   "cell_type": "code",
   "execution_count": 93,
   "id": "90777e18",
   "metadata": {},
   "outputs": [],
   "source": [
    "st = \"DEEPANKAR HAS A SYMPATHATETIC VIEW\"\n",
    "a = st.split()\n",
    "# split wont require any argument, it converts string to list\n",
    "x=[]\n",
    "# i = 0\n",
    "while a:\n",
    "    for i in a:\n",
    "        x.append(a.pop())\n"
   ]
  },
  {
   "cell_type": "code",
   "execution_count": 100,
   "id": "5cb3ca32",
   "metadata": {},
   "outputs": [
    {
     "name": "stdout",
     "output_type": "stream",
     "text": [
      "VIEW SYMPATHATETIC A HAS DEEPANKAR\n"
     ]
    }
   ],
   "source": [
    "st = \"DEEPANKAR HAS A SYMPATHATETIC VIEW\"\n",
    "a = st.split()\n",
    "d = list(reversed(a))\n",
    "print(\" \".join(d))"
   ]
  },
  {
   "cell_type": "code",
   "execution_count": 94,
   "id": "20f90834",
   "metadata": {},
   "outputs": [
    {
     "data": {
      "text/plain": [
       "['VIEW', 'SYMPATHATETIC', 'A', 'HAS', 'DEEPANKAR']"
      ]
     },
     "execution_count": 94,
     "metadata": {},
     "output_type": "execute_result"
    }
   ],
   "source": [
    "x"
   ]
  },
  {
   "cell_type": "code",
   "execution_count": 13,
   "id": "4991ccec",
   "metadata": {},
   "outputs": [
    {
     "data": {
      "text/plain": [
       "'VIEW SYMPATHATETIC A HAS DEEPANKAR'"
      ]
     },
     "execution_count": 13,
     "metadata": {},
     "output_type": "execute_result"
    }
   ],
   "source": [
    "z = ' '.join(x)\n",
    "z"
   ]
  },
  {
   "cell_type": "code",
   "execution_count": 10,
   "id": "cc4ee967",
   "metadata": {},
   "outputs": [
    {
     "data": {
      "text/plain": [
       "[[1, 2, 3]]"
      ]
     },
     "execution_count": 10,
     "metadata": {},
     "output_type": "execute_result"
    }
   ],
   "source": [
    "a = [1,2,3]\n",
    "b = []\n",
    "b.append(a)\n",
    "b"
   ]
  },
  {
   "cell_type": "code",
   "execution_count": 11,
   "id": "6ae0932c",
   "metadata": {},
   "outputs": [
    {
     "data": {
      "text/plain": [
       "'d e e p a   i s'"
      ]
     },
     "execution_count": 11,
     "metadata": {},
     "output_type": "execute_result"
    }
   ],
   "source": [
    "x = 'deepa is'\n",
    "z = ' '.join(x)\n",
    "z"
   ]
  },
  {
   "cell_type": "markdown",
   "id": "4fcdd93a",
   "metadata": {},
   "source": [
    "#### other ways"
   ]
  },
  {
   "cell_type": "code",
   "execution_count": 12,
   "id": "087ea2d4",
   "metadata": {},
   "outputs": [],
   "source": [
    "st = \"DEEPANKAR HAS A SYMPATHATIC VIEW\"\n",
    "a = st.split()\n",
    "x = a[::-1]"
   ]
  },
  {
   "cell_type": "code",
   "execution_count": 13,
   "id": "8cd960f7",
   "metadata": {},
   "outputs": [],
   "source": [
    "x\n",
    "s = ' '.join(x)"
   ]
  },
  {
   "cell_type": "code",
   "execution_count": 14,
   "id": "1ca01cbf",
   "metadata": {},
   "outputs": [
    {
     "data": {
      "text/plain": [
       "'VIEW SYMPATHATIC A HAS DEEPANKAR'"
      ]
     },
     "execution_count": 14,
     "metadata": {},
     "output_type": "execute_result"
    }
   ],
   "source": [
    "s\n"
   ]
  },
  {
   "cell_type": "code",
   "execution_count": 20,
   "id": "b36960d9",
   "metadata": {},
   "outputs": [],
   "source": [
    "# we join the list, what i we join the string\n",
    "s = \"deepankar is a symphtahteic\"\n",
    "d = ' '.join(s)"
   ]
  },
  {
   "cell_type": "code",
   "execution_count": 21,
   "id": "7703049b",
   "metadata": {},
   "outputs": [
    {
     "data": {
      "text/plain": [
       "'d e e p a n k a r   i s   a   s y m p h t a h t e i c'"
      ]
     },
     "execution_count": 21,
     "metadata": {},
     "output_type": "execute_result"
    }
   ],
   "source": [
    "d"
   ]
  },
  {
   "cell_type": "code",
   "execution_count": 34,
   "id": "d50df6e8",
   "metadata": {},
   "outputs": [
    {
     "data": {
      "text/plain": [
       "['d', 'e', 'e', 'p', 'a', 'n', 'k', 'a', 'r']"
      ]
     },
     "execution_count": 34,
     "metadata": {},
     "output_type": "execute_result"
    }
   ],
   "source": [
    "a = \"deepankar\"\n",
    "b =[]\n",
    "s = []\n",
    "for i in a:\n",
    "    b.append(i)\n",
    "    \n",
    "b"
   ]
  },
  {
   "cell_type": "code",
   "execution_count": 38,
   "id": "48204ce3",
   "metadata": {},
   "outputs": [
    {
     "data": {
      "text/plain": [
       "['e', 'e', 'd']"
      ]
     },
     "execution_count": 38,
     "metadata": {},
     "output_type": "execute_result"
    }
   ],
   "source": [
    "a = \"deepankar\"\n",
    "\n",
    "c    "
   ]
  },
  {
   "cell_type": "code",
   "execution_count": 32,
   "id": "10de0a4e",
   "metadata": {},
   "outputs": [
    {
     "data": {
      "text/plain": [
       "[]"
      ]
     },
     "execution_count": 32,
     "metadata": {},
     "output_type": "execute_result"
    }
   ],
   "source": [
    "g"
   ]
  },
  {
   "cell_type": "code",
   "execution_count": 18,
   "id": "30c9f65e",
   "metadata": {},
   "outputs": [
    {
     "data": {
      "text/plain": [
       "'pmys a si raknapeed'"
      ]
     },
     "execution_count": 18,
     "metadata": {},
     "output_type": "execute_result"
    }
   ],
   "source": [
    "s = \"deepankar is a symp\"\n",
    "s[::-1]"
   ]
  },
  {
   "cell_type": "code",
   "execution_count": 19,
   "id": "e56c109f",
   "metadata": {},
   "outputs": [],
   "source": [
    "s = \"deepankar is a symp\"\n",
    "z = s[::-1]\n"
   ]
  },
  {
   "cell_type": "code",
   "execution_count": 20,
   "id": "be2633b3",
   "metadata": {},
   "outputs": [
    {
     "data": {
      "text/plain": [
       "['pmys', 'a', 'si', 'raknapeed']"
      ]
     },
     "execution_count": 20,
     "metadata": {},
     "output_type": "execute_result"
    }
   ],
   "source": [
    "h = z.split()\n",
    "h"
   ]
  },
  {
   "cell_type": "code",
   "execution_count": 27,
   "id": "008426d6",
   "metadata": {},
   "outputs": [],
   "source": [
    "o =[]\n",
    "for i in h[::-1]:\n",
    "    o.append(i)\n",
    "    "
   ]
  },
  {
   "cell_type": "code",
   "execution_count": 28,
   "id": "6af56347",
   "metadata": {},
   "outputs": [
    {
     "data": {
      "text/plain": [
       "['raknapeed', 'si', 'a', 'pmys']"
      ]
     },
     "execution_count": 28,
     "metadata": {},
     "output_type": "execute_result"
    }
   ],
   "source": [
    "o"
   ]
  },
  {
   "cell_type": "code",
   "execution_count": 4,
   "id": "055be66e",
   "metadata": {},
   "outputs": [
    {
     "ename": "NameError",
     "evalue": "name 'o' is not defined",
     "output_type": "error",
     "traceback": [
      "\u001b[1;31m---------------------------------------------------------------------------\u001b[0m",
      "\u001b[1;31mNameError\u001b[0m                                 Traceback (most recent call last)",
      "\u001b[1;32m~\\AppData\\Local\\Temp\\ipykernel_12436\\3766543612.py\u001b[0m in \u001b[0;36m<module>\u001b[1;34m\u001b[0m\n\u001b[1;32m----> 1\u001b[1;33m \u001b[0mf\u001b[0m \u001b[1;33m=\u001b[0m \u001b[1;34m' '\u001b[0m\u001b[1;33m.\u001b[0m\u001b[0mjoin\u001b[0m\u001b[1;33m(\u001b[0m\u001b[0mo\u001b[0m\u001b[1;33m)\u001b[0m\u001b[1;33m\u001b[0m\u001b[1;33m\u001b[0m\u001b[0m\n\u001b[0m",
      "\u001b[1;31mNameError\u001b[0m: name 'o' is not defined"
     ]
    }
   ],
   "source": [
    "f = ' '.join(o)"
   ]
  },
  {
   "cell_type": "code",
   "execution_count": 5,
   "id": "f4142d8d",
   "metadata": {},
   "outputs": [
    {
     "ename": "NameError",
     "evalue": "name 'f' is not defined",
     "output_type": "error",
     "traceback": [
      "\u001b[1;31m---------------------------------------------------------------------------\u001b[0m",
      "\u001b[1;31mNameError\u001b[0m                                 Traceback (most recent call last)",
      "\u001b[1;32m~\\AppData\\Local\\Temp\\ipykernel_12436\\4058002314.py\u001b[0m in \u001b[0;36m<module>\u001b[1;34m\u001b[0m\n\u001b[1;32m----> 1\u001b[1;33m \u001b[0mf\u001b[0m\u001b[1;33m\u001b[0m\u001b[1;33m\u001b[0m\u001b[0m\n\u001b[0m",
      "\u001b[1;31mNameError\u001b[0m: name 'f' is not defined"
     ]
    }
   ],
   "source": [
    "f"
   ]
  },
  {
   "cell_type": "code",
   "execution_count": 6,
   "id": "4e441f28",
   "metadata": {},
   "outputs": [
    {
     "data": {
      "text/plain": [
       "'Durga'"
      ]
     },
     "execution_count": 6,
     "metadata": {},
     "output_type": "execute_result"
    }
   ],
   "source": [
    "s = 'agruD'\n",
    "s[-1:-6:-1]\n",
    "# dont consider sign when lower to higher"
   ]
  },
  {
   "cell_type": "code",
   "execution_count": 25,
   "id": "2728e4c4",
   "metadata": {},
   "outputs": [
    {
     "name": "stdout",
     "output_type": "stream",
     "text": [
      "d\n",
      "e\n",
      "a\n",
      "k\n",
      "r\n",
      "p\n",
      "w\n",
      "r\n"
     ]
    }
   ],
   "source": [
    "# Python program to print even length words in a string\n",
    "\n",
    "a = \"deepankar pawar\"\n",
    "b = []\n",
    "for i in a:\n",
    "#     print(i, end = ' ')\n",
    "    b.append(i)\n",
    "b\n",
    "\n",
    "for i in b[::2]:\n",
    "    print(i)\n",
    "    \n",
    "    "
   ]
  },
  {
   "cell_type": "code",
   "execution_count": 10,
   "id": "c09c6090",
   "metadata": {},
   "outputs": [
    {
     "name": "stdout",
     "output_type": "stream",
     "text": [
      "Enter a string :deep\n",
      "DEEp\n"
     ]
    }
   ],
   "source": [
    "# Python – Uppercase Half String\n",
    "c = ''\n",
    "def func(a):\n",
    "    \n",
    "    for i in range(len(a)):\n",
    "        if i <= len(a)//2:\n",
    "            b = a[i].upper()\n",
    "            c += b\n",
    "        else:\n",
    "            c += a[i]\n",
    "#     return c\n",
    "\n",
    "inp = input(\"Enter a string :\")\n",
    "func(inp)\n",
    "print(c)\n",
    "\n",
    "# if we don't return anything it will print none\n",
    "# if we return anything it will come in the place of func(inp)\n",
    "# if we don't want to return we have to print it explicitly "
   ]
  },
  {
   "cell_type": "code",
   "execution_count": 11,
   "id": "f3067672",
   "metadata": {},
   "outputs": [
    {
     "name": "stdout",
     "output_type": "stream",
     "text": [
      "Enter a string :deepankar\n",
      "DEEPAnkar\n"
     ]
    }
   ],
   "source": [
    "c = ''\n",
    "def func(a):\n",
    "    global c\n",
    "    for i in range(len(a)):\n",
    "        if i <= len(a)//2:\n",
    "            b = a[i].upper()\n",
    "            c += b\n",
    "        else:\n",
    "            c += a[i]\n",
    "#     return c\n",
    "\n",
    "inp = input(\"Enter a string :\")\n",
    "func(inp)\n",
    "print(c)"
   ]
  },
  {
   "cell_type": "code",
   "execution_count": null,
   "id": "ba489113",
   "metadata": {},
   "outputs": [],
   "source": []
  },
  {
   "cell_type": "code",
   "execution_count": null,
   "id": "c5dc9401",
   "metadata": {},
   "outputs": [],
   "source": []
  },
  {
   "cell_type": "markdown",
   "id": "144fcfb5",
   "metadata": {},
   "source": [
    "#### "
   ]
  },
  {
   "cell_type": "code",
   "execution_count": 24,
   "id": "f07dcdfe",
   "metadata": {},
   "outputs": [
    {
     "data": {
      "text/plain": [
       "'d'"
      ]
     },
     "execution_count": 24,
     "metadata": {},
     "output_type": "execute_result"
    }
   ],
   "source": [
    "a = \"deepankarpawar\"\n",
    "a[0]\n",
    "# len(a)\n",
    "# # b = (len(a)-1)/2\n",
    "# # b\n",
    "# a.index('d')"
   ]
  },
  {
   "cell_type": "code",
   "execution_count": 111,
   "id": "f1e656b4",
   "metadata": {},
   "outputs": [
    {
     "data": {
      "text/plain": [
       "'1 2 3'"
      ]
     },
     "execution_count": 111,
     "metadata": {},
     "output_type": "execute_result"
    }
   ],
   "source": [
    "a = [1,'2','3']\n",
    "b = \" \".join(a)\n",
    "b\n",
    "# b = a.index('2')"
   ]
  },
  {
   "cell_type": "code",
   "execution_count": 109,
   "id": "bcb197eb",
   "metadata": {},
   "outputs": [
    {
     "data": {
      "text/plain": [
       "1"
      ]
     },
     "execution_count": 109,
     "metadata": {},
     "output_type": "execute_result"
    }
   ],
   "source": [
    "b"
   ]
  },
  {
   "cell_type": "code",
   "execution_count": 104,
   "id": "0359bc52",
   "metadata": {},
   "outputs": [
    {
     "name": "stdout",
     "output_type": "stream",
     "text": [
      "RAKNAPEED SAH A CITETAHTAPMYS WEIV "
     ]
    }
   ],
   "source": [
    "# reverse the string without changing the order\n",
    "\n",
    "st = \"DEEPANKAR HAS A SYMPATHATETIC VIEW\"\n",
    "a = st.split()\n",
    "for i in a:\n",
    "    print(\"\".join(reversed(i)), end = \" \")\n",
    "    \n",
    "    "
   ]
  },
  {
   "cell_type": "code",
   "execution_count": 117,
   "id": "a430c535",
   "metadata": {},
   "outputs": [
    {
     "data": {
      "text/plain": [
       "'fc'"
      ]
     },
     "execution_count": 117,
     "metadata": {},
     "output_type": "execute_result"
    }
   ],
   "source": [
    "a = 'f'\n",
    "b = 'c'\n",
    "z = a+b\n",
    "z"
   ]
  },
  {
   "cell_type": "markdown",
   "id": "473e4e16",
   "metadata": {},
   "source": [
    "## DICTIONARY"
   ]
  },
  {
   "cell_type": "markdown",
   "id": "70058f99",
   "metadata": {},
   "source": [
    "#### indexing and slicing concepts are not applicable\n"
   ]
  },
  {
   "cell_type": "code",
   "execution_count": null,
   "id": "57daff23",
   "metadata": {},
   "outputs": [],
   "source": [
    "#  Write a Program to take Dictionary from the Keyboard\n",
    "#  and print the Sum of Values?"
   ]
  },
  {
   "cell_type": "code",
   "execution_count": 35,
   "id": "20d9dd5e",
   "metadata": {},
   "outputs": [
    {
     "name": "stdout",
     "output_type": "stream",
     "text": [
      "key :123\n"
     ]
    }
   ],
   "source": [
    "a = {}\n",
    "y = int(input(\"key :\"))\n",
    "\n"
   ]
  },
  {
   "cell_type": "code",
   "execution_count": 36,
   "id": "cb457cf7",
   "metadata": {},
   "outputs": [
    {
     "name": "stdout",
     "output_type": "stream",
     "text": [
      "Give value :INDIA\n"
     ]
    }
   ],
   "source": [
    "z = input(\"Give value :\")"
   ]
  },
  {
   "cell_type": "code",
   "execution_count": 37,
   "id": "d41d2cd2",
   "metadata": {},
   "outputs": [],
   "source": [
    "# a[key]=value\n",
    "a[y]=z"
   ]
  },
  {
   "cell_type": "code",
   "execution_count": 38,
   "id": "a1c1c2da",
   "metadata": {},
   "outputs": [
    {
     "data": {
      "text/plain": [
       "{123: 'INDIA'}"
      ]
     },
     "execution_count": 38,
     "metadata": {},
     "output_type": "execute_result"
    }
   ],
   "source": [
    "a"
   ]
  },
  {
   "cell_type": "code",
   "execution_count": 39,
   "id": "2a443673",
   "metadata": {},
   "outputs": [
    {
     "data": {
      "text/plain": [
       "'INDIA'"
      ]
     },
     "execution_count": 39,
     "metadata": {},
     "output_type": "execute_result"
    }
   ],
   "source": [
    "a[123]"
   ]
  },
  {
   "cell_type": "code",
   "execution_count": null,
   "id": "74a9a4cd",
   "metadata": {},
   "outputs": [],
   "source": []
  },
  {
   "cell_type": "code",
   "execution_count": 10,
   "id": "bc312c96",
   "metadata": {},
   "outputs": [
    {
     "name": "stdout",
     "output_type": "stream",
     "text": [
      "berlin\n"
     ]
    }
   ],
   "source": [
    "#  to check whether a value is present in dictionary or not\n",
    "if 1 in a:\n",
    "    print(a[1])"
   ]
  },
  {
   "cell_type": "code",
   "execution_count": 123,
   "id": "b2f2959e",
   "metadata": {},
   "outputs": [
    {
     "name": "stdout",
     "output_type": "stream",
     "text": [
      "{'zpple': 3, 'banana': 2, 'orange': 1}\n"
     ]
    }
   ],
   "source": [
    "my_dict = {\"zpple\": 3, \"banana\": 2, \"orange\": 1}\n",
    "print(my_dict)"
   ]
  },
  {
   "cell_type": "code",
   "execution_count": 134,
   "id": "7e31ff0b",
   "metadata": {},
   "outputs": [
    {
     "data": {
      "text/plain": [
       "[('zpple', 3), ('orange', 1), ('banana', 2)]"
      ]
     },
     "execution_count": 134,
     "metadata": {},
     "output_type": "execute_result"
    }
   ],
   "source": [
    "a= list(my_dict.items())\n",
    "b = sorted(a)\n",
    "b = sorted(a, reverse = True)\n",
    "b\n",
    "# dicti = dict(b)\n",
    "# dicti"
   ]
  },
  {
   "cell_type": "code",
   "execution_count": 150,
   "id": "aa99b00c",
   "metadata": {},
   "outputs": [
    {
     "data": {
      "text/plain": [
       "[(1, 'ban'), (99, 'aus'), (3, 'ind')]"
      ]
     },
     "execution_count": 150,
     "metadata": {},
     "output_type": "execute_result"
    }
   ],
   "source": [
    "a = {3:'ind',99:'aus',1:'ban'}\n",
    "b = list(reversed(a.items()))\n",
    "b \n",
    "# b = sorted(a.items(), reverse = False)\n",
    "# b"
   ]
  },
  {
   "cell_type": "markdown",
   "id": "6dd327aa",
   "metadata": {},
   "source": [
    "#### Yes, dictionaries in Python are dynamic, which means you can add, remove, or modify key-value pairs in a dictionary after it has been created."
   ]
  },
  {
   "cell_type": "markdown",
   "id": "05b30f31",
   "metadata": {},
   "source": [
    "#### how to update dictionary ?\n",
    "\n",
    "If the key is not available then a new entry will be added to the dictionary with the \n",
    "specified key-value pair.\n",
    "\n",
    "If the key is already available then old value will be replaced with new value"
   ]
  },
  {
   "cell_type": "code",
   "execution_count": 8,
   "id": "042e84f0",
   "metadata": {},
   "outputs": [
    {
     "data": {
      "text/plain": [
       "{'apple': 67, 'banana': 2, 'orange': 1}"
      ]
     },
     "execution_count": 8,
     "metadata": {},
     "output_type": "execute_result"
    }
   ],
   "source": [
    "d = {\"apple\": 3, \"banana\": 2, \"orange\": 1}\n",
    "d['apple'] = 67\n",
    "d\n"
   ]
  },
  {
   "cell_type": "markdown",
   "id": "5e870aea",
   "metadata": {},
   "source": [
    "####  how to delete"
   ]
  },
  {
   "cell_type": "code",
   "execution_count": 51,
   "id": "6ae35b3f",
   "metadata": {},
   "outputs": [],
   "source": [
    "d = {\"apple\": 3, \"banana\": 2, \"orange\": 1}\n",
    "# del d[key]\n",
    "del d['apple']\n",
    "# it deletes but does not return the value"
   ]
  },
  {
   "cell_type": "code",
   "execution_count": 52,
   "id": "15c69325",
   "metadata": {},
   "outputs": [
    {
     "data": {
      "text/plain": [
       "{'banana': 2, 'orange': 1}"
      ]
     },
     "execution_count": 52,
     "metadata": {},
     "output_type": "execute_result"
    }
   ],
   "source": [
    "d"
   ]
  },
  {
   "cell_type": "markdown",
   "id": "dd63f8bf",
   "metadata": {},
   "source": [
    "#### how to clear the dictionary\n",
    "<!-- dictionary.clear() -->\n",
    "\n",
    "\n",
    "\n",
    "\n",
    "\n"
   ]
  },
  {
   "cell_type": "code",
   "execution_count": 53,
   "id": "4b98d2f8",
   "metadata": {},
   "outputs": [
    {
     "data": {
      "text/plain": [
       "{}"
      ]
     },
     "execution_count": 53,
     "metadata": {},
     "output_type": "execute_result"
    }
   ],
   "source": [
    "d = {\"apple\": 3, \"banana\": 2, \"orange\": 1}\n",
    "d.clear()\n",
    "d"
   ]
  },
  {
   "cell_type": "code",
   "execution_count": 56,
   "id": "8aedee73",
   "metadata": {},
   "outputs": [
    {
     "ename": "NameError",
     "evalue": "name 'd' is not defined",
     "output_type": "error",
     "traceback": [
      "\u001b[1;31m---------------------------------------------------------------------------\u001b[0m",
      "\u001b[1;31mNameError\u001b[0m                                 Traceback (most recent call last)",
      "\u001b[1;32m~\\AppData\\Local\\Temp\\ipykernel_16208\\884624109.py\u001b[0m in \u001b[0;36m<module>\u001b[1;34m\u001b[0m\n\u001b[0;32m      1\u001b[0m \u001b[0md\u001b[0m \u001b[1;33m=\u001b[0m \u001b[1;33m{\u001b[0m\u001b[1;34m\"apple\"\u001b[0m\u001b[1;33m:\u001b[0m \u001b[1;36m3\u001b[0m\u001b[1;33m,\u001b[0m \u001b[1;34m\"banana\"\u001b[0m\u001b[1;33m:\u001b[0m \u001b[1;36m2\u001b[0m\u001b[1;33m,\u001b[0m \u001b[1;34m\"orange\"\u001b[0m\u001b[1;33m:\u001b[0m \u001b[1;36m1\u001b[0m\u001b[1;33m}\u001b[0m\u001b[1;33m\u001b[0m\u001b[1;33m\u001b[0m\u001b[0m\n\u001b[0;32m      2\u001b[0m \u001b[1;32mdel\u001b[0m \u001b[0md\u001b[0m\u001b[1;33m\u001b[0m\u001b[1;33m\u001b[0m\u001b[0m\n\u001b[1;32m----> 3\u001b[1;33m \u001b[0md\u001b[0m\u001b[1;33m\u001b[0m\u001b[1;33m\u001b[0m\u001b[0m\n\u001b[0m\u001b[0;32m      4\u001b[0m \u001b[1;33m\u001b[0m\u001b[0m\n\u001b[0;32m      5\u001b[0m \u001b[1;31m# the error is correct (d is not defined)\u001b[0m\u001b[1;33m\u001b[0m\u001b[1;33m\u001b[0m\u001b[0m\n",
      "\u001b[1;31mNameError\u001b[0m: name 'd' is not defined"
     ]
    }
   ],
   "source": [
    "d = {\"apple\": 3, \"banana\": 2, \"orange\": 1}\n",
    "del d\n",
    "d\n",
    "\n",
    "# the error is correct (d is not defined)"
   ]
  },
  {
   "cell_type": "code",
   "execution_count": 57,
   "id": "02fe63a9",
   "metadata": {},
   "outputs": [
    {
     "data": {
      "text/plain": [
       "3"
      ]
     },
     "execution_count": 57,
     "metadata": {},
     "output_type": "execute_result"
    }
   ],
   "source": [
    "d = {\"apple\": 3, \"banana\": 2, \"orange\": 1}\n",
    "d.get('apple')"
   ]
  },
  {
   "cell_type": "code",
   "execution_count": 58,
   "id": "75221cfa",
   "metadata": {},
   "outputs": [
    {
     "name": "stdout",
     "output_type": "stream",
     "text": [
      "3\n"
     ]
    }
   ],
   "source": [
    " print(d.pop('apple')) \n",
    "# it delets but return the value"
   ]
  },
  {
   "cell_type": "code",
   "execution_count": 25,
   "id": "13d18f52",
   "metadata": {},
   "outputs": [
    {
     "name": "stdout",
     "output_type": "stream",
     "text": [
      "('orange', 1)\n"
     ]
    }
   ],
   "source": [
    "print(d.popitem())"
   ]
  },
  {
   "cell_type": "code",
   "execution_count": 29,
   "id": "782d2676",
   "metadata": {},
   "outputs": [
    {
     "data": {
      "text/plain": [
       "dict_keys(['apple', 'banana', 'orange'])"
      ]
     },
     "execution_count": 29,
     "metadata": {},
     "output_type": "execute_result"
    }
   ],
   "source": [
    "d = {\"apple\": 3, \"banana\": 2, \"orange\": 1}\n",
    "d.keys()"
   ]
  },
  {
   "cell_type": "code",
   "execution_count": 32,
   "id": "fc169359",
   "metadata": {},
   "outputs": [
    {
     "name": "stdout",
     "output_type": "stream",
     "text": [
      "apple\n",
      "banana\n",
      "orange\n"
     ]
    }
   ],
   "source": [
    "for i in d.keys():\n",
    "    print(i)"
   ]
  },
  {
   "cell_type": "code",
   "execution_count": 30,
   "id": "d697fa2e",
   "metadata": {},
   "outputs": [
    {
     "data": {
      "text/plain": [
       "dict_values([3, 2, 1])"
      ]
     },
     "execution_count": 30,
     "metadata": {},
     "output_type": "execute_result"
    }
   ],
   "source": [
    "d.values()"
   ]
  },
  {
   "cell_type": "code",
   "execution_count": 33,
   "id": "36961ab3",
   "metadata": {},
   "outputs": [
    {
     "name": "stdout",
     "output_type": "stream",
     "text": [
      "3\n",
      "2\n",
      "1\n"
     ]
    }
   ],
   "source": [
    "for i in d.values():\n",
    "    print(i)"
   ]
  },
  {
   "cell_type": "code",
   "execution_count": 31,
   "id": "2215e1ea",
   "metadata": {},
   "outputs": [
    {
     "data": {
      "text/plain": [
       "dict_items([('apple', 3), ('banana', 2), ('orange', 1)])"
      ]
     },
     "execution_count": 31,
     "metadata": {},
     "output_type": "execute_result"
    }
   ],
   "source": [
    "d.items()"
   ]
  },
  {
   "cell_type": "code",
   "execution_count": 34,
   "id": "533babfb",
   "metadata": {},
   "outputs": [
    {
     "name": "stdout",
     "output_type": "stream",
     "text": [
      "('apple', 3)\n",
      "('banana', 2)\n",
      "('orange', 1)\n"
     ]
    }
   ],
   "source": [
    "for i in d.items():\n",
    "    print(i)"
   ]
  },
  {
   "cell_type": "code",
   "execution_count": null,
   "id": "ab1af8bc",
   "metadata": {},
   "outputs": [],
   "source": [
    "#  Write a Program to Enter Name and Percentage Marks\n",
    "#  in a Dictionary and Display Information on the Screen"
   ]
  },
  {
   "cell_type": "code",
   "execution_count": null,
   "id": "26b788a2",
   "metadata": {},
   "outputs": [
    {
     "name": "stdout",
     "output_type": "stream",
     "text": [
      "Enter a Name :deep\n",
      "Enter the Percentage :67.89\n",
      "do you want to continue adding true\n"
     ]
    }
   ],
   "source": [
    "# s = 1\n",
    "\n",
    "a = dict()\n",
    "while True:\n",
    "    name = input(\"Enter a Name :\")\n",
    "    percent = float(input(\"Enter the Percentage :\"))\n",
    "    a[name]=percent\n",
    "    z = input(\"do you want to continue adding \")\n",
    "    if z.lower() =='false' :\n",
    "        break\n",
    "        \n",
    "        \n"
   ]
  },
  {
   "cell_type": "code",
   "execution_count": null,
   "id": "102ef553",
   "metadata": {},
   "outputs": [],
   "source": [
    "rec={}\n",
    "inpt = int(input(\"Enter a number of students \"))\n",
    "i = 1\n",
    "while i<=inpt:\n",
    "    a = input(\"Enter the name :\")\n",
    "    b = input('Enter the percentage :\")\n",
    "    rec[a]=b\n",
    "    i+=1\n",
    "\n",
    "\n",
    "print(\"key\"'\\t',x,\"value\",b)\n",
    "    \n",
    "    \n",
    "    \n",
    "    \n",
    "    \n",
    "    "
   ]
  },
  {
   "cell_type": "code",
   "execution_count": null,
   "id": "1d4ca22f",
   "metadata": {},
   "outputs": [],
   "source": []
  }
 ],
 "metadata": {
  "kernelspec": {
   "display_name": "Python 3 (ipykernel)",
   "language": "python",
   "name": "python3"
  },
  "language_info": {
   "codemirror_mode": {
    "name": "ipython",
    "version": 3
   },
   "file_extension": ".py",
   "mimetype": "text/x-python",
   "name": "python",
   "nbconvert_exporter": "python",
   "pygments_lexer": "ipython3",
   "version": "3.9.13"
  }
 },
 "nbformat": 4,
 "nbformat_minor": 5
}
