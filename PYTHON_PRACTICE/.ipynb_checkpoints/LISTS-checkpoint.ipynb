{
 "cells": [
  {
   "cell_type": "code",
   "execution_count": 16,
   "id": "b58b02bd",
   "metadata": {},
   "outputs": [],
   "source": [
    "# python program to swap elements in a string list\n",
    "\n",
    "a = ['one','two','three','four']"
   ]
  },
  {
   "cell_type": "code",
   "execution_count": 17,
   "id": "d3b2fc10",
   "metadata": {},
   "outputs": [
    {
     "name": "stdout",
     "output_type": "stream",
     "text": [
      "The original list is :  ['Gfg', 'is', 'best', 'for', 'Geeks']\n"
     ]
    }
   ],
   "source": [
    "test_list = ['Gfg', 'is', 'best', 'for', 'Geeks']\n",
    " \n",
    "# printing original lists\n",
    "print(\"The original list is : \" ,str(test_list))"
   ]
  },
  {
   "cell_type": "code",
   "execution_count": 7,
   "id": "8296ede5",
   "metadata": {},
   "outputs": [
    {
     "data": {
      "text/plain": [
       "'Dwertlkh;baf;hankar'"
      ]
     },
     "execution_count": 7,
     "metadata": {},
     "output_type": "execute_result"
    }
   ],
   "source": []
  },
  {
   "cell_type": "code",
   "execution_count": 10,
   "id": "d98f65bd",
   "metadata": {},
   "outputs": [
    {
     "name": "stdout",
     "output_type": "stream",
     "text": [
      "The original list : [['g', 'f', 'g'], ['i', 's'], ['b', 'e', 's', 't']]\n",
      "The String of list is :  ['gfg', 'is', 'best']\n"
     ]
    }
   ],
   "source": [
    "test_list = [[\"g\", \"f\", \"g\"], [\"i\", \"s\"], [\"b\", \"e\", \"s\", \"t\"]]\n",
    " \n",
    "\n",
    "print(\"The original list : \" + str(test_list))\n",
    "\n",
    "res = [''.join(ele) for ele in test_list]\n",
    " \n",
    "# printing result\n",
    "print(\"The String of list is : \" ,res)"
   ]
  },
  {
   "cell_type": "code",
   "execution_count": 12,
   "id": "0b49e47f",
   "metadata": {},
   "outputs": [
    {
     "name": "stdout",
     "output_type": "stream",
     "text": [
      "Original List: [4, 8, 2, 10, 15, 18]\n",
      "After Cloning: [8, 2]\n"
     ]
    }
   ],
   "source": [
    "def Cloning(li1):\n",
    "    li_copy = li1[1:3]\n",
    "    return li_copy\n",
    " \n",
    " \n",
    "# Driver Code\n",
    "li1 = [4, 8, 2, 10, 15, 18]\n",
    "li2 = Cloning(li1)\n",
    "print(\"Original List:\", li1)\n",
    "print(\"After Cloning:\", li2)"
   ]
  },
  {
   "cell_type": "code",
   "execution_count": 21,
   "id": "5d6a2e79",
   "metadata": {},
   "outputs": [
    {
     "name": "stdout",
     "output_type": "stream",
     "text": [
      "1 10\n",
      "2 20\n",
      "3 30\n"
     ]
    }
   ],
   "source": [
    "a = [1,2,3]\n",
    "b = [10,20,30]\n",
    "\n",
    "for i,j in zip(a,b):\n",
    "    print(i,j)"
   ]
  },
  {
   "cell_type": "code",
   "execution_count": 22,
   "id": "e525317d",
   "metadata": {},
   "outputs": [
    {
     "data": {
      "text/plain": [
       "[10, 20, 30]"
      ]
     },
     "execution_count": 22,
     "metadata": {},
     "output_type": "execute_result"
    }
   ],
   "source": [
    "b"
   ]
  },
  {
   "cell_type": "markdown",
   "id": "12089cef",
   "metadata": {},
   "source": [
    "### What is the difference between append and extend?\n",
    "\n",
    "a = [1,2,3]\n",
    "a.append(4)\n",
    "a #=> [1, 2, 3, 4]\n",
    "\n",
    "\n",
    "This also means appending a list adds that whole list as a single element, rather than appending each of its values.\n",
    "\n",
    "a.append([5,6])\n",
    "a #=> [1, 2, 3, 4, [5, 6]]\n",
    "\n",
    "\n",
    ".extend() adds each value from a 2nd list as its own element. So extending a list with another list combines their values.\n",
    "\n",
    "b = [1,2,3]\n",
    "\n",
    "b.extend([5,6])\n",
    "\n",
    "\n",
    "b #=> [1, 2, 3, 5, 6]\n"
   ]
  },
  {
   "cell_type": "code",
   "execution_count": 27,
   "id": "c20f06bb",
   "metadata": {},
   "outputs": [],
   "source": [
    "a = []\n",
    "a.extend([9,8,9])"
   ]
  },
  {
   "cell_type": "code",
   "execution_count": 28,
   "id": "f1a07921",
   "metadata": {},
   "outputs": [
    {
     "data": {
      "text/plain": [
       "[9, 8, 9]"
      ]
     },
     "execution_count": 28,
     "metadata": {},
     "output_type": "execute_result"
    }
   ],
   "source": [
    "a"
   ]
  },
  {
   "cell_type": "code",
   "execution_count": 29,
   "id": "85a13544",
   "metadata": {},
   "outputs": [],
   "source": [
    "del a[0]"
   ]
  },
  {
   "cell_type": "code",
   "execution_count": 30,
   "id": "eb6b97ee",
   "metadata": {},
   "outputs": [
    {
     "data": {
      "text/plain": [
       "[8, 9]"
      ]
     },
     "execution_count": 30,
     "metadata": {},
     "output_type": "execute_result"
    }
   ],
   "source": [
    "a"
   ]
  },
  {
   "cell_type": "code",
   "execution_count": 46,
   "id": "acc067d1",
   "metadata": {},
   "outputs": [],
   "source": [
    "# remove the dublicates form the list without using set\n",
    "\n",
    "a = [1,1,2,3,5,6,6]\n",
    "for i in range(0,len(a)):\n",
    "    for j in range(0,len(a)):\n",
    "        try:\n",
    "            if a[i]==a[j+1]:\n",
    "                 a.remove(a[j+1])\n",
    "        except IndexError:\n",
    "            pass\n",
    "   "
   ]
  },
  {
   "cell_type": "code",
   "execution_count": 47,
   "id": "d8ef9fe0",
   "metadata": {},
   "outputs": [
    {
     "data": {
      "text/plain": [
       "1"
      ]
     },
     "execution_count": 47,
     "metadata": {},
     "output_type": "execute_result"
    }
   ],
   "source": [
    "a[0]"
   ]
  },
  {
   "cell_type": "code",
   "execution_count": 48,
   "id": "7597eed3",
   "metadata": {},
   "outputs": [
    {
     "data": {
      "text/plain": [
       "3"
      ]
     },
     "execution_count": 48,
     "metadata": {},
     "output_type": "execute_result"
    }
   ],
   "source": [
    "a[1]"
   ]
  },
  {
   "cell_type": "code",
   "execution_count": 45,
   "id": "9cdd68b8",
   "metadata": {},
   "outputs": [
    {
     "data": {
      "text/plain": [
       "[1, 3, 6]"
      ]
     },
     "execution_count": 45,
     "metadata": {},
     "output_type": "execute_result"
    }
   ],
   "source": [
    "a"
   ]
  },
  {
   "cell_type": "code",
   "execution_count": 50,
   "id": "7d6c30a3",
   "metadata": {},
   "outputs": [
    {
     "data": {
      "text/plain": [
       "[1, 2, 3, [6, 90]]"
      ]
     },
     "execution_count": 50,
     "metadata": {},
     "output_type": "execute_result"
    }
   ],
   "source": [
    "a = [1,2,3]\n",
    "b = [6,90]\n",
    "a.append(b)\n",
    "a"
   ]
  },
  {
   "cell_type": "code",
   "execution_count": 52,
   "id": "0e35559c",
   "metadata": {},
   "outputs": [],
   "source": [
    "a = 'i'\n",
    "if a not in \"aeiou\":\n",
    "    print(a)"
   ]
  },
  {
   "cell_type": "code",
   "execution_count": 53,
   "id": "22198ea1",
   "metadata": {},
   "outputs": [
    {
     "name": "stdout",
     "output_type": "stream",
     "text": [
      "789 3\n"
     ]
    }
   ],
   "source": [
    "a = [12,30,56,789]\n",
    "b = a[0]\n",
    "index = 0\n",
    "for i,j in enumerate(a):\n",
    "#     print(i,j)\n",
    "    if j>b:\n",
    "        b=j\n",
    "        index = i\n",
    "        \n",
    "print(b,i)"
   ]
  },
  {
   "cell_type": "code",
   "execution_count": null,
   "id": "8646e0e4",
   "metadata": {},
   "outputs": [],
   "source": []
  }
 ],
 "metadata": {
  "kernelspec": {
   "display_name": "Python 3 (ipykernel)",
   "language": "python",
   "name": "python3"
  },
  "language_info": {
   "codemirror_mode": {
    "name": "ipython",
    "version": 3
   },
   "file_extension": ".py",
   "mimetype": "text/x-python",
   "name": "python",
   "nbconvert_exporter": "python",
   "pygments_lexer": "ipython3",
   "version": "3.9.13"
  }
 },
 "nbformat": 4,
 "nbformat_minor": 5
}
