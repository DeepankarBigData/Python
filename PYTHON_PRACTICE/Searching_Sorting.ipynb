{
 "cells": [
  {
   "cell_type": "markdown",
   "id": "248ca98e",
   "metadata": {},
   "source": [
    "### LINEAR SEARCH / SEQUENTIAL SEARCH"
   ]
  },
  {
   "cell_type": "code",
   "execution_count": 2,
   "id": "0fbe5aa7",
   "metadata": {},
   "outputs": [
    {
     "name": "stdout",
     "output_type": "stream",
     "text": [
      "Enter a Number 89\n",
      "Oops, your item seems not to be in the bag\n"
     ]
    }
   ],
   "source": [
    "def linear_search(item, my_list):\n",
    "    for i, el in enumerate(my_list):\n",
    "        if el == item:\n",
    "            return (True, i)\n",
    "    return (False, -1)\n",
    "\n",
    "bag = [5,6,78,9,2,34,67]\n",
    "item = int(input('Enter a Number '))\n",
    "\n",
    "found, index = linear_search(item, bag)\n",
    "if found:\n",
    "    print('\\nThe item exists.')\n",
    "    print(f\"Index is {index} and item is {item}\")\n",
    "else:\n",
    "    print('Oops, your item seems not to be in the bag')\n"
   ]
  },
  {
   "cell_type": "markdown",
   "id": "3ed3c138",
   "metadata": {},
   "source": [
    "### BINARY SEARCH"
   ]
  },
  {
   "cell_type": "code",
   "execution_count": 4,
   "id": "e11761ca",
   "metadata": {},
   "outputs": [
    {
     "data": {
      "text/plain": [
       "5"
      ]
     },
     "execution_count": 4,
     "metadata": {},
     "output_type": "execute_result"
    }
   ],
   "source": [
    "def binary_search(arr,left,right,n):\n",
    "    while left<=right:\n",
    "        mid = (left+right)//2\n",
    "       \n",
    "        if n == arr[mid]:\n",
    "            return mid\n",
    "        \n",
    "        elif n < arr[mid]:\n",
    "            right=mid-1\n",
    "            \n",
    "        elif n > arr[mid]:\n",
    "            left=mid+1\n",
    "        \n",
    "    else:\n",
    "        return -1\n",
    "\n",
    "list = [1,2,3,4,5,6]\n",
    "binary_search(list,0,len(list)-1,6)"
   ]
  },
  {
   "cell_type": "code",
   "execution_count": 8,
   "id": "9b39ccdb",
   "metadata": {},
   "outputs": [
    {
     "data": {
      "text/plain": [
       "12"
      ]
     },
     "execution_count": 8,
     "metadata": {},
     "output_type": "execute_result"
    }
   ],
   "source": [
    "left = 10\n",
    "right = 4    \n",
    "mid = left+right//2\n",
    "mid"
   ]
  },
  {
   "cell_type": "code",
   "execution_count": 9,
   "id": "970dbd4e",
   "metadata": {},
   "outputs": [
    {
     "data": {
      "text/plain": [
       "7"
      ]
     },
     "execution_count": 9,
     "metadata": {},
     "output_type": "execute_result"
    }
   ],
   "source": [
    "left = 10\n",
    "right = 4    \n",
    "mid = (left+right)//2\n",
    "mid"
   ]
  },
  {
   "cell_type": "markdown",
   "id": "4897999a",
   "metadata": {},
   "source": [
    "### BINARY SEARCH USING RECURSION / NOT SUGGESTED"
   ]
  },
  {
   "cell_type": "code",
   "execution_count": 14,
   "id": "6d0f685a",
   "metadata": {},
   "outputs": [
    {
     "name": "stdout",
     "output_type": "stream",
     "text": [
      "element found at index 3\n"
     ]
    }
   ],
   "source": [
    "def binary_search(arr,low,high,n):\n",
    "    if low<=high:\n",
    "        mid=(high+low)//2\n",
    "        \n",
    "        if arr[mid]==n:\n",
    "            return mid\n",
    "\n",
    "        elif n < arr[mid]:\n",
    "            return binary_search(arr,low,mid-1,n)\n",
    "        elif n > arr[mid]:\n",
    "            return binary_search(arr,mid+1,high,n)\n",
    "    else:\n",
    "        return -1\n",
    "    \n",
    "    \n",
    "\n",
    "array = [12,16,18,22,25]\n",
    "n = int(input(\"enter an element \"))\n",
    "a = binary_search(array,0,len(array)-1,22)\n",
    "\n",
    "if a != -1:\n",
    "    print(\"element found at index\",a)\n",
    "else:\n",
    "    print(\"no element found\")"
   ]
  },
  {
   "cell_type": "markdown",
   "id": "e63c897e",
   "metadata": {},
   "source": [
    "### INSERTION SORT"
   ]
  },
  {
   "cell_type": "code",
   "execution_count": 13,
   "id": "8a2f629a",
   "metadata": {},
   "outputs": [
    {
     "name": "stdout",
     "output_type": "stream",
     "text": [
      "the j is  2\n",
      "the j is  3\n",
      "Sorted Array in Ascending Order:\n",
      "[9, 5, 4, 3, 1]\n"
     ]
    }
   ],
   "source": [
    "# Insertion sort in Python\n",
    "\n",
    "\n",
    "def insertionSort(array):\n",
    "\n",
    "    for step in range(1, len(array)):\n",
    "        key = array[step]\n",
    "        j = step - 1\n",
    "        \n",
    "        # Compare key with each element on the left of it until an element smaller than it is found\n",
    "        # For descending order, change key<array[j] to key>array[j].        \n",
    "        while j >= 0 and key > array[j]:\n",
    "            array[j + 1] = array[j]\n",
    "            print(\"the j is \",j)\n",
    "            j = j - 1\n",
    "\n",
    "        \n",
    "        # Place key at after the element just smaller than it.\n",
    "        array[j + 1] = key\n",
    "\n",
    "\n",
    "data = [9, 5, 1, 4, 3]\n",
    "insertionSort(data)\n",
    "print('Sorted Array in Ascending Order:')\n",
    "print(data)"
   ]
  },
  {
   "cell_type": "markdown",
   "id": "34c7940c",
   "metadata": {},
   "source": [
    "### SELECTION SORT"
   ]
  },
  {
   "cell_type": "code",
   "execution_count": 17,
   "id": "023cfde7",
   "metadata": {},
   "outputs": [
    {
     "name": "stdout",
     "output_type": "stream",
     "text": [
      "[1, 5, 9, 4, 3]\n",
      "[1, 3, 9, 4, 5]\n",
      "[1, 3, 4, 9, 5]\n",
      "[1, 3, 4, 5, 9]\n",
      "[1, 3, 4, 5, 9]\n",
      "Sorted Array in Ascending Order:\n",
      "[1, 3, 4, 5, 9]\n"
     ]
    }
   ],
   "source": [
    "# Selection sort in Python\n",
    "\n",
    "\n",
    "def selectionSort(array, size):\n",
    "   \n",
    "    for step in range(size):\n",
    "        min_idx = step\n",
    "\n",
    "        for i in range(step + 1, size):\n",
    "         \n",
    "            # to sort in descending order, change > to < in this line\n",
    "            # select the minimum element in each loop\n",
    "            if array[i] < array[min_idx]:\n",
    "                min_idx = i\n",
    "         \n",
    "        # put min at the correct position\n",
    "        (array[step], array[min_idx]) = (array[min_idx], array[step])\n",
    "        print(array)\n",
    "\n",
    "data = [9,5,1,4,3]\n",
    "size = len(data)\n",
    "selectionSort(data, size)\n",
    "print('Sorted Array in Ascending Order:')\n",
    "print(data)"
   ]
  },
  {
   "cell_type": "markdown",
   "id": "1ef1cc36",
   "metadata": {},
   "source": [
    "### PRIME NUMBER RANGE"
   ]
  },
  {
   "cell_type": "code",
   "execution_count": null,
   "id": "f47a6a03",
   "metadata": {},
   "outputs": [],
   "source": [
    "for i in range(1,1000):\n",
    "    c = 0\n",
    "    for j in range(1,i+1):\n",
    "        if i%j==0:\n",
    "            c+=1\n",
    "    if c==2:\n",
    "        print(i,\"is prime number\")\n",
    "        "
   ]
  },
  {
   "cell_type": "code",
   "execution_count": 18,
   "id": "fefec70b",
   "metadata": {},
   "outputs": [
    {
     "name": "stdout",
     "output_type": "stream",
     "text": [
      "2\n"
     ]
    }
   ],
   "source": [
    "from math import floor\n",
    "\n",
    "print(floor(2.48))\n"
   ]
  },
  {
   "cell_type": "code",
   "execution_count": 19,
   "id": "014779b0",
   "metadata": {},
   "outputs": [
    {
     "name": "stdout",
     "output_type": "stream",
     "text": [
      "3\n"
     ]
    }
   ],
   "source": [
    "from math import ceil\n",
    "\n",
    "print(ceil(2.48))"
   ]
  },
  {
   "cell_type": "code",
   "execution_count": 20,
   "id": "c52c578d",
   "metadata": {},
   "outputs": [
    {
     "name": "stdout",
     "output_type": "stream",
     "text": [
      "0 5\n",
      "1 6\n",
      "2 78\n",
      "3 9\n",
      "4 2\n",
      "5 34\n",
      "6 67\n"
     ]
    }
   ],
   "source": [
    "for i , j in enumerate(bag):\n",
    "    print(i,j)"
   ]
  },
  {
   "cell_type": "markdown",
   "id": "fd47ee1c",
   "metadata": {},
   "source": [
    "### RECURSION FOR FACTORIAL"
   ]
  },
  {
   "cell_type": "code",
   "execution_count": 1,
   "id": "bc026e0d",
   "metadata": {},
   "outputs": [
    {
     "data": {
      "text/plain": [
       "120"
      ]
     },
     "execution_count": 1,
     "metadata": {},
     "output_type": "execute_result"
    }
   ],
   "source": [
    "def func(n):\n",
    "    if n==1:\n",
    "        return 1\n",
    "    else:\n",
    "        return n*func(n-1)\n",
    "    \n",
    "func(5)    "
   ]
  },
  {
   "cell_type": "code",
   "execution_count": 5,
   "id": "99f5ed79",
   "metadata": {},
   "outputs": [
    {
     "name": "stdout",
     "output_type": "stream",
     "text": [
      "[1, 2, 4, 5, 9]\n"
     ]
    }
   ],
   "source": [
    "def insertion_sort(arr):\n",
    "    for step in range(1,len(arr)):\n",
    "        key = arr[step]\n",
    "        j = step-1\n",
    "        \n",
    "        while j >= 0 and key < arr[j]:\n",
    "            arr[j+1]=arr[j]\n",
    "            j = j-1\n",
    "            \n",
    "        arr[j+1]=key\n",
    "        \n",
    "        \n",
    "        \n",
    "list = [9,4,5,1,2]\n",
    "insertion_sort(list)\n",
    "print(list)"
   ]
  },
  {
   "cell_type": "markdown",
   "id": "51eae534",
   "metadata": {},
   "source": [
    "### Stack"
   ]
  },
  {
   "cell_type": "code",
   "execution_count": 8,
   "id": "d72700ae",
   "metadata": {},
   "outputs": [
    {
     "data": {
      "text/plain": [
       "67"
      ]
     },
     "execution_count": 8,
     "metadata": {},
     "output_type": "execute_result"
    }
   ],
   "source": [
    "class stack:\n",
    "    def __init__(self):\n",
    "        self.items=[]\n",
    "    def is_empty(self):\n",
    "        return len(self.items)==0\n",
    "    def push(self,item):\n",
    "        self.items.append(item)\n",
    "        \n",
    "    def pop(self):\n",
    "        if self.is_empty():\n",
    "            print(\"stack is empty\")\n",
    "        else:\n",
    "            return self.items.pop()\n",
    "        \n",
    "    \n",
    "a = stack()\n",
    "a.push(67)\n",
    "a.pop()"
   ]
  },
  {
   "cell_type": "code",
   "execution_count": 5,
   "id": "3597622a",
   "metadata": {},
   "outputs": [
    {
     "data": {
      "text/plain": [
       "[67]"
      ]
     },
     "execution_count": 5,
     "metadata": {},
     "output_type": "execute_result"
    }
   ],
   "source": [
    "a.items"
   ]
  },
  {
   "cell_type": "markdown",
   "id": "577cf61a",
   "metadata": {},
   "source": [
    "binary_search"
   ]
  },
  {
   "cell_type": "code",
   "execution_count": 1,
   "id": "16fa13cc",
   "metadata": {},
   "outputs": [
    {
     "name": "stdout",
     "output_type": "stream",
     "text": [
      "Enter a Searching number from the list 89\n"
     ]
    },
    {
     "data": {
      "text/plain": [
       "4"
      ]
     },
     "execution_count": 1,
     "metadata": {},
     "output_type": "execute_result"
    }
   ],
   "source": []
  },
  {
   "cell_type": "code",
   "execution_count": 5,
   "id": "ef05546b",
   "metadata": {},
   "outputs": [],
   "source": [
    "left = 10\n",
    "right = 4    \n",
    "mid = left+right//2"
   ]
  },
  {
   "cell_type": "code",
   "execution_count": 6,
   "id": "94fd463f",
   "metadata": {},
   "outputs": [
    {
     "data": {
      "text/plain": [
       "12"
      ]
     },
     "execution_count": 6,
     "metadata": {},
     "output_type": "execute_result"
    }
   ],
   "source": [
    "mid\n"
   ]
  },
  {
   "cell_type": "code",
   "execution_count": null,
   "id": "b3a53f01",
   "metadata": {},
   "outputs": [],
   "source": []
  }
 ],
 "metadata": {
  "kernelspec": {
   "display_name": "Python 3 (ipykernel)",
   "language": "python",
   "name": "python3"
  },
  "language_info": {
   "codemirror_mode": {
    "name": "ipython",
    "version": 3
   },
   "file_extension": ".py",
   "mimetype": "text/x-python",
   "name": "python",
   "nbconvert_exporter": "python",
   "pygments_lexer": "ipython3",
   "version": "3.9.13"
  }
 },
 "nbformat": 4,
 "nbformat_minor": 5
}
