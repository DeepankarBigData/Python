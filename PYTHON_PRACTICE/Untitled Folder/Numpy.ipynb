{
 "cells": [
  {
   "cell_type": "markdown",
   "id": "143ce5fb",
   "metadata": {},
   "source": [
    "### what is Numpy array\n",
    "numpy stands for numeric python and it is a core library for numeric and scientific computing \n",
    "\n",
    "1*n one dimensional\n",
    "\n",
    "n*n multidimensional"
   ]
  },
  {
   "cell_type": "code",
   "execution_count": 1,
   "id": "c7b92f4f",
   "metadata": {},
   "outputs": [],
   "source": [
    "import numpy as np\n",
    "a = np.array([1,2,3,4])"
   ]
  },
  {
   "cell_type": "code",
   "execution_count": 3,
   "id": "a9d3a14e",
   "metadata": {},
   "outputs": [
    {
     "data": {
      "text/plain": [
       "numpy.ndarray"
      ]
     },
     "execution_count": 3,
     "metadata": {},
     "output_type": "execute_result"
    }
   ],
   "source": [
    "type(a)"
   ]
  },
  {
   "cell_type": "markdown",
   "id": "1c5e214b",
   "metadata": {},
   "source": [
    "n Python, ndarray stands for \"N-dimensional array\", which is a data structure used \n",
    "to store and manipulate multidimensional arrays of homogeneous data.\n",
    "\n",
    "ndarray is a fundamental object in the NumPy library, \n",
    "which is a powerful tool for scientific computing and data analysis in Python.\n",
    "It provides efficient algorithms for performing mathematical operations on large \n",
    "arrays and matrices of numerical data.\n",
    "\n",
    "An ndarray is a collection of elements of the same data type (e.g., integers, floats, etc.) \n",
    "arranged in a multidimensional grid. The number of dimensions and the size of each dimension\n",
    "are specified when the array is created, and each element in the array can be accessed using \n",
    "its index.\n",
    "\n",
    "ndarray is similar to a list in Python, but it is much more efficient for numerical computations\n",
    "involving large amounts of data. It also provides many built-in functions for manipulating and\n",
    "analyzing arrays, such as linear algebra operations, statistical functions, and image processing\n",
    "functions.\n",
    "\n",
    "\n",
    "\n",
    "\n",
    "\n"
   ]
  },
  {
   "cell_type": "code",
   "execution_count": 4,
   "id": "c71c5912",
   "metadata": {},
   "outputs": [],
   "source": [
    "ar = np.array([[1,2,3],[2,34,5]])"
   ]
  },
  {
   "cell_type": "code",
   "execution_count": 5,
   "id": "9c36dfcd",
   "metadata": {},
   "outputs": [
    {
     "data": {
      "text/plain": [
       "array([[ 1,  2,  3],\n",
       "       [ 2, 34,  5]])"
      ]
     },
     "execution_count": 5,
     "metadata": {},
     "output_type": "execute_result"
    }
   ],
   "source": [
    "ar"
   ]
  },
  {
   "cell_type": "code",
   "execution_count": null,
   "id": "bfcc3e06",
   "metadata": {},
   "outputs": [],
   "source": []
  },
  {
   "cell_type": "code",
   "execution_count": 6,
   "id": "67163e13",
   "metadata": {},
   "outputs": [
    {
     "data": {
      "text/plain": [
       "array([[0., 0., 0.],\n",
       "       [0., 0., 0.]])"
      ]
     },
     "execution_count": 6,
     "metadata": {},
     "output_type": "execute_result"
    }
   ],
   "source": [
    "n1 = np.zeros((2,3))\n",
    "n1"
   ]
  },
  {
   "cell_type": "code",
   "execution_count": 9,
   "id": "c6b30646",
   "metadata": {},
   "outputs": [
    {
     "name": "stdout",
     "output_type": "stream",
     "text": [
      "[[5 5]\n",
      " [5 5]]\n"
     ]
    }
   ],
   "source": [
    "n1 = np.full((2,2),5)\n",
    "print(n1)"
   ]
  },
  {
   "cell_type": "code",
   "execution_count": 10,
   "id": "666de9e2",
   "metadata": {},
   "outputs": [
    {
     "data": {
      "text/plain": [
       "array([10, 15, 20, 25, 30, 35, 40, 45, 50])"
      ]
     },
     "execution_count": 10,
     "metadata": {},
     "output_type": "execute_result"
    }
   ],
   "source": [
    "n1 = np.arange(10,51,5)\n",
    "n1"
   ]
  },
  {
   "cell_type": "code",
   "execution_count": 12,
   "id": "ae34da54",
   "metadata": {},
   "outputs": [
    {
     "name": "stdout",
     "output_type": "stream",
     "text": [
      "<class 'numpy.ndarray'>\n",
      "[96 21 67 74 33 88 91 33 35 53]\n"
     ]
    }
   ],
   "source": [
    "n1 = np.random.randint(10,100,10)\n",
    "print(type(n1))\n",
    "print(n1)"
   ]
  },
  {
   "cell_type": "code",
   "execution_count": null,
   "id": "f20be767",
   "metadata": {},
   "outputs": [],
   "source": []
  },
  {
   "cell_type": "code",
   "execution_count": 13,
   "id": "d170fcdd",
   "metadata": {},
   "outputs": [
    {
     "data": {
      "text/plain": [
       "(10,)"
      ]
     },
     "execution_count": 13,
     "metadata": {},
     "output_type": "execute_result"
    }
   ],
   "source": [
    "n1.shape "
   ]
  },
  {
   "cell_type": "code",
   "execution_count": 14,
   "id": "522bdee5",
   "metadata": {},
   "outputs": [
    {
     "data": {
      "text/plain": [
       "(2, 3)"
      ]
     },
     "execution_count": 14,
     "metadata": {},
     "output_type": "execute_result"
    }
   ],
   "source": [
    "n1 = np.array([[1,2,3],[3,4,5]])\n",
    "n1.shape"
   ]
  },
  {
   "cell_type": "markdown",
   "id": "4f40f735",
   "metadata": {},
   "source": [
    "NumPy is faster than a list in many cases because of the\n",
    "way it handles data. NumPy arrays are designed to be homogeneous, \n",
    "meaning that all elements of the array are of the same type. \n",
    "This allows NumPy to optimize its operations for a specific data type, \n",
    "resulting in much faster computation times.\n",
    "\n",
    "In contrast to NumPy arrays, lists are not stored in contiguous blocks of memory. Instead, a list is a collection of pointers to objects, where each pointer points to the location of the corresponding object in memory. This means that accessing or manipulating elements in a list requires following a series of pointers, which can be slower than accessing elements in a NumPy array.\n",
    "\n",
    "\n",
    "So when we access the third element of the list using my_list[2], Python first looks up the memory location of the third element using the pointer stored in the list, and then follows that pointer to the actual memory location where the integer object is stored.\n",
    "\n",
    "This series of pointer dereferencing can add extra overhead when accessing elements in a list, especially for large lists or when many elements need to be accessed or manipulated. In contrast, NumPy arrays use contiguous blocks of memory, so accessing elements in an array can be faster since there is no need to follow a series of pointers\n",
    "\n",
    "n contrast, a list can contain elements of different data types, which makes it less efficient for certain types of computations. Additionally, NumPy arrays are stored in contiguous blocks of memory, which allows for faster access and manipulation of the data.\n",
    "\n",
    "Overall, the combination of homogeneous data, contiguous memory layout, and optimized functions makes NumPy faster than a list for numerical computations. However, for more general-purpose tasks that do not involve numerical computations, a list may be more suitable."
   ]
  },
  {
   "cell_type": "code",
   "execution_count": null,
   "id": "21fa9f05",
   "metadata": {},
   "outputs": [],
   "source": []
  },
  {
   "cell_type": "markdown",
   "id": "479e7852",
   "metadata": {},
   "source": [
    "#### PRACTICAL USE OF NUMPY ARRAY"
   ]
  },
  {
   "cell_type": "markdown",
   "id": "dbf3c803",
   "metadata": {},
   "source": [
    "Suppose you have a dataset containing the monthly sales data of a company for the past year, where each row represents a month and each column represents a product category. You want to perform the following tasks:\n",
    "\n",
    "Calculate the total sales for each product category.\n",
    "Find the month with the highest total sales.\n",
    "Compute the average sales for each month."
   ]
  },
  {
   "cell_type": "code",
   "execution_count": 15,
   "id": "41f5b620",
   "metadata": {},
   "outputs": [
    {
     "data": {
      "text/plain": [
       "array([[100., 200., 150., 250.],\n",
       "       [150., 250., 200., 300.],\n",
       "       [200., 300., 250., 350.],\n",
       "       [250., 350., 300., 400.],\n",
       "       [300., 400., 350., 450.],\n",
       "       [350., 450., 400., 500.],\n",
       "       [400., 500., 450., 550.],\n",
       "       [450., 550., 500., 600.],\n",
       "       [500., 600., 550., 650.],\n",
       "       [550., 650., 600., 700.],\n",
       "       [600., 700., 650., 750.],\n",
       "       [700., 800., 750., 850.],\n",
       "       [100., 200., 150., 250.],\n",
       "       [150., 250., 200., 300.],\n",
       "       [200., 300., 250., 350.],\n",
       "       [250., 350., 300., 400.],\n",
       "       [300., 400., 350., 450.],\n",
       "       [350., 450., 400., 500.],\n",
       "       [400., 500., 450., 550.],\n",
       "       [450., 550., 500., 600.],\n",
       "       [500., 600., 550., 650.],\n",
       "       [550., 650., 600., 700.],\n",
       "       [600., 700., 650., 750.],\n",
       "       [700., 800., 750., 850.],\n",
       "       [400., 500., 450., 550.],\n",
       "       [450., 550., 500., 600.],\n",
       "       [500., 600., 550., 650.],\n",
       "       [550., 650., 600., 700.],\n",
       "       [600., 700., 650., 750.],\n",
       "       [700., 800., 750., 850.],\n",
       "       [550., 650., 600., 700.],\n",
       "       [600., 700., 650., 750.],\n",
       "       [700., 800., 750., 850.]])"
      ]
     },
     "execution_count": 15,
     "metadata": {},
     "output_type": "execute_result"
    }
   ],
   "source": [
    "import numpy as np\n",
    "dat = np.loadtxt('C:/Users/pawar/Videos/data.txt',delimiter=',')\n",
    "dat"
   ]
  },
  {
   "cell_type": "code",
   "execution_count": 16,
   "id": "8ae31fa4",
   "metadata": {},
   "outputs": [
    {
     "data": {
      "text/plain": [
       "array([14150., 17450., 15800., 19100.])"
      ]
     },
     "execution_count": 16,
     "metadata": {},
     "output_type": "execute_result"
    }
   ],
   "source": [
    "a = np.sum(dat,axis=0)\n",
    "a"
   ]
  },
  {
   "cell_type": "markdown",
   "id": "9e3cf96d",
   "metadata": {},
   "source": [
    "#### axis = 0 meaning column || axis = 1 meaning row"
   ]
  },
  {
   "cell_type": "code",
   "execution_count": 17,
   "id": "bd4ec2ec",
   "metadata": {},
   "outputs": [],
   "source": [
    "avg_sales = np.mean(dat, axis=0)"
   ]
  },
  {
   "cell_type": "code",
   "execution_count": 18,
   "id": "1d81d4dc",
   "metadata": {},
   "outputs": [
    {
     "data": {
      "text/plain": [
       "array([428.78787879, 528.78787879, 478.78787879, 578.78787879])"
      ]
     },
     "execution_count": 18,
     "metadata": {},
     "output_type": "execute_result"
    }
   ],
   "source": [
    "avg_sales"
   ]
  },
  {
   "cell_type": "code",
   "execution_count": 19,
   "id": "56cb01d3",
   "metadata": {},
   "outputs": [
    {
     "data": {
      "text/plain": [
       "(33, 4)"
      ]
     },
     "execution_count": 19,
     "metadata": {},
     "output_type": "execute_result"
    }
   ],
   "source": [
    "dat.shape"
   ]
  },
  {
   "cell_type": "code",
   "execution_count": 22,
   "id": "b2a576e4",
   "metadata": {},
   "outputs": [],
   "source": [
    "max_sales_month = np.argmax(np.sum(dat, axis=1))"
   ]
  },
  {
   "cell_type": "code",
   "execution_count": 23,
   "id": "e507b302",
   "metadata": {},
   "outputs": [
    {
     "data": {
      "text/plain": [
       "11"
      ]
     },
     "execution_count": 23,
     "metadata": {},
     "output_type": "execute_result"
    }
   ],
   "source": [
    "max_sales_month"
   ]
  },
  {
   "cell_type": "code",
   "execution_count": 27,
   "id": "3f74f492",
   "metadata": {},
   "outputs": [],
   "source": [
    "a = dat[11]"
   ]
  },
  {
   "cell_type": "code",
   "execution_count": 28,
   "id": "d01c6bdc",
   "metadata": {},
   "outputs": [
    {
     "data": {
      "text/plain": [
       "array([700., 800., 750., 850.])"
      ]
     },
     "execution_count": 28,
     "metadata": {},
     "output_type": "execute_result"
    }
   ],
   "source": [
    "a"
   ]
  },
  {
   "cell_type": "code",
   "execution_count": 29,
   "id": "3e045dc2",
   "metadata": {},
   "outputs": [
    {
     "name": "stdout",
     "output_type": "stream",
     "text": [
      "[[  0. 100. 200. 150. 250.]\n",
      " [  1. 150. 250. 200. 300.]\n",
      " [  2. 200. 300. 250. 350.]\n",
      " [  3. 250. 350. 300. 400.]\n",
      " [  4. 300. 400. 350. 450.]\n",
      " [  5. 350. 450. 400. 500.]\n",
      " [  6. 400. 500. 450. 550.]\n",
      " [  7. 450. 550. 500. 600.]\n",
      " [  8. 500. 600. 550. 650.]\n",
      " [  9. 550. 650. 600. 700.]\n",
      " [ 10. 600. 700. 650. 750.]\n",
      " [ 11. 700. 800. 750. 850.]\n",
      " [ 12. 100. 200. 150. 250.]\n",
      " [ 13. 150. 250. 200. 300.]\n",
      " [ 14. 200. 300. 250. 350.]\n",
      " [ 15. 250. 350. 300. 400.]\n",
      " [ 16. 300. 400. 350. 450.]\n",
      " [ 17. 350. 450. 400. 500.]\n",
      " [ 18. 400. 500. 450. 550.]\n",
      " [ 19. 450. 550. 500. 600.]\n",
      " [ 20. 500. 600. 550. 650.]\n",
      " [ 21. 550. 650. 600. 700.]\n",
      " [ 22. 600. 700. 650. 750.]\n",
      " [ 23. 700. 800. 750. 850.]\n",
      " [ 24. 400. 500. 450. 550.]\n",
      " [ 25. 450. 550. 500. 600.]\n",
      " [ 26. 500. 600. 550. 650.]\n",
      " [ 27. 550. 650. 600. 700.]\n",
      " [ 28. 600. 700. 650. 750.]\n",
      " [ 29. 700. 800. 750. 850.]\n",
      " [ 30. 550. 650. 600. 700.]\n",
      " [ 31. 600. 700. 650. 750.]\n",
      " [ 32. 700. 800. 750. 850.]]\n"
     ]
    }
   ],
   "source": [
    "import numpy as np\n",
    "\n",
    "dat = np.loadtxt('C:/Users/pawar/Videos/data.txt', delimiter=',')\n",
    "\n",
    "# Create an index column using np.arange and reshape it to be a column vector\n",
    "index_col = np.arange(dat.shape[0]).reshape((-1, 1))\n",
    "\n",
    "# Concatenate the index column and the dat array along the second axis (axis=1)\n",
    "dat_with_index = np.concatenate((index_col, dat), axis=1)\n",
    "\n",
    "# Print the result\n",
    "print(dat_with_index)"
   ]
  },
  {
   "cell_type": "code",
   "execution_count": 46,
   "id": "197c143d",
   "metadata": {},
   "outputs": [
    {
     "data": {
      "text/plain": [
       "33"
      ]
     },
     "execution_count": 46,
     "metadata": {},
     "output_type": "execute_result"
    }
   ],
   "source": [
    "index_col = (dat.shape[0])\n",
    "index_col"
   ]
  },
  {
   "cell_type": "code",
   "execution_count": 47,
   "id": "0eb354f5",
   "metadata": {},
   "outputs": [
    {
     "name": "stdout",
     "output_type": "stream",
     "text": [
      "[ 0  1  2  3  4  5  6  7  8  9 10 11 12 13 14 15 16 17 18 19 20 21 22 23\n",
      " 24 25 26 27 28 29 30 31 32]\n"
     ]
    }
   ],
   "source": [
    "index = np.arange(index_col)\n",
    "print(index)"
   ]
  },
  {
   "cell_type": "markdown",
   "id": "3175e90f",
   "metadata": {},
   "source": [
    "dat.shape[0] returns the number of rows in the dat array, \n",
    "\n",
    "dat.shape[1] returns the number of columns in the dat array,"
   ]
  },
  {
   "cell_type": "code",
   "execution_count": 83,
   "id": "64e12e9f",
   "metadata": {},
   "outputs": [],
   "source": []
  },
  {
   "cell_type": "markdown",
   "id": "5b1384ba",
   "metadata": {},
   "source": [
    "#To stack these arrays vertically, we would use np.concatenate() with axis=0, like this:\n",
    "#To stack these arrays vertically, we would use np.concatenate() with axis=1, like this:\n",
    "\n",
    "When we say \"stacking arrays along the second axis\", we mean that we are concatenating the arrays horizontally, such that the columns of one array\n",
    "are appended to the right of the columns of another array. \n",
    "In other words, we are stacking the arrays \"side by side\"."
   ]
  },
  {
   "cell_type": "code",
   "execution_count": 88,
   "id": "5ba50822",
   "metadata": {},
   "outputs": [
    {
     "data": {
      "text/plain": [
       "array([[ 1,  2,  3],\n",
       "       [ 4,  5,  6],\n",
       "       [ 7,  8,  9],\n",
       "       [10, 11, 12]])"
      ]
     },
     "execution_count": 88,
     "metadata": {},
     "output_type": "execute_result"
    }
   ],
   "source": [
    "# stack vertically\n",
    "\n",
    "import numpy as np\n",
    "\n",
    "a = np.array([[1, 2, 3], [4, 5, 6]])\n",
    "b = np.array([[7, 8, 9], [10, 11, 12]])\n",
    "\n",
    "c = np.concatenate((a, b), axis=0)\n",
    "c"
   ]
  },
  {
   "cell_type": "code",
   "execution_count": 93,
   "id": "9836c7ec",
   "metadata": {},
   "outputs": [
    {
     "data": {
      "text/plain": [
       "array([[ 1,  2,  3,  7,  8,  9],\n",
       "       [ 4,  5,  6, 10, 11, 12]])"
      ]
     },
     "execution_count": 93,
     "metadata": {},
     "output_type": "execute_result"
    }
   ],
   "source": [
    "# stack horizontally\n",
    "\n",
    "\n",
    "import numpy as np\n",
    "\n",
    "a = np.array([[1, 2, 3], [4, 5, 6]])\n",
    "b = np.array([[7, 8, 9], [10, 11, 12]])\n",
    "\n",
    "c = np.concatenate((a, b), axis=1)\n",
    "c"
   ]
  },
  {
   "cell_type": "code",
   "execution_count": 2,
   "id": "8c109b7b",
   "metadata": {},
   "outputs": [
    {
     "name": "stdout",
     "output_type": "stream",
     "text": [
      "[[ 1  2  3]\n",
      " [ 4  5  6]\n",
      " [ 7  8  9]\n",
      " [10 11 12]]\n"
     ]
    }
   ],
   "source": [
    "import numpy as np\n",
    "\n",
    "a = np.array([[1, 2, 3], [4, 5, 6]])\n",
    "b = np.array([[7, 8, 9], [10, 11, 12]])\n",
    "c = np.vstack((a,b))\n",
    "print(c)"
   ]
  },
  {
   "cell_type": "code",
   "execution_count": 3,
   "id": "e66ed7cc",
   "metadata": {},
   "outputs": [
    {
     "name": "stdout",
     "output_type": "stream",
     "text": [
      "[[ 1  2  3  7  8  9]\n",
      " [ 4  5  6 10 11 12]]\n"
     ]
    }
   ],
   "source": [
    "import numpy as np\n",
    "\n",
    "a = np.array([[1, 2, 3], \n",
    "              [4, 5, 6]])\n",
    "\n",
    "b = np.array([[7, 8, 9], \n",
    "              [10, 11, 12]])\n",
    "\n",
    "c = np.hstack((a,b))\n",
    "print(c)"
   ]
  },
  {
   "cell_type": "markdown",
   "id": "600eed24",
   "metadata": {},
   "source": [
    "hstack to join numpy arrays horizontally(axis = 1), \n",
    "When we say \"stacking arrays along the second axis\", we mean that we are concatenating \n",
    "the arrays horizontally, such that the columns of one array are appended to the right of\n",
    "the columns of another array. In other words, \n",
    "we are stacking the arrays \"side by side\"."
   ]
  },
  {
   "cell_type": "code",
   "execution_count": 92,
   "id": "dc8af0b6",
   "metadata": {},
   "outputs": [
    {
     "data": {
      "text/plain": [
       "array([[ 1,  2,  3,  4,  5,  6,  7,  8,  9, 67]])"
      ]
     },
     "execution_count": 92,
     "metadata": {},
     "output_type": "execute_result"
    }
   ],
   "source": [
    "import numpy as np\n",
    "dat = np.loadtxt('C:/Users/pawar/Videos/data.txt', delimiter=',')\n",
    "d = np.array([[1,2,3,4,5]])\n",
    "r = np.array([[6,7,8,9,67]])\n",
    "a = np.hstack((d,r))\n",
    "a"
   ]
  },
  {
   "cell_type": "code",
   "execution_count": 94,
   "id": "746bed1b",
   "metadata": {},
   "outputs": [
    {
     "data": {
      "text/plain": [
       "array([[ 1,  2,  3,  4,  5],\n",
       "       [ 6,  7,  8,  9, 67]])"
      ]
     },
     "execution_count": 94,
     "metadata": {},
     "output_type": "execute_result"
    }
   ],
   "source": [
    "import numpy as np\n",
    "dat = np.loadtxt('C:/Users/pawar/Videos/data.txt', delimiter=',')\n",
    "d = np.array([[1,2,3,4,5]])\n",
    "r = np.array([[6,7,8,9,67]])\n",
    "a = np.vstack((d,r))\n",
    "a"
   ]
  },
  {
   "cell_type": "markdown",
   "id": "b5d7986b",
   "metadata": {},
   "source": [
    "why we are processing the image\n",
    "There are many reasons why we process images, including:\n",
    "\n",
    "Enhancing the quality of the image: Image processing techniques can be used to improve the quality of an image, such as removing noise, adjusting brightness and contrast, and sharpening edges.\n",
    "\n",
    "Extracting useful information: Image processing can help extract useful information from an image, such as identifying objects or patterns, detecting features, and measuring properties of the image.\n",
    "\n",
    "Compression: Images can be compressed using image processing techniques to reduce their file size while maintaining image quality. This is useful for storing and transmitting large amounts of image data more efficiently.\n",
    "\n",
    "Image recognition and computer vision: Image processing techniques are used extensively in computer vision and image recognition applications, such as face recognition, object detection, and autonomous vehicles.\n",
    "\n",
    "Artistic effects: Image processing techniques can also be used for artistic purposes, such as applying filters, creating collages, and modifying colors.\n",
    "\n",
    "Overall, image processing is a powerful tool that can be used to manipulate, enhance, and extract useful information from images, making them more useful and informative in a wide range of applications."
   ]
  },
  {
   "cell_type": "code",
   "execution_count": 2,
   "id": "7e6aee64",
   "metadata": {},
   "outputs": [
    {
     "name": "stdout",
     "output_type": "stream",
     "text": [
      "[[186 178 175 ... 182 182 182]\n",
      " [186 178 175 ... 183 182 182]\n",
      " [186 180 179 ... 182 182 182]\n",
      " ...\n",
      " [173 170 175 ...  61  34  68]\n",
      " [171 169 174 ...  66  39  68]\n",
      " [173 171 176 ...  64  34  66]]\n"
     ]
    }
   ],
   "source": [
    "import cv2\n",
    "import numpy as np\n",
    "img = cv2.imread(r'D:\\DEEP_CERTIFICATE\\photo (2).png', cv2.IMREAD_GRAYSCALE)\n",
    "cv2.imshow('photo (2).png', img)\n",
    "# resized_img = cv2.resize(img, (500, 500))  # Resize to a fixed size\n",
    "# cv2.imshow('Image', resized_img)\n",
    "s = np.array(img)\n",
    "print(s)\n",
    "cv2.waitKey(0)\n",
    "cv2.destroyAllWindows()\n",
    "\n",
    "\n",
    "\n"
   ]
  },
  {
   "cell_type": "code",
   "execution_count": 7,
   "id": "d20f2a88",
   "metadata": {},
   "outputs": [
    {
     "data": {
      "text/plain": [
       "(757, 615)"
      ]
     },
     "execution_count": 7,
     "metadata": {},
     "output_type": "execute_result"
    }
   ],
   "source": [
    "np.shape(s)"
   ]
  },
  {
   "cell_type": "code",
   "execution_count": 10,
   "id": "bf5d84a4",
   "metadata": {},
   "outputs": [
    {
     "data": {
      "text/plain": [
       "array([127209, 127351, 127304, 127239, 127521, 127624, 127598, 127476,\n",
       "       127654, 127593, 127371, 127100, 127187, 127215, 127119, 127101,\n",
       "       126945, 126685, 126398, 126371, 126254, 126291, 125664, 123718,\n",
       "       119915, 114098, 110959, 112344, 112849, 112727, 112506, 112455,\n",
       "       112450, 112146, 112051, 112062, 112043, 111627, 111571, 111609,\n",
       "       111700, 111654, 111748, 111842, 111852, 111655, 111493, 111745,\n",
       "       111688, 111733, 111725, 111583, 111506, 111623, 111224, 111192,\n",
       "       111219, 111116, 111088, 111042, 111149, 111176, 111080, 110905,\n",
       "       111067, 111189, 111382, 111160, 110976, 110979, 110963, 110900,\n",
       "       110851, 110784, 110625, 110523, 110656, 110551, 110426, 110413,\n",
       "       110286, 110454, 110541, 110329, 110171, 110119, 110184, 110264,\n",
       "       110165, 109820, 109757, 109768, 109699, 109674, 109733, 109712,\n",
       "       109474, 109703, 109819, 109580, 109347, 109598, 110036, 110001,\n",
       "       109931, 109660, 109690, 109467, 109301, 109188, 109136, 108736,\n",
       "       108127, 106881, 104930, 102958, 100965,  99182,  98063,  96979,\n",
       "        95699,  94295,  92988,  91998,  90538,  89191,  86786,  84138,\n",
       "        81459,  79405,  78250,  77281,  76626,  75675,  75300,  75198,\n",
       "        75688,  76788,  78746,  80900,  82577,  83396,  83132,  83072,\n",
       "        83421,  84477,  85542,  86126,  86424,  86679,  86829,  86642,\n",
       "        86637,  86761,  87176,  87297,  87161,  87092,  87098,  87268,\n",
       "        87182,  87089,  87224,  87344,  87450,  87206,  86879,  86837,\n",
       "        86705,  86541,  86369,  86202,  85939,  85735,  85457,  85476,\n",
       "        85446,  85184,  84884,  84533,  84059,  83927,  83870,  83660,\n",
       "        83401,  82842,  82577,  82521,  82278,  82185,  81929,  81432,\n",
       "        81106,  80641,  80394,  79961,  79886,  80100,  80570,  80690,\n",
       "        80834,  80674,  80518,  80494,  79954,  79644,  79703,  79752,\n",
       "        79520,  79425,  79432,  79822,  79947,  79883,  79859,  80021,\n",
       "        80283,  80584,  80939,  81057,  81188,  81180,  80910,  80832,\n",
       "        80654,  80991,  81202,  81204,  81238,  81245,  81090,  80862,\n",
       "        80652,  80376,  80335,  80261,  80302,  80485,  80999,  81546,\n",
       "        81765,  82097,  82428,  82723,  83011,  83458,  83695,  83979,\n",
       "        84121,  84242,  84608,  84956,  85389,  85827,  86064,  86548,\n",
       "        86900,  87033,  87301,  87449,  87683,  87965,  88213,  88362,\n",
       "        88691,  88856,  89039,  89134,  88963,  88907,  89347,  89764,\n",
       "        90028,  90080,  90133,  89928,  89796,  89490,  89411,  89366,\n",
       "        89527,  90093,  90718,  91070,  91375,  91777,  92049,  92298,\n",
       "        92418,  92634,  93150,  93311,  93601,  93878,  94128,  94347,\n",
       "        94610,  94942,  95026,  95187,  95489,  95872,  96081,  96333,\n",
       "        96565,  96670,  96903,  97028,  96978,  97024,  96826,  96759,\n",
       "        96714,  96495,  96397,  96195,  96027,  95699,  95446,  95214,\n",
       "        94978,  94560,  94600,  94577,  94125,  94098,  94338,  94250,\n",
       "        93852,  93795,  93647,  93345,  93397,  93903,  94360,  94445,\n",
       "        94614,  94662,  94653,  94178,  93846,  93644,  93413,  93200,\n",
       "        93081,  92911,  92909,  93000,  92814,  92564,  92225,  92110,\n",
       "        92048,  91962,  91792,  91764,  91558,  91404,  91228,  90932,\n",
       "        90687,  90585,  90474,  90211,  90116,  90010,  89818,  89518,\n",
       "        89392,  89109,  88701,  88013,  87388,  87061,  86560,  86058,\n",
       "        85661,  85473,  85077,  84993,  84750,  84515,  84198,  83861,\n",
       "        83553,  83362,  83272,  83203,  82765,  82626,  82848,  82772,\n",
       "        82692,  82617,  82465,  82445,  82660,  82896,  83219,  83205,\n",
       "        83201,  83492,  83683,  83991,  84054,  84161,  83923,  83807,\n",
       "        84027,  84191,  84229,  84309,  84308,  84091,  84044,  83909,\n",
       "        83999,  84127,  84288,  84260,  84396,  84713,  85297,  85855,\n",
       "        86045,  86082,  86389,  86654,  86774,  87357,  88192,  88514,\n",
       "        88663,  88803,  88413,  88094,  88344,  88807,  88957,  89358,\n",
       "        90069,  90541,  90486,  90075,  89429,  89011,  88353,  87648,\n",
       "        87132,  86390,  85398,  84563,  83985,  83222,  82964,  82677,\n",
       "        82355,  82559,  82903,  83274,  83686,  84021,  83803,  83511,\n",
       "        83248,  82676,  82010,  81447,  80679,  80327,  80150,  79925,\n",
       "        79617,  79016,  78185,  77250,  76671,  76085,  75512,  74826,\n",
       "        74751,  75008,  75077,  75558,  76227,  76776,  77342,  78017,\n",
       "        79225,  80692,  81822,  83140,  84109,  84429,  84787,  85067,\n",
       "        85655,  86581,  87518,  88478,  89352,  90451,  91389,  92352,\n",
       "        93407,  94657,  95501,  96137,  96615,  98044, 100338, 103667,\n",
       "       106516, 108519, 110171, 110967, 111287, 111609, 111840, 111961,\n",
       "       112080, 112064, 112281, 112480, 112726, 112359, 112351, 112474,\n",
       "       112671, 112781, 112680, 112721, 112882, 112819, 112667, 112654,\n",
       "       112735, 112863, 112737, 112805, 112758, 113025, 113308, 113325,\n",
       "       113413, 113514, 113568, 113464, 113316, 113317, 113554, 113665,\n",
       "       113764, 113768, 113781, 113709, 113525, 113533, 113693, 113839,\n",
       "       114067, 114228, 113963, 114071, 114292, 114145, 114125, 113917,\n",
       "       114046, 114242, 114332, 114078, 114187, 114254, 114197, 114294,\n",
       "       114166, 114319, 114200, 114258, 114417, 114400, 114467, 114563,\n",
       "       114604, 114647, 114533, 114766, 114976, 115092, 114925, 114711,\n",
       "       114915, 115135, 115338, 115299, 115342, 115389, 115394, 115329,\n",
       "       115337, 115271, 115584, 115487, 115605, 115718, 115858, 116025,\n",
       "       116011, 116367, 116682, 116245, 113766, 115565, 124762],\n",
       "      dtype=uint32)"
      ]
     },
     "execution_count": 10,
     "metadata": {},
     "output_type": "execute_result"
    }
   ],
   "source": [
    "d = np.sum(s,axis = 0)\n",
    "d"
   ]
  },
  {
   "cell_type": "markdown",
   "id": "7bb92790",
   "metadata": {},
   "source": [
    "What is computer vision? Computer vision is a field of artificial intelligence (AI) \n",
    "that enables computers and systems to derive meaningful information from digital images, \n",
    "videos and other visual inputs — and\n",
    "take actions or make recommendations based on that information.\n"
   ]
  },
  {
   "cell_type": "code",
   "execution_count": 18,
   "id": "19a0bfa6",
   "metadata": {},
   "outputs": [
    {
     "name": "stdout",
     "output_type": "stream",
     "text": [
      "[1 2 3 4 5 6 7]\n"
     ]
    }
   ],
   "source": [
    "import numpy as np\n",
    "\n",
    "a = np.array([1, 2, 3, 4, 5])\n",
    "b = np.array([3, 4, 5, 6, 7])\n",
    "\n",
    "intersection = np.union1d(a, b)\n",
    "print(intersection)"
   ]
  },
  {
   "cell_type": "markdown",
   "id": "7da2eaee",
   "metadata": {},
   "source": [
    "The union of two sets is a set that contains all the elements that are in either set. In other words, the union of two sets is the combination of all elements from both sets, without any duplicates.\n",
    "\n",
    "The intersection of two sets is a set that contains all the elements that are common to both sets. In other words, the intersection of two sets is the set of elements that are present in both sets."
   ]
  },
  {
   "cell_type": "code",
   "execution_count": 19,
   "id": "88bd214a",
   "metadata": {},
   "outputs": [
    {
     "name": "stdout",
     "output_type": "stream",
     "text": [
      "[3 4 5]\n"
     ]
    }
   ],
   "source": [
    "import numpy as np\n",
    "\n",
    "a = np.array([1, 2, 3, 4, 5])\n",
    "b = np.array([3, 4, 5, 6, 7])\n",
    "\n",
    "intersection = np.intersect1d(a, b)\n",
    "print(intersection)"
   ]
  },
  {
   "cell_type": "code",
   "execution_count": 20,
   "id": "03bd9cf7",
   "metadata": {},
   "outputs": [
    {
     "name": "stdout",
     "output_type": "stream",
     "text": [
      "[[1 2 3]\n",
      " [2 3 4]]\n",
      "\n",
      "[[3 4 5]\n",
      " [8 9 7]]\n",
      "\n",
      "[3 4]\n"
     ]
    }
   ],
   "source": [
    "import numpy as np\n",
    "\n",
    "a = np.array([[1, 2, 3],\n",
    "              [2,3,4]])\n",
    "\n",
    "b = np.array([[3, 4, 5],\n",
    "              [8,9,7]])\n",
    "\n",
    "print(a)\n",
    "print()\n",
    "print(b)\n",
    "print()\n",
    "intersection = np.intersect1d(a, b)\n",
    "print(intersection)"
   ]
  },
  {
   "cell_type": "code",
   "execution_count": 22,
   "id": "d758dec9",
   "metadata": {},
   "outputs": [
    {
     "name": "stdout",
     "output_type": "stream",
     "text": [
      "2.5\n"
     ]
    }
   ],
   "source": [
    "print(np.mean(a))"
   ]
  },
  {
   "cell_type": "code",
   "execution_count": 23,
   "id": "e88bbaf1",
   "metadata": {},
   "outputs": [
    {
     "data": {
      "text/plain": [
       "2.5"
      ]
     },
     "execution_count": 23,
     "metadata": {},
     "output_type": "execute_result"
    }
   ],
   "source": [
    "15/6"
   ]
  },
  {
   "cell_type": "markdown",
   "id": "0a88162f",
   "metadata": {},
   "source": [
    "### Standard Deviation"
   ]
  },
  {
   "cell_type": "code",
   "execution_count": 33,
   "id": "3e48f05f",
   "metadata": {},
   "outputs": [
    {
     "name": "stdout",
     "output_type": "stream",
     "text": [
      "0.9574271077563381\n"
     ]
    }
   ],
   "source": [
    "print(np.std(a))"
   ]
  },
  {
   "cell_type": "markdown",
   "id": "fa56fa75",
   "metadata": {},
   "source": [
    "The formula for the standard deviation is:\n",
    "\n",
    "Standard deviation (σ) = sqrt[ Σ(x - μ)² / N ]\n",
    "\n",
    "where:\n",
    "\n",
    "x is each data point in the dataset\n",
    "μ is the mean (average) of the dataset\n",
    "N is the total number of data points in the dataset."
   ]
  },
  {
   "cell_type": "markdown",
   "id": "66f7adee",
   "metadata": {},
   "source": [
    "----------------------------------------------------------"
   ]
  },
  {
   "cell_type": "markdown",
   "id": "0449e32f",
   "metadata": {},
   "source": [
    "Calculate the mean of the data:\n",
    "\n",
    "Mean = (1+2+3+2+3+4)/6 = 2.5\n",
    "\n",
    "Calculate the difference between each data point and the mean:\n",
    "\n",
    "For the first row: (1-2.5), (2-2.5), (3-2.5)\n",
    "\n",
    "For the second row: (2-2.5), (3-2.5), (4-2.5)\n",
    "\n",
    "These differences are: -1.5, -0.5, 0.5, -0.5, 0.5, 1.5\n",
    "\n",
    "Calculate the square of each difference:\n",
    "\n",
    "(-1.5)^2, (-0.5)^2, (0.5)^2, (-0.5)^2, (0.5)^2, (1.5)^2\n",
    "\n",
    "These values are: 2.25, 0.25, 0.25, 0.25, 0.25, 2.25\n",
    "\n",
    "(2.25+0.25+0.25+0.25+0.25+2.25)/6 = 0.92666\n",
    "\n",
    "import math\n",
    "math.sqrt(0.92666)\n",
    "\n",
    "ans is 0.962\n"
   ]
  },
  {
   "cell_type": "code",
   "execution_count": 34,
   "id": "610bf418",
   "metadata": {},
   "outputs": [
    {
     "name": "stdout",
     "output_type": "stream",
     "text": [
      "2.5\n"
     ]
    }
   ],
   "source": [
    "print(np.median(a))"
   ]
  },
  {
   "cell_type": "code",
   "execution_count": null,
   "id": "a297ee71",
   "metadata": {},
   "outputs": [],
   "source": []
  },
  {
   "cell_type": "code",
   "execution_count": null,
   "id": "a388ba49",
   "metadata": {},
   "outputs": [],
   "source": []
  },
  {
   "cell_type": "code",
   "execution_count": null,
   "id": "0460d3b6",
   "metadata": {},
   "outputs": [],
   "source": []
  },
  {
   "cell_type": "code",
   "execution_count": 27,
   "id": "7af738d4",
   "metadata": {},
   "outputs": [],
   "source": [
    "arr = np.save(\"saving by name\",a)\n",
    "loads = np.load('saving by name.npy')"
   ]
  },
  {
   "cell_type": "code",
   "execution_count": 28,
   "id": "a18df1f3",
   "metadata": {},
   "outputs": [
    {
     "data": {
      "text/plain": [
       "array([[1, 2, 3],\n",
       "       [2, 3, 4]])"
      ]
     },
     "execution_count": 28,
     "metadata": {},
     "output_type": "execute_result"
    }
   ],
   "source": [
    "loads"
   ]
  },
  {
   "cell_type": "code",
   "execution_count": 29,
   "id": "a31db4de",
   "metadata": {},
   "outputs": [
    {
     "data": {
      "text/plain": [
       "0.9166666666666666"
      ]
     },
     "execution_count": 29,
     "metadata": {},
     "output_type": "execute_result"
    }
   ],
   "source": [
    "(2.25+0.25+0.25+0.25+0.25+2.25)/6"
   ]
  },
  {
   "cell_type": "code",
   "execution_count": 35,
   "id": "bd897078",
   "metadata": {},
   "outputs": [
    {
     "data": {
      "text/plain": [
       "0.9626318091565436"
      ]
     },
     "execution_count": 35,
     "metadata": {},
     "output_type": "execute_result"
    }
   ],
   "source": [
    "import math\n",
    "math.sqrt(0.92666)"
   ]
  },
  {
   "cell_type": "code",
   "execution_count": null,
   "id": "0370e4c0",
   "metadata": {},
   "outputs": [],
   "source": []
  }
 ],
 "metadata": {
  "kernelspec": {
   "display_name": "Python 3 (ipykernel)",
   "language": "python",
   "name": "python3"
  },
  "language_info": {
   "codemirror_mode": {
    "name": "ipython",
    "version": 3
   },
   "file_extension": ".py",
   "mimetype": "text/x-python",
   "name": "python",
   "nbconvert_exporter": "python",
   "pygments_lexer": "ipython3",
   "version": "3.9.13"
  }
 },
 "nbformat": 4,
 "nbformat_minor": 5
}
