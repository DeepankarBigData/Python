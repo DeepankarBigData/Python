{
 "cells": [
  {
   "cell_type": "markdown",
   "id": "b0aac02a",
   "metadata": {},
   "source": [
    "### normal scenario"
   ]
  },
  {
   "cell_type": "code",
   "execution_count": 42,
   "id": "54fc179c",
   "metadata": {},
   "outputs": [],
   "source": [
    "lst1 = [1,2,3,4]\n",
    "lst2=lst1"
   ]
  },
  {
   "cell_type": "code",
   "execution_count": 43,
   "id": "0b9c5f4b",
   "metadata": {},
   "outputs": [],
   "source": [
    "lst2[1]=1000"
   ]
  },
  {
   "cell_type": "code",
   "execution_count": 44,
   "id": "b26da5b5",
   "metadata": {},
   "outputs": [
    {
     "data": {
      "text/plain": [
       "[1, 1000, 3, 4]"
      ]
     },
     "execution_count": 44,
     "metadata": {},
     "output_type": "execute_result"
    }
   ],
   "source": [
    "lst2"
   ]
  },
  {
   "cell_type": "code",
   "execution_count": 45,
   "id": "83cf8f33",
   "metadata": {},
   "outputs": [
    {
     "data": {
      "text/plain": [
       "[1, 1000, 3, 4]"
      ]
     },
     "execution_count": 45,
     "metadata": {},
     "output_type": "execute_result"
    }
   ],
   "source": [
    "lst1"
   ]
  },
  {
   "cell_type": "code",
   "execution_count": 47,
   "id": "d4e9433a",
   "metadata": {},
   "outputs": [
    {
     "data": {
      "text/plain": [
       "(1747520166016, 1747520166016)"
      ]
     },
     "execution_count": 47,
     "metadata": {},
     "output_type": "execute_result"
    }
   ],
   "source": [
    "id(lst1),id(lst2)"
   ]
  },
  {
   "cell_type": "markdown",
   "id": "2a30f6ce",
   "metadata": {},
   "source": [
    "#### both the variables are actually referring same memory locations"
   ]
  },
  {
   "cell_type": "code",
   "execution_count": 67,
   "id": "9269ea05",
   "metadata": {},
   "outputs": [],
   "source": [
    "# shallow copy(we have to compulsorily use .copy operation)\n",
    "\n",
    "lst1 = [1,2,3,4]\n",
    "new_lst2=lst1.copy()\n",
    "\n"
   ]
  },
  {
   "cell_type": "code",
   "execution_count": 68,
   "id": "6bee65cc",
   "metadata": {},
   "outputs": [
    {
     "data": {
      "text/plain": [
       "1747520165888"
      ]
     },
     "execution_count": 68,
     "metadata": {},
     "output_type": "execute_result"
    }
   ],
   "source": [
    "id(lst1)"
   ]
  },
  {
   "cell_type": "code",
   "execution_count": 69,
   "id": "1b8cb6d8",
   "metadata": {},
   "outputs": [
    {
     "data": {
      "text/plain": [
       "1747521241408"
      ]
     },
     "execution_count": 69,
     "metadata": {},
     "output_type": "execute_result"
    }
   ],
   "source": [
    "id(new_lst2)"
   ]
  },
  {
   "cell_type": "code",
   "execution_count": 72,
   "id": "9d50e2a5",
   "metadata": {},
   "outputs": [],
   "source": [
    "new_lst2.append(1000)"
   ]
  },
  {
   "cell_type": "code",
   "execution_count": 73,
   "id": "9e4319e9",
   "metadata": {},
   "outputs": [
    {
     "data": {
      "text/plain": [
       "[1, 2, 3, 4, 1000]"
      ]
     },
     "execution_count": 73,
     "metadata": {},
     "output_type": "execute_result"
    }
   ],
   "source": [
    "new_lst2"
   ]
  },
  {
   "cell_type": "code",
   "execution_count": 74,
   "id": "273e3b24",
   "metadata": {},
   "outputs": [
    {
     "data": {
      "text/plain": [
       "[1, 2, 3, 4, 1000]"
      ]
     },
     "execution_count": 74,
     "metadata": {},
     "output_type": "execute_result"
    }
   ],
   "source": [
    "lst1"
   ]
  },
  {
   "cell_type": "code",
   "execution_count": 75,
   "id": "dba5af95",
   "metadata": {},
   "outputs": [
    {
     "data": {
      "text/plain": [
       "([1, 2, 3, 4, 1000], [1, 2, 3, 4])"
      ]
     },
     "execution_count": 75,
     "metadata": {},
     "output_type": "execute_result"
    }
   ],
   "source": [
    "lst1,lst2"
   ]
  },
  {
   "cell_type": "markdown",
   "id": "b1367ab3",
   "metadata": {},
   "source": [
    "#### DEEP COPY"
   ]
  },
  {
   "cell_type": "code",
   "execution_count": 78,
   "id": "0d06769b",
   "metadata": {},
   "outputs": [],
   "source": [
    "import copy\n",
    "lst1 = [1,2,3,4]\n",
    "new_lst2=copy.deepcopy(lst1)"
   ]
  },
  {
   "cell_type": "code",
   "execution_count": 79,
   "id": "26158d18",
   "metadata": {},
   "outputs": [
    {
     "data": {
      "text/plain": [
       "[1, 2, 3, 4]"
      ]
     },
     "execution_count": 79,
     "metadata": {},
     "output_type": "execute_result"
    }
   ],
   "source": [
    "lst"
   ]
  },
  {
   "cell_type": "code",
   "execution_count": 80,
   "id": "5344cb94",
   "metadata": {},
   "outputs": [
    {
     "data": {
      "text/plain": [
       "[1, 2, 3, 4]"
      ]
     },
     "execution_count": 80,
     "metadata": {},
     "output_type": "execute_result"
    }
   ],
   "source": [
    "lst2"
   ]
  },
  {
   "cell_type": "code",
   "execution_count": 81,
   "id": "d02d08df",
   "metadata": {},
   "outputs": [
    {
     "data": {
      "text/plain": [
       "1747521241664"
      ]
     },
     "execution_count": 81,
     "metadata": {},
     "output_type": "execute_result"
    }
   ],
   "source": [
    "id(lst2)"
   ]
  },
  {
   "cell_type": "code",
   "execution_count": 82,
   "id": "d1da5538",
   "metadata": {},
   "outputs": [
    {
     "data": {
      "text/plain": [
       "1747520440768"
      ]
     },
     "execution_count": 82,
     "metadata": {},
     "output_type": "execute_result"
    }
   ],
   "source": [
    "id(lst1)"
   ]
  },
  {
   "cell_type": "code",
   "execution_count": 83,
   "id": "dc91474b",
   "metadata": {},
   "outputs": [],
   "source": [
    "new_lst2.append(1000)"
   ]
  },
  {
   "cell_type": "code",
   "execution_count": 84,
   "id": "c741cd31",
   "metadata": {},
   "outputs": [
    {
     "data": {
      "text/plain": [
       "[1, 2, 3, 4, 1000]"
      ]
     },
     "execution_count": 84,
     "metadata": {},
     "output_type": "execute_result"
    }
   ],
   "source": [
    "new_lst2"
   ]
  },
  {
   "cell_type": "code",
   "execution_count": 85,
   "id": "eb0303e0",
   "metadata": {},
   "outputs": [
    {
     "data": {
      "text/plain": [
       "[1, 2, 3, 4]"
      ]
     },
     "execution_count": 85,
     "metadata": {},
     "output_type": "execute_result"
    }
   ],
   "source": [
    "lst1"
   ]
  },
  {
   "cell_type": "code",
   "execution_count": 22,
   "id": "f6fac74d",
   "metadata": {},
   "outputs": [],
   "source": [
    "# when you have a single dimension list,deep copy == shallow copy "
   ]
  },
  {
   "cell_type": "code",
   "execution_count": 86,
   "id": "f3e52aea",
   "metadata": {},
   "outputs": [
    {
     "name": "stdout",
     "output_type": "stream",
     "text": [
      "8\n",
      "7\n",
      "9\n",
      "7\n",
      "7\n",
      "7\n",
      "7\n"
     ]
    }
   ],
   "source": [
    "import random as r\n",
    "for i in range(1,9):\n",
    "    f = r.randint(7,9)\n",
    "    print(f)\n",
    "    if f == i:\n",
    "        break;"
   ]
  },
  {
   "cell_type": "code",
   "execution_count": null,
   "id": "da53e66e",
   "metadata": {},
   "outputs": [],
   "source": []
  }
 ],
 "metadata": {
  "kernelspec": {
   "display_name": "Python 3 (ipykernel)",
   "language": "python",
   "name": "python3"
  },
  "language_info": {
   "codemirror_mode": {
    "name": "ipython",
    "version": 3
   },
   "file_extension": ".py",
   "mimetype": "text/x-python",
   "name": "python",
   "nbconvert_exporter": "python",
   "pygments_lexer": "ipython3",
   "version": "3.9.13"
  }
 },
 "nbformat": 4,
 "nbformat_minor": 5
}
