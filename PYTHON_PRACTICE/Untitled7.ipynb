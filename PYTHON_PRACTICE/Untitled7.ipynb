{
 "cells": [
  {
   "cell_type": "markdown",
   "id": "6db67a2c",
   "metadata": {},
   "source": [
    "#### LINEAR SEARCH/sequential search"
   ]
  },
  {
   "cell_type": "code",
   "execution_count": 17,
   "id": "2aa372e7",
   "metadata": {},
   "outputs": [
    {
     "name": "stdout",
     "output_type": "stream",
     "text": [
      "What item do you want to check for in the bag?pen\n",
      "Yes, the item is in the bag\n",
      "index is  2\n"
     ]
    }
   ],
   "source": [
    "def linear_search(item, my_list):\n",
    "    for i, el in enumerate(my_list):\n",
    "        if el == item:\n",
    "            return (True, i)\n",
    "    return (False, -1)\n",
    "\n",
    "bag = ['book', 'pencil', 'pen', 'note book', 'sharpener', 'rubber']\n",
    "item = input('What item do you want to check for in the bag?')\n",
    "\n",
    "found, index = linear_search(item, bag)\n",
    "if found:\n",
    "    print('Yes, the item is in the bag')\n",
    "    print(\"index is \",index)\n",
    "else:\n",
    "    print('Oops, your item seems not to be in the bag')\n"
   ]
  },
  {
   "cell_type": "code",
   "execution_count": 20,
   "id": "ace16037",
   "metadata": {},
   "outputs": [
    {
     "name": "stdout",
     "output_type": "stream",
     "text": [
      "2 is prime number\n",
      "3 is prime number\n",
      "5 is prime number\n",
      "7 is prime number\n",
      "11 is prime number\n",
      "13 is prime number\n",
      "17 is prime number\n",
      "19 is prime number\n",
      "23 is prime number\n",
      "29 is prime number\n",
      "31 is prime number\n",
      "37 is prime number\n",
      "41 is prime number\n",
      "43 is prime number\n",
      "47 is prime number\n",
      "53 is prime number\n",
      "59 is prime number\n",
      "61 is prime number\n",
      "67 is prime number\n",
      "71 is prime number\n",
      "73 is prime number\n",
      "79 is prime number\n",
      "83 is prime number\n",
      "89 is prime number\n",
      "97 is prime number\n",
      "101 is prime number\n",
      "103 is prime number\n",
      "107 is prime number\n",
      "109 is prime number\n",
      "113 is prime number\n",
      "127 is prime number\n",
      "131 is prime number\n",
      "137 is prime number\n",
      "139 is prime number\n",
      "149 is prime number\n",
      "151 is prime number\n",
      "157 is prime number\n",
      "163 is prime number\n",
      "167 is prime number\n",
      "173 is prime number\n",
      "179 is prime number\n",
      "181 is prime number\n",
      "191 is prime number\n",
      "193 is prime number\n",
      "197 is prime number\n",
      "199 is prime number\n",
      "211 is prime number\n",
      "223 is prime number\n",
      "227 is prime number\n",
      "229 is prime number\n",
      "233 is prime number\n",
      "239 is prime number\n",
      "241 is prime number\n",
      "251 is prime number\n",
      "257 is prime number\n",
      "263 is prime number\n",
      "269 is prime number\n",
      "271 is prime number\n",
      "277 is prime number\n",
      "281 is prime number\n",
      "283 is prime number\n",
      "293 is prime number\n",
      "307 is prime number\n",
      "311 is prime number\n",
      "313 is prime number\n",
      "317 is prime number\n",
      "331 is prime number\n",
      "337 is prime number\n",
      "347 is prime number\n",
      "349 is prime number\n",
      "353 is prime number\n",
      "359 is prime number\n",
      "367 is prime number\n",
      "373 is prime number\n",
      "379 is prime number\n",
      "383 is prime number\n",
      "389 is prime number\n",
      "397 is prime number\n",
      "401 is prime number\n",
      "409 is prime number\n",
      "419 is prime number\n",
      "421 is prime number\n",
      "431 is prime number\n",
      "433 is prime number\n",
      "439 is prime number\n",
      "443 is prime number\n",
      "449 is prime number\n",
      "457 is prime number\n",
      "461 is prime number\n",
      "463 is prime number\n",
      "467 is prime number\n",
      "479 is prime number\n",
      "487 is prime number\n",
      "491 is prime number\n",
      "499 is prime number\n",
      "503 is prime number\n",
      "509 is prime number\n",
      "521 is prime number\n",
      "523 is prime number\n",
      "541 is prime number\n",
      "547 is prime number\n",
      "557 is prime number\n",
      "563 is prime number\n",
      "569 is prime number\n",
      "571 is prime number\n",
      "577 is prime number\n",
      "587 is prime number\n",
      "593 is prime number\n",
      "599 is prime number\n",
      "601 is prime number\n",
      "607 is prime number\n",
      "613 is prime number\n",
      "617 is prime number\n",
      "619 is prime number\n",
      "631 is prime number\n",
      "641 is prime number\n",
      "643 is prime number\n",
      "647 is prime number\n",
      "653 is prime number\n",
      "659 is prime number\n",
      "661 is prime number\n",
      "673 is prime number\n",
      "677 is prime number\n",
      "683 is prime number\n",
      "691 is prime number\n",
      "701 is prime number\n",
      "709 is prime number\n",
      "719 is prime number\n",
      "727 is prime number\n",
      "733 is prime number\n",
      "739 is prime number\n",
      "743 is prime number\n",
      "751 is prime number\n",
      "757 is prime number\n",
      "761 is prime number\n",
      "769 is prime number\n",
      "773 is prime number\n",
      "787 is prime number\n",
      "797 is prime number\n",
      "809 is prime number\n",
      "811 is prime number\n",
      "821 is prime number\n",
      "823 is prime number\n",
      "827 is prime number\n",
      "829 is prime number\n",
      "839 is prime number\n",
      "853 is prime number\n",
      "857 is prime number\n",
      "859 is prime number\n",
      "863 is prime number\n",
      "877 is prime number\n",
      "881 is prime number\n",
      "883 is prime number\n",
      "887 is prime number\n",
      "907 is prime number\n",
      "911 is prime number\n",
      "919 is prime number\n",
      "929 is prime number\n",
      "937 is prime number\n",
      "941 is prime number\n",
      "947 is prime number\n",
      "953 is prime number\n",
      "967 is prime number\n",
      "971 is prime number\n",
      "977 is prime number\n",
      "983 is prime number\n",
      "991 is prime number\n",
      "997 is prime number\n"
     ]
    }
   ],
   "source": [
    "for i in range(1,1000):\n",
    "    c = 0\n",
    "    for j in range(1,i+1):\n",
    "        if i%j==0:\n",
    "            c+=1\n",
    "    if c==2:\n",
    "        print(i,\"is prime number\")\n",
    "        "
   ]
  },
  {
   "cell_type": "code",
   "execution_count": 29,
   "id": "d8b34d08",
   "metadata": {},
   "outputs": [
    {
     "name": "stdout",
     "output_type": "stream",
     "text": [
      "2\n"
     ]
    }
   ],
   "source": [
    "from math import floor\n",
    "\n",
    "print(floor(2.48))\n"
   ]
  },
  {
   "cell_type": "code",
   "execution_count": 30,
   "id": "8b9a103d",
   "metadata": {},
   "outputs": [
    {
     "name": "stdout",
     "output_type": "stream",
     "text": [
      "3\n"
     ]
    }
   ],
   "source": [
    "from math import ceil\n",
    "\n",
    "print(ceil(2.48))"
   ]
  },
  {
   "cell_type": "code",
   "execution_count": 11,
   "id": "993b85db",
   "metadata": {},
   "outputs": [
    {
     "name": "stdout",
     "output_type": "stream",
     "text": [
      "0 book\n",
      "1 pencil\n",
      "2 pen\n",
      "3 note book\n",
      "4 sharpener\n",
      "5 rubber\n"
     ]
    }
   ],
   "source": [
    "for i , j in enumerate(bag):\n",
    "    print(i,j)"
   ]
  },
  {
   "cell_type": "code",
   "execution_count": 58,
   "id": "15962de3",
   "metadata": {},
   "outputs": [
    {
     "data": {
      "text/plain": [
       "1"
      ]
     },
     "execution_count": 58,
     "metadata": {},
     "output_type": "execute_result"
    }
   ],
   "source": [
    "def func():\n",
    "    for i in range(1,10):\n",
    "        return 1\n",
    "func()    "
   ]
  },
  {
   "cell_type": "code",
   "execution_count": 61,
   "id": "5879ee2a",
   "metadata": {},
   "outputs": [
    {
     "data": {
      "text/plain": [
       "120"
      ]
     },
     "execution_count": 61,
     "metadata": {},
     "output_type": "execute_result"
    }
   ],
   "source": [
    "def func(n):\n",
    "    if n==1:\n",
    "        return 1\n",
    "    else:\n",
    "        return n*func(n-1)\n",
    "    \n",
    "func(5)    "
   ]
  },
  {
   "cell_type": "code",
   "execution_count": 63,
   "id": "14952056",
   "metadata": {},
   "outputs": [
    {
     "name": "stdout",
     "output_type": "stream",
     "text": [
      "120\n"
     ]
    }
   ],
   "source": [
    "sum = 1\n",
    "for i in range(1,5+1):\n",
    "    sum =sum*i\n",
    "print(sum)    "
   ]
  },
  {
   "cell_type": "code",
   "execution_count": 64,
   "id": "40333bbb",
   "metadata": {
    "collapsed": true
   },
   "outputs": [
    {
     "data": {
      "text/plain": [
       "120"
      ]
     },
     "execution_count": 64,
     "metadata": {},
     "output_type": "execute_result"
    }
   ],
   "source": [
    "5*4*3*2*1"
   ]
  }
 ],
 "metadata": {
  "kernelspec": {
   "display_name": "Python 3 (ipykernel)",
   "language": "python",
   "name": "python3"
  },
  "language_info": {
   "codemirror_mode": {
    "name": "ipython",
    "version": 3
   },
   "file_extension": ".py",
   "mimetype": "text/x-python",
   "name": "python",
   "nbconvert_exporter": "python",
   "pygments_lexer": "ipython3",
   "version": "3.9.13"
  }
 },
 "nbformat": 4,
 "nbformat_minor": 5
}
